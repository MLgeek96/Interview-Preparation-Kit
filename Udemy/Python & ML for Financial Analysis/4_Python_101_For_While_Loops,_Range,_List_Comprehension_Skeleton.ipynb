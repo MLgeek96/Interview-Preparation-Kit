{
  "nbformat": 4,
  "nbformat_minor": 0,
  "metadata": {
    "colab": {
      "name": "4. Python 101 - For While Loops, Range, List Comprehension - Skeleton.ipynb",
      "provenance": [],
      "collapsed_sections": [],
      "include_colab_link": true
    },
    "kernelspec": {
      "name": "python3",
      "display_name": "Python 3"
    }
  },
  "cells": [
    {
      "cell_type": "markdown",
      "metadata": {
        "id": "view-in-github",
        "colab_type": "text"
      },
      "source": [
        "<a href=\"https://colab.research.google.com/github/MLgeek96/Interview-Preparation-Kit/blob/master/Udemy/Python%20%26%20ML%20for%20Financial%20Analysis/4_Python_101_For_While_Loops%2C_Range%2C_List_Comprehension_Skeleton.ipynb\" target=\"_parent\"><img src=\"https://colab.research.google.com/assets/colab-badge.svg\" alt=\"Open In Colab\"/></a>"
      ]
    },
    {
      "cell_type": "markdown",
      "metadata": {
        "id": "BK5uIrxoLRtf"
      },
      "source": [
        "# 1. FOR LOOPS"
      ]
    },
    {
      "cell_type": "code",
      "metadata": {
        "id": "IeM5ykmzHuYB",
        "outputId": "00380aa4-f013-455a-84e2-76fe95fa9975",
        "colab": {
          "base_uri": "https://localhost:8080/",
          "height": 34
        }
      },
      "source": [
        "# For loops are used for iterating over a sequence (a list, a tuple, a dictionary, a set, or a string).\n",
        "# An action can be executed once for each item in a list, tuple of the for loop.\n",
        "my_list = [1, 2, 3 ]\n",
        "my_list"
      ],
      "execution_count": 1,
      "outputs": [
        {
          "output_type": "execute_result",
          "data": {
            "text/plain": [
              "[1, 2, 3]"
            ]
          },
          "metadata": {
            "tags": []
          },
          "execution_count": 1
        }
      ]
    },
    {
      "cell_type": "code",
      "metadata": {
        "id": "R0jpLRvsJ4Yf",
        "outputId": "2924143c-d933-40b3-8e25-a828b4c90c75",
        "colab": {
          "base_uri": "https://localhost:8080/",
          "height": 68
        }
      },
      "source": [
        "for i in my_list:\n",
        "  print(i)"
      ],
      "execution_count": 2,
      "outputs": [
        {
          "output_type": "stream",
          "text": [
            "1\n",
            "2\n",
            "3\n"
          ],
          "name": "stdout"
        }
      ]
    },
    {
      "cell_type": "code",
      "metadata": {
        "id": "a5dXYSWBJ5Ze",
        "outputId": "20d27777-c94b-4af5-9c76-8f06f500f895",
        "colab": {
          "base_uri": "https://localhost:8080/",
          "height": 119
        }
      },
      "source": [
        "# you can do more than one task for every loop such as printing out 'Hello world' \n",
        "for i in my_list:\n",
        "  print(i)\n",
        "  print(\"Hello World\")"
      ],
      "execution_count": 3,
      "outputs": [
        {
          "output_type": "stream",
          "text": [
            "1\n",
            "Hello World\n",
            "2\n",
            "Hello World\n",
            "3\n",
            "Hello World\n"
          ],
          "name": "stdout"
        }
      ]
    },
    {
      "cell_type": "code",
      "metadata": {
        "id": "q76leWB9J5bx",
        "outputId": "9db9f640-a3ea-461d-f90f-9c0bdcc6416f",
        "colab": {
          "base_uri": "https://localhost:8080/",
          "height": 34
        }
      },
      "source": [
        "# List of strings\n",
        "my_list = ['AAPL', 'GOOG', 'T', 'TSLA', 'SP500']\n",
        "my_list"
      ],
      "execution_count": 4,
      "outputs": [
        {
          "output_type": "execute_result",
          "data": {
            "text/plain": [
              "['AAPL', 'GOOG', 'T', 'TSLA', 'SP500']"
            ]
          },
          "metadata": {
            "tags": []
          },
          "execution_count": 4
        }
      ]
    },
    {
      "cell_type": "code",
      "metadata": {
        "id": "DD9E3VLPJ5fo",
        "outputId": "ee001412-e1b5-42c2-874d-b361dc57f408",
        "colab": {
          "base_uri": "https://localhost:8080/",
          "height": 102
        }
      },
      "source": [
        "for i in my_list:\n",
        "  print(i)"
      ],
      "execution_count": 5,
      "outputs": [
        {
          "output_type": "stream",
          "text": [
            "AAPL\n",
            "GOOG\n",
            "T\n",
            "TSLA\n",
            "SP500\n"
          ],
          "name": "stdout"
        }
      ]
    },
    {
      "cell_type": "code",
      "metadata": {
        "id": "2QI7iU17J5j_",
        "outputId": "463e13b4-d8de-464f-b8f9-784a1f2164ad",
        "colab": {
          "base_uri": "https://localhost:8080/",
          "height": 85
        }
      },
      "source": [
        "# you can loop over a string as follows\n",
        "for i in 'TSLA':\n",
        "  print(i)\n",
        "  "
      ],
      "execution_count": 6,
      "outputs": [
        {
          "output_type": "stream",
          "text": [
            "T\n",
            "S\n",
            "L\n",
            "A\n"
          ],
          "name": "stdout"
        }
      ]
    },
    {
      "cell_type": "markdown",
      "metadata": {
        "id": "VHeLtXS0Z5XU"
      },
      "source": [
        "**MINI CHALLENGE #1:**\n",
        "- **Write a code that takes in a string and prints it out on the screen except for any letter 'T'. You can replace the letter 'T' with '*'.**"
      ]
    },
    {
      "cell_type": "code",
      "metadata": {
        "id": "b_NU7mBfa-SB",
        "outputId": "4a4360a1-9715-40b1-9918-c04a4e118eda",
        "colab": {
          "base_uri": "https://localhost:8080/",
          "height": 85
        }
      },
      "source": [
        "for i in 'TSLA':\n",
        "  if i == 'T':\n",
        "    print(\"*\")\n",
        "  else:\n",
        "    print(i)"
      ],
      "execution_count": 7,
      "outputs": [
        {
          "output_type": "stream",
          "text": [
            "*\n",
            "S\n",
            "L\n",
            "A\n"
          ],
          "name": "stdout"
        }
      ]
    },
    {
      "cell_type": "markdown",
      "metadata": {
        "id": "5ShxNDJeLVVo"
      },
      "source": [
        "# 2. RANGE"
      ]
    },
    {
      "cell_type": "code",
      "metadata": {
        "id": "fsH8H4IwJ5mi"
      },
      "source": [
        "# Range() generates a list of numbers, which is used to iterate over with for loops.\n",
        "# range() is 0-index based, meaning list indexes start at 0, not 1. \n",
        "# The last integer generated by range() is up to, but not including, last element. \n",
        "# Example: range(0, 10) generates integers from 0 up to, but not including, 10."
      ],
      "execution_count": 8,
      "outputs": []
    },
    {
      "cell_type": "code",
      "metadata": {
        "id": "LfnqYODNJ5qq",
        "outputId": "3b201dc3-b9c7-4735-85a7-e424d15ffb71",
        "colab": {
          "base_uri": "https://localhost:8080/",
          "height": 119
        }
      },
      "source": [
        "for i in range(6):\n",
        "  print(i)"
      ],
      "execution_count": 9,
      "outputs": [
        {
          "output_type": "stream",
          "text": [
            "0\n",
            "1\n",
            "2\n",
            "3\n",
            "4\n",
            "5\n"
          ],
          "name": "stdout"
        }
      ]
    },
    {
      "cell_type": "code",
      "metadata": {
        "id": "b4XBIA2KJ5pT",
        "outputId": "b68f38a2-f298-4906-9fea-84ec57c285df",
        "colab": {
          "base_uri": "https://localhost:8080/",
          "height": 187
        }
      },
      "source": [
        "# Range of numbers from 1 to 20 with steps of 2\n",
        "for i in range(1, 20, 2):\n",
        "  print(i)"
      ],
      "execution_count": 10,
      "outputs": [
        {
          "output_type": "stream",
          "text": [
            "1\n",
            "3\n",
            "5\n",
            "7\n",
            "9\n",
            "11\n",
            "13\n",
            "15\n",
            "17\n",
            "19\n"
          ],
          "name": "stdout"
        }
      ]
    },
    {
      "cell_type": "code",
      "metadata": {
        "id": "dOpRLPUNJ5iO",
        "outputId": "1022c644-875d-4196-bade-ddc78008b8ad",
        "colab": {
          "base_uri": "https://localhost:8080/",
          "height": 102
        }
      },
      "source": [
        "for i in reversed(range(5)):\n",
        "  print(i)"
      ],
      "execution_count": 11,
      "outputs": [
        {
          "output_type": "stream",
          "text": [
            "4\n",
            "3\n",
            "2\n",
            "1\n",
            "0\n"
          ],
          "name": "stdout"
        }
      ]
    },
    {
      "cell_type": "markdown",
      "metadata": {
        "id": "eRgAw_bLbNBj"
      },
      "source": [
        "**MINI CHALLENGE #2:**\n",
        "- **Write a code that takes in the maximum and minimum limits from the user and prints out even numbers only between the provided range**"
      ]
    },
    {
      "cell_type": "code",
      "metadata": {
        "id": "TzPMQq-obcAI",
        "outputId": "43ae3647-2407-4a63-d194-776f19b7f0bd",
        "colab": {
          "base_uri": "https://localhost:8080/",
          "height": 255
        }
      },
      "source": [
        "min = int(input(\"Enter the price (lower bound)\"))\n",
        "max = int(input(\"Enter the price (upper bound)\"))\n",
        "for i in range(min, max):\n",
        "  if i % 2 == 0:\n",
        "    print(i)"
      ],
      "execution_count": 12,
      "outputs": [
        {
          "output_type": "stream",
          "text": [
            "Enter the price (lower bound)20\n",
            "Enter the price (upper bound)43\n",
            "20\n",
            "22\n",
            "24\n",
            "26\n",
            "28\n",
            "30\n",
            "32\n",
            "34\n",
            "36\n",
            "38\n",
            "40\n",
            "42\n"
          ],
          "name": "stdout"
        }
      ]
    },
    {
      "cell_type": "markdown",
      "metadata": {
        "id": "KoBeo2-NW-IG"
      },
      "source": [
        "**MINI CHALLENGE #3:**\n",
        "- **Write a code that generates the following table:**\n",
        "```\n",
        "1   1    1\n",
        "2   4    8\n",
        "3   9   27\n",
        "4  16   64\n",
        "5  25  125\n",
        "6  36  216\n",
        "7  49  343\n",
        "8  64  512\n",
        "9  81  729\n",
        "10 100 1000\n",
        "```\n",
        "\n",
        "\n"
      ]
    },
    {
      "cell_type": "code",
      "metadata": {
        "id": "ZaDSub034H7g",
        "outputId": "78b63d38-c388-4b0b-fd30-f3a0d5bd8ef0",
        "colab": {
          "base_uri": "https://localhost:8080/",
          "height": 187
        }
      },
      "source": [
        "for i in range(1, 11):\n",
        "  print(\"{} {} {}\".format(i, i**2, i**3))"
      ],
      "execution_count": 13,
      "outputs": [
        {
          "output_type": "stream",
          "text": [
            "1 1 1\n",
            "2 4 8\n",
            "3 9 27\n",
            "4 16 64\n",
            "5 25 125\n",
            "6 36 216\n",
            "7 49 343\n",
            "8 64 512\n",
            "9 81 729\n",
            "10 100 1000\n"
          ],
          "name": "stdout"
        }
      ]
    },
    {
      "cell_type": "markdown",
      "metadata": {
        "id": "7xt72C8NNgN8"
      },
      "source": [
        "# 3. WHILE LOOPS"
      ]
    },
    {
      "cell_type": "code",
      "metadata": {
        "id": "G1Du3nteNlfR",
        "outputId": "17f79125-5a1a-4a23-c7e3-d3d7c27f0e7c",
        "colab": {
          "base_uri": "https://localhost:8080/",
          "height": 289
        }
      },
      "source": [
        "# While loop can be used to execute a set of statements as long as a certain condition holds true.\n",
        "i = 0\n",
        "\n",
        "while i <= 15:\n",
        "  print(i)\n",
        "  i += 1"
      ],
      "execution_count": 14,
      "outputs": [
        {
          "output_type": "stream",
          "text": [
            "0\n",
            "1\n",
            "2\n",
            "3\n",
            "4\n",
            "5\n",
            "6\n",
            "7\n",
            "8\n",
            "9\n",
            "10\n",
            "11\n",
            "12\n",
            "13\n",
            "14\n",
            "15\n"
          ],
          "name": "stdout"
        }
      ]
    },
    {
      "cell_type": "markdown",
      "metadata": {
        "id": "lB2soXiSUWDd"
      },
      "source": [
        "**MINI CHALLENGE #4:**\n",
        "- **Write a code that displays numbers from 1 to 30 using for and while loops**\n"
      ]
    },
    {
      "cell_type": "code",
      "metadata": {
        "id": "RY_3xRVRXWuL",
        "outputId": "f241d05d-61e4-4447-be1b-b7e673817aab",
        "colab": {
          "base_uri": "https://localhost:8080/",
          "height": 527
        }
      },
      "source": [
        "i = 1\n",
        "while i < 31:\n",
        "  print(i)\n",
        "  i += 1\n"
      ],
      "execution_count": 15,
      "outputs": [
        {
          "output_type": "stream",
          "text": [
            "1\n",
            "2\n",
            "3\n",
            "4\n",
            "5\n",
            "6\n",
            "7\n",
            "8\n",
            "9\n",
            "10\n",
            "11\n",
            "12\n",
            "13\n",
            "14\n",
            "15\n",
            "16\n",
            "17\n",
            "18\n",
            "19\n",
            "20\n",
            "21\n",
            "22\n",
            "23\n",
            "24\n",
            "25\n",
            "26\n",
            "27\n",
            "28\n",
            "29\n",
            "30\n"
          ],
          "name": "stdout"
        }
      ]
    },
    {
      "cell_type": "code",
      "metadata": {
        "id": "PAfU1H1R66cV",
        "outputId": "7c387b4b-8ebe-4053-a923-67eb2c8e96ba",
        "colab": {
          "base_uri": "https://localhost:8080/",
          "height": 527
        }
      },
      "source": [
        "for i in range(1, 31):\n",
        "  print(i)"
      ],
      "execution_count": 16,
      "outputs": [
        {
          "output_type": "stream",
          "text": [
            "1\n",
            "2\n",
            "3\n",
            "4\n",
            "5\n",
            "6\n",
            "7\n",
            "8\n",
            "9\n",
            "10\n",
            "11\n",
            "12\n",
            "13\n",
            "14\n",
            "15\n",
            "16\n",
            "17\n",
            "18\n",
            "19\n",
            "20\n",
            "21\n",
            "22\n",
            "23\n",
            "24\n",
            "25\n",
            "26\n",
            "27\n",
            "28\n",
            "29\n",
            "30\n"
          ],
          "name": "stdout"
        }
      ]
    },
    {
      "cell_type": "markdown",
      "metadata": {
        "id": "ZIueG9h3XXTC"
      },
      "source": [
        "**MINI CHALLENGE #5:**\n",
        "- **Create a rolling dice game that assume we have two dice (#1 and #2). The dice is being thrown and a random number is generated everytime. The game should be designed such that it prompts the user to ask if he/she would like to keep playing or exit the game.**"
      ]
    },
    {
      "cell_type": "code",
      "metadata": {
        "id": "e5lIJV7KnV9W",
        "outputId": "27d0aba8-0642-4986-fbd5-6be0f050725b",
        "colab": {
          "base_uri": "https://localhost:8080/",
          "height": 153
        }
      },
      "source": [
        "import random \n",
        "\n",
        "keep_rolling = 'y'\n",
        "\n",
        "while keep_rolling == 'y':\n",
        "  print('Rolling the dice, please wait !!')\n",
        "  print('Rolling results for dice #1', random.randint(1, 6))\n",
        "  print('Rolling results for dice #2', random.randint(1, 6))\n",
        "  keep_rolling = input(\"Do you want to roll again?\")"
      ],
      "execution_count": 17,
      "outputs": [
        {
          "output_type": "stream",
          "text": [
            "Rolling the dice, please wait !!\n",
            "Rolling results for dice #1 6\n",
            "Rolling results for dice #2 4\n",
            "Do you want to roll again?y\n",
            "Rolling the dice, please wait !!\n",
            "Rolling results for dice #1 2\n",
            "Rolling results for dice #2 1\n",
            "Do you want to roll again?n\n"
          ],
          "name": "stdout"
        }
      ]
    },
    {
      "cell_type": "markdown",
      "metadata": {
        "id": "9wunXtl0M9sT"
      },
      "source": [
        "# 4. BREAK A LOOP"
      ]
    },
    {
      "cell_type": "code",
      "metadata": {
        "id": "Zl8mvmT3J5eY"
      },
      "source": [
        "# break() is used to exit a for loop or a while loop\n",
        "# continue() is used to skip the current block, and return to the \"for\" or \"while\" statement."
      ],
      "execution_count": 18,
      "outputs": []
    },
    {
      "cell_type": "code",
      "metadata": {
        "id": "mYbZR3i6NH8k"
      },
      "source": [
        "my_list = ['GOOG', 'AAPL', 'T', 'TSLA', 'SP500']"
      ],
      "execution_count": 19,
      "outputs": []
    },
    {
      "cell_type": "code",
      "metadata": {
        "id": "P0gbDVWVNMzw",
        "outputId": "560b56ba-9dc2-420f-9cdf-0f06fd4605b3",
        "colab": {
          "base_uri": "https://localhost:8080/",
          "height": 34
        }
      },
      "source": [
        "my_list"
      ],
      "execution_count": 20,
      "outputs": [
        {
          "output_type": "execute_result",
          "data": {
            "text/plain": [
              "['GOOG', 'AAPL', 'T', 'TSLA', 'SP500']"
            ]
          },
          "metadata": {
            "tags": []
          },
          "execution_count": 20
        }
      ]
    },
    {
      "cell_type": "code",
      "metadata": {
        "id": "JGerA93sNM4C",
        "outputId": "5ce39ffb-621c-4f81-c998-854155e4509f",
        "colab": {
          "base_uri": "https://localhost:8080/",
          "height": 102
        }
      },
      "source": [
        "# print out all elements in the list\n",
        "for i in my_list:\n",
        "  print(i)"
      ],
      "execution_count": 21,
      "outputs": [
        {
          "output_type": "stream",
          "text": [
            "GOOG\n",
            "AAPL\n",
            "T\n",
            "TSLA\n",
            "SP500\n"
          ],
          "name": "stdout"
        }
      ]
    },
    {
      "cell_type": "code",
      "metadata": {
        "id": "7gsSn9R9NNBH",
        "outputId": "418482be-c507-402a-d07e-149974bdd6be",
        "colab": {
          "base_uri": "https://localhost:8080/",
          "height": 68
        }
      },
      "source": [
        "# print out all elements in the list up until the AT&T stock (Ticker Symbol = T) is detected\n",
        "for i in my_list:\n",
        "  print(i)\n",
        "  if i == 'T':\n",
        "    break\n"
      ],
      "execution_count": 22,
      "outputs": [
        {
          "output_type": "stream",
          "text": [
            "GOOG\n",
            "AAPL\n",
            "T\n"
          ],
          "name": "stdout"
        }
      ]
    },
    {
      "cell_type": "code",
      "metadata": {
        "id": "Rja3f7RiNM_F",
        "outputId": "ecb0eea1-a116-4666-84d1-14a8f6b27c89",
        "colab": {
          "base_uri": "https://localhost:8080/",
          "height": 102
        }
      },
      "source": [
        "# Print only odd elements and skip even numbers\n",
        "my_list = [1, 2, 3, 4, 5, 6, 7, 8, 9, 10]\n",
        "\n",
        "for i in my_list:\n",
        "  if i % 2 == 0:\n",
        "    continue\n",
        "  print(i)\n"
      ],
      "execution_count": 23,
      "outputs": [
        {
          "output_type": "stream",
          "text": [
            "1\n",
            "3\n",
            "5\n",
            "7\n",
            "9\n"
          ],
          "name": "stdout"
        }
      ]
    },
    {
      "cell_type": "markdown",
      "metadata": {
        "id": "JF9CljMnYwEi"
      },
      "source": [
        "**MINI CHALLENGE #6:**\n",
        "- **Write a code that continiously gets data from the user and calculates the average and print out on the screen. The code exits when the user enters 'e'.**"
      ]
    },
    {
      "cell_type": "code",
      "metadata": {
        "id": "ynWaFl9LoIjw",
        "outputId": "3fbe51cf-d82a-4363-8ea9-2033fa3bb366",
        "colab": {
          "base_uri": "https://localhost:8080/",
          "height": 187
        }
      },
      "source": [
        "print('Keep entering numbers and I will display the average for you')\n",
        "\n",
        "sum = 0\n",
        "n = 0\n",
        "\n",
        "while True:\n",
        "  x = input(\"Enter a number: \")\n",
        "  if x == 'e':\n",
        "    break\n",
        "  \n",
        "  x = int(x)\n",
        "  n += 1\n",
        "  sum += x\n",
        "  print(\"Average is {}\".format(sum/n))"
      ],
      "execution_count": 24,
      "outputs": [
        {
          "output_type": "stream",
          "text": [
            "Keep entering numbers and I will display the average for you\n",
            "Enter a number: 20\n",
            "Average is 20.0\n",
            "Enter a number: 40\n",
            "Average is 30.0\n",
            "Enter a number: 60\n",
            "Average is 40.0\n",
            "Enter a number: 100\n",
            "Average is 55.0\n",
            "Enter a number: e\n"
          ],
          "name": "stdout"
        }
      ]
    },
    {
      "cell_type": "markdown",
      "metadata": {
        "id": "22kF_RupOG2o"
      },
      "source": [
        "# 5. NESTED LOOPS"
      ]
    },
    {
      "cell_type": "code",
      "metadata": {
        "id": "rL6xaGIbNM69",
        "outputId": "b42a13dc-331d-43d1-9dca-8706073f06a2",
        "colab": {
          "base_uri": "https://localhost:8080/",
          "height": 527
        }
      },
      "source": [
        "# Nested loops are loops that exist inside the body of another loop\n",
        "for x in range(1, 4): # slow loop\n",
        "  for y in range(1, 11): # fast loop\n",
        "    print('{} * {} = {}'.format(x, y, x*y))"
      ],
      "execution_count": 25,
      "outputs": [
        {
          "output_type": "stream",
          "text": [
            "1 * 1 = 1\n",
            "1 * 2 = 2\n",
            "1 * 3 = 3\n",
            "1 * 4 = 4\n",
            "1 * 5 = 5\n",
            "1 * 6 = 6\n",
            "1 * 7 = 7\n",
            "1 * 8 = 8\n",
            "1 * 9 = 9\n",
            "1 * 10 = 10\n",
            "2 * 1 = 2\n",
            "2 * 2 = 4\n",
            "2 * 3 = 6\n",
            "2 * 4 = 8\n",
            "2 * 5 = 10\n",
            "2 * 6 = 12\n",
            "2 * 7 = 14\n",
            "2 * 8 = 16\n",
            "2 * 9 = 18\n",
            "2 * 10 = 20\n",
            "3 * 1 = 3\n",
            "3 * 2 = 6\n",
            "3 * 3 = 9\n",
            "3 * 4 = 12\n",
            "3 * 5 = 15\n",
            "3 * 6 = 18\n",
            "3 * 7 = 21\n",
            "3 * 8 = 24\n",
            "3 * 9 = 27\n",
            "3 * 10 = 30\n"
          ],
          "name": "stdout"
        }
      ]
    },
    {
      "cell_type": "code",
      "metadata": {
        "id": "Xpe6MiCiNM2L",
        "outputId": "da5ed1b9-b949-401d-9910-39648597e9be",
        "colab": {
          "base_uri": "https://localhost:8080/",
          "height": 170
        }
      },
      "source": [
        "color_list = ['black', 'white', 'gold']\n",
        "phone_list = ['iphone', 'samsung', 'blackberry']\n",
        "\n",
        "for i in color_list:\n",
        "  for j in phone_list:\n",
        "    print(i, j)"
      ],
      "execution_count": 26,
      "outputs": [
        {
          "output_type": "stream",
          "text": [
            "black iphone\n",
            "black samsung\n",
            "black blackberry\n",
            "white iphone\n",
            "white samsung\n",
            "white blackberry\n",
            "gold iphone\n",
            "gold samsung\n",
            "gold blackberry\n"
          ],
          "name": "stdout"
        }
      ]
    },
    {
      "cell_type": "markdown",
      "metadata": {
        "id": "r9D5aZhAfa-O"
      },
      "source": [
        "**MINI CHALLENGE #7:**\n",
        "- **Write a code that takes in a number (range between 1 and 9) from the user and print out the multiplication table up until that number.**"
      ]
    },
    {
      "cell_type": "code",
      "metadata": {
        "id": "LD-wO03co0QI",
        "outputId": "fd766800-c671-4060-a3f8-c90877afdf52",
        "colab": {
          "base_uri": "https://localhost:8080/",
          "height": 1000
        }
      },
      "source": [
        "number = int(input(\"Enter a number between 1 and 9:\"))\n",
        "\n",
        "for x in range(1, number+1):\n",
        "  for y in range(1, 11):\n",
        "    print('{} * {} = {}'.format(x, y, x * y))"
      ],
      "execution_count": 27,
      "outputs": [
        {
          "output_type": "stream",
          "text": [
            "Enter a number between 1 and 9:6\n",
            "1 * 1 = 1\n",
            "1 * 2 = 2\n",
            "1 * 3 = 3\n",
            "1 * 4 = 4\n",
            "1 * 5 = 5\n",
            "1 * 6 = 6\n",
            "1 * 7 = 7\n",
            "1 * 8 = 8\n",
            "1 * 9 = 9\n",
            "1 * 10 = 10\n",
            "2 * 1 = 2\n",
            "2 * 2 = 4\n",
            "2 * 3 = 6\n",
            "2 * 4 = 8\n",
            "2 * 5 = 10\n",
            "2 * 6 = 12\n",
            "2 * 7 = 14\n",
            "2 * 8 = 16\n",
            "2 * 9 = 18\n",
            "2 * 10 = 20\n",
            "3 * 1 = 3\n",
            "3 * 2 = 6\n",
            "3 * 3 = 9\n",
            "3 * 4 = 12\n",
            "3 * 5 = 15\n",
            "3 * 6 = 18\n",
            "3 * 7 = 21\n",
            "3 * 8 = 24\n",
            "3 * 9 = 27\n",
            "3 * 10 = 30\n",
            "4 * 1 = 4\n",
            "4 * 2 = 8\n",
            "4 * 3 = 12\n",
            "4 * 4 = 16\n",
            "4 * 5 = 20\n",
            "4 * 6 = 24\n",
            "4 * 7 = 28\n",
            "4 * 8 = 32\n",
            "4 * 9 = 36\n",
            "4 * 10 = 40\n",
            "5 * 1 = 5\n",
            "5 * 2 = 10\n",
            "5 * 3 = 15\n",
            "5 * 4 = 20\n",
            "5 * 5 = 25\n",
            "5 * 6 = 30\n",
            "5 * 7 = 35\n",
            "5 * 8 = 40\n",
            "5 * 9 = 45\n",
            "5 * 10 = 50\n",
            "6 * 1 = 6\n",
            "6 * 2 = 12\n",
            "6 * 3 = 18\n",
            "6 * 4 = 24\n",
            "6 * 5 = 30\n",
            "6 * 6 = 36\n",
            "6 * 7 = 42\n",
            "6 * 8 = 48\n",
            "6 * 9 = 54\n",
            "6 * 10 = 60\n"
          ],
          "name": "stdout"
        }
      ]
    },
    {
      "cell_type": "markdown",
      "metadata": {
        "id": "2-WphsjVPDiZ"
      },
      "source": [
        "# 6. LIST COMPREHENSION"
      ]
    },
    {
      "cell_type": "code",
      "metadata": {
        "id": "qz9csDMHPNWA",
        "outputId": "b6130250-0326-47a2-ac70-bcb435875e13",
        "colab": {
          "base_uri": "https://localhost:8080/",
          "height": 34
        }
      },
      "source": [
        "# List comprehension is an elegant tool to transform one list into another list. \n",
        "# Instead of using loops and append, list comprehension is used to iterate over a list, condition its elements and include them in a new list.\n",
        "# Let's take a look at the traditional way of taking a list and squaring its elements\n",
        "input_list = [1, 2, 3, 4]\n",
        "output_list = []\n",
        "\n",
        "for element in input_list:\n",
        "  output_list.append(element**2)\n",
        "\n",
        "print(output_list)"
      ],
      "execution_count": 28,
      "outputs": [
        {
          "output_type": "stream",
          "text": [
            "[1, 4, 9, 16]\n"
          ],
          "name": "stdout"
        }
      ]
    },
    {
      "cell_type": "code",
      "metadata": {
        "id": "vw-8Z7adPdTP",
        "outputId": "fbd0cbf8-e6a1-4bcd-b09f-935fc63f324b",
        "colab": {
          "base_uri": "https://localhost:8080/",
          "height": 34
        }
      },
      "source": [
        "# List comprehension is a super powerful one line of code!\n",
        "[element**2 for element in input_list]"
      ],
      "execution_count": 29,
      "outputs": [
        {
          "output_type": "execute_result",
          "data": {
            "text/plain": [
              "[1, 4, 9, 16]"
            ]
          },
          "metadata": {
            "tags": []
          },
          "execution_count": 29
        }
      ]
    },
    {
      "cell_type": "code",
      "metadata": {
        "id": "az-FlBJsPwRh",
        "outputId": "5dde1031-f715-4533-8ae7-f2a1c38e013a",
        "colab": {
          "base_uri": "https://localhost:8080/",
          "height": 34
        }
      },
      "source": [
        "# Let's square even numbers only \n",
        "# We need to insert a condition \n",
        "input_list = [1, 2, 3, 4, 5, 6, 7, 8, 9, 10]\n",
        "output_list = []\n",
        "\n",
        "for i in input_list:\n",
        "  if i % 2 == 0:\n",
        "    output_list.append(i**2)\n",
        "\n",
        "print(output_list)"
      ],
      "execution_count": 30,
      "outputs": [
        {
          "output_type": "stream",
          "text": [
            "[4, 16, 36, 64, 100]\n"
          ],
          "name": "stdout"
        }
      ]
    },
    {
      "cell_type": "code",
      "metadata": {
        "id": "zaREccpfP47m",
        "outputId": "d785bab2-c9cd-4198-fc2b-14f55fd6d52a",
        "colab": {
          "base_uri": "https://localhost:8080/",
          "height": 34
        }
      },
      "source": [
        "# All this could be done with one line of code as well using List Comprehension\n",
        "output_list = [element **2 for element in input_list if element % 2 == 0]\n",
        "print(output_list)"
      ],
      "execution_count": 31,
      "outputs": [
        {
          "output_type": "stream",
          "text": [
            "[4, 16, 36, 64, 100]\n"
          ],
          "name": "stdout"
        }
      ]
    },
    {
      "cell_type": "markdown",
      "metadata": {
        "id": "lIBSXypYX_3O"
      },
      "source": [
        "**MINI CHALLENGE #8:**\n",
        "- **Write a code that takes in a list of prices of a stock for the past 7 days and then normalize the prices** "
      ]
    },
    {
      "cell_type": "code",
      "metadata": {
        "id": "02iEvxCQQyZ7",
        "outputId": "e0f2ae7c-ed79-4873-a13f-e50ce128a631",
        "colab": {
          "base_uri": "https://localhost:8080/",
          "height": 51
        }
      },
      "source": [
        "print(\"Enter a list of past 7-days prices separated by space\")\n",
        "\n",
        "prices = [ int(x) for x in input().split()]"
      ],
      "execution_count": 33,
      "outputs": [
        {
          "output_type": "stream",
          "text": [
            "Enter a list of past 7-days prices separated by space\n",
            "110 120 130 145 137 128 119\n"
          ],
          "name": "stdout"
        }
      ]
    },
    {
      "cell_type": "code",
      "metadata": {
        "id": "CM5_5U6iJreV",
        "outputId": "8073b9b4-8466-4cc2-991b-39db54aa65f9",
        "colab": {
          "base_uri": "https://localhost:8080/",
          "height": 34
        }
      },
      "source": [
        "prices"
      ],
      "execution_count": 34,
      "outputs": [
        {
          "output_type": "execute_result",
          "data": {
            "text/plain": [
              "[110, 120, 130, 145, 137, 128, 119]"
            ]
          },
          "metadata": {
            "tags": []
          },
          "execution_count": 34
        }
      ]
    },
    {
      "cell_type": "code",
      "metadata": {
        "id": "_cTRgATCJv8u",
        "outputId": "3aca4de6-9c03-492a-8c76-5e09fcdb07e3",
        "colab": {
          "base_uri": "https://localhost:8080/",
          "height": 51
        }
      },
      "source": [
        "normalized_prices = [i/prices[0] for i in prices]\n",
        "print('Original prices = {} \\n Normalized prices = {}'.format(prices, normalized_prices))"
      ],
      "execution_count": 35,
      "outputs": [
        {
          "output_type": "stream",
          "text": [
            "Original prices = [110, 120, 130, 145, 137, 128, 119] \n",
            " Normalized prices = [1.0, 1.0909090909090908, 1.1818181818181819, 1.3181818181818181, 1.2454545454545454, 1.1636363636363636, 1.0818181818181818]\n"
          ],
          "name": "stdout"
        }
      ]
    },
    {
      "cell_type": "markdown",
      "metadata": {
        "id": "aXkGeaUza3d0"
      },
      "source": [
        "# MINI CHALLENGE SOLUTION"
      ]
    },
    {
      "cell_type": "markdown",
      "metadata": {
        "id": "Pc-Wifl4a_hA"
      },
      "source": [
        "**MINI CHALLENGE #1:**\n",
        "- **Write a code that takes in a string and prints it out on the screen except for any letter 'T'. You can replace the letter 'T' with '*'.**"
      ]
    },
    {
      "cell_type": "code",
      "metadata": {
        "id": "ZVy77WA2a5QC",
        "outputId": "95dd6b3c-6e64-4e62-f211-9e1fdd2334a8",
        "colab": {
          "base_uri": "https://localhost:8080/",
          "height": 85
        }
      },
      "source": [
        "for letter in 'TSLA':\n",
        "  if letter == 'T':\n",
        "    print('*')\n",
        "  else:\n",
        "   print(letter)"
      ],
      "execution_count": 36,
      "outputs": [
        {
          "output_type": "stream",
          "text": [
            "*\n",
            "S\n",
            "L\n",
            "A\n"
          ],
          "name": "stdout"
        }
      ]
    },
    {
      "cell_type": "markdown",
      "metadata": {
        "id": "9OSRnPn0bf-u"
      },
      "source": [
        "**MINI CHALLENGE #2 SOLUTION:**\n",
        "- **Write a code that takes in the maximum and minimum limits from the user and prints out even numbers only between the provided range**"
      ]
    },
    {
      "cell_type": "code",
      "metadata": {
        "id": "jqQpkqe-bgaW",
        "outputId": "b633f387-b312-456e-8164-f69f4eb1b67e",
        "colab": {
          "base_uri": "https://localhost:8080/",
          "height": 238
        }
      },
      "source": [
        "min = int(input(\"Enter the price (lower bound): \"))\n",
        "max = int(input(\"Enter the price (Upper bound): \"))\n",
        "\n",
        "for i in range(min, max):\n",
        "    if i%2 == 0: \n",
        "        print(i)"
      ],
      "execution_count": 38,
      "outputs": [
        {
          "output_type": "stream",
          "text": [
            "Enter the price (lower bound): 20\n",
            "Enter the price (Upper bound): 41\n",
            "20\n",
            "22\n",
            "24\n",
            "26\n",
            "28\n",
            "30\n",
            "32\n",
            "34\n",
            "36\n",
            "38\n",
            "40\n"
          ],
          "name": "stdout"
        }
      ]
    },
    {
      "cell_type": "markdown",
      "metadata": {
        "id": "L6-jK2s0bwXc"
      },
      "source": [
        "**MINI CHALLENGE #3 SOLUTION:**\n",
        "- **Write a code that generates the following table:**\n",
        "```\n",
        "1   1    1\n",
        "2   4    8\n",
        "3   9   27\n",
        "4  16   64\n",
        "5  25  125\n",
        "6  36  216\n",
        "7  49  343\n",
        "8  64  512\n",
        "9  81  729\n",
        "10 100 1000\n",
        "```\n"
      ]
    },
    {
      "cell_type": "code",
      "metadata": {
        "id": "YU82QHJ9boi2",
        "outputId": "aae5f88e-2170-493b-b917-ac35ac40fef4",
        "colab": {
          "base_uri": "https://localhost:8080/",
          "height": 187
        }
      },
      "source": [
        "for x in range(1, 11):\n",
        "    print('{} {} {}'.format(x, x*x, x*x*x))"
      ],
      "execution_count": 39,
      "outputs": [
        {
          "output_type": "stream",
          "text": [
            "1 1 1\n",
            "2 4 8\n",
            "3 9 27\n",
            "4 16 64\n",
            "5 25 125\n",
            "6 36 216\n",
            "7 49 343\n",
            "8 64 512\n",
            "9 81 729\n",
            "10 100 1000\n"
          ],
          "name": "stdout"
        }
      ]
    },
    {
      "cell_type": "markdown",
      "metadata": {
        "id": "KfpFJ7tBb8RO"
      },
      "source": [
        "**MINI CHALLENGE #4 SOLUTION:**\n",
        "- **Write a code that displays numbers from 1 to 30 (including 30) using for and while loops**"
      ]
    },
    {
      "cell_type": "code",
      "metadata": {
        "id": "UukURLDIb0go",
        "outputId": "9f7fe8b7-0204-4009-f939-258fd9c8d0f9",
        "colab": {
          "base_uri": "https://localhost:8080/",
          "height": 527
        }
      },
      "source": [
        "i = 1\n",
        "while (i < 31):\n",
        "  print (i)\n",
        "  i = i+1"
      ],
      "execution_count": 40,
      "outputs": [
        {
          "output_type": "stream",
          "text": [
            "1\n",
            "2\n",
            "3\n",
            "4\n",
            "5\n",
            "6\n",
            "7\n",
            "8\n",
            "9\n",
            "10\n",
            "11\n",
            "12\n",
            "13\n",
            "14\n",
            "15\n",
            "16\n",
            "17\n",
            "18\n",
            "19\n",
            "20\n",
            "21\n",
            "22\n",
            "23\n",
            "24\n",
            "25\n",
            "26\n",
            "27\n",
            "28\n",
            "29\n",
            "30\n"
          ],
          "name": "stdout"
        }
      ]
    },
    {
      "cell_type": "code",
      "metadata": {
        "id": "iTYnoI4-cES_",
        "outputId": "cc2afb95-4a1a-4b3a-fbe6-4a92931ccf4e",
        "colab": {
          "base_uri": "https://localhost:8080/",
          "height": 527
        }
      },
      "source": [
        "for i in range(1, 31):\n",
        "    print(i)"
      ],
      "execution_count": 41,
      "outputs": [
        {
          "output_type": "stream",
          "text": [
            "1\n",
            "2\n",
            "3\n",
            "4\n",
            "5\n",
            "6\n",
            "7\n",
            "8\n",
            "9\n",
            "10\n",
            "11\n",
            "12\n",
            "13\n",
            "14\n",
            "15\n",
            "16\n",
            "17\n",
            "18\n",
            "19\n",
            "20\n",
            "21\n",
            "22\n",
            "23\n",
            "24\n",
            "25\n",
            "26\n",
            "27\n",
            "28\n",
            "29\n",
            "30\n"
          ],
          "name": "stdout"
        }
      ]
    },
    {
      "cell_type": "markdown",
      "metadata": {
        "id": "YGwSp4VScYc6"
      },
      "source": [
        "**MINI CHALLENGE #5 SOLUTION:**\n",
        "- **Create a rolling dice game that assume we have two dice (#1 and #2). The dice is being thrown and a random number is generated everytime. The game should be designed such that it prompts the user to ask if he/she would like to keep playing or exit the game.**"
      ]
    },
    {
      "cell_type": "code",
      "metadata": {
        "id": "bQizGjKvcRW7",
        "outputId": "7010871d-c79c-4c6f-fed7-05ef370ec0b3",
        "colab": {
          "base_uri": "https://localhost:8080/",
          "height": 153
        }
      },
      "source": [
        "import random\n",
        "\n",
        "keep_rolling = \"y\"\n",
        "\n",
        "while keep_rolling == \"y\":\n",
        "    print(\"Rolling the dices, please wait!...\")\n",
        "    print(\"Rolling results for Dice #1:\", random.randint(1, 6))\n",
        "    print(\"Rolling results for Dice #2:\", random.randint(1, 6))\n",
        "\n",
        "    keep_rolling = input(\"Do you want to roll again?\")"
      ],
      "execution_count": 44,
      "outputs": [
        {
          "output_type": "stream",
          "text": [
            "Rolling the dices, please wait!...\n",
            "Rolling results for Dice #1: 2\n",
            "Rolling results for Dice #2: 5\n",
            "Do you want to roll again?y\n",
            "Rolling the dices, please wait!...\n",
            "Rolling results for Dice #1: 3\n",
            "Rolling results for Dice #2: 2\n",
            "Do you want to roll again?n\n"
          ],
          "name": "stdout"
        }
      ]
    },
    {
      "cell_type": "markdown",
      "metadata": {
        "id": "fhPFAXMFdAgv"
      },
      "source": [
        "**MINI CHALLENGE #6 SOLUTION:**\n",
        "- **Write a code that continiously gets data from the user and calculates the average and print out on the screen. The code exits when the user enters 'e'.**"
      ]
    },
    {
      "cell_type": "code",
      "metadata": {
        "id": "TwdLz4BOcesU",
        "outputId": "9824dbed-898c-4e34-86df-ba4ed919e74a",
        "colab": {
          "base_uri": "https://localhost:8080/",
          "height": 153
        }
      },
      "source": [
        "print(\"Keep entering numbers and I will display the average to you!\")\n",
        "avg = 0\n",
        "n = 0\n",
        "while True:\n",
        "    x = input(\"Enter a number: \")\n",
        "    \n",
        "    # Check if the user wants to exit (i.e.: break the loop)\n",
        "    if x == 'e':\n",
        "      break\n",
        "    \n",
        "    x = int(x)\n",
        "    n = n + 1\n",
        "    \n",
        "    avg =   ((avg * (n - 1) ) + x) / n\n",
        "    print (\"The current average is \", avg)"
      ],
      "execution_count": 45,
      "outputs": [
        {
          "output_type": "stream",
          "text": [
            "Keep entering numbers and I will display the average to you!\n",
            "Enter a number: 30\n",
            "The current average is  30.0\n",
            "Enter a number: 70\n",
            "The current average is  50.0\n",
            "Enter a number: 140\n",
            "The current average is  80.0\n",
            "Enter a number: e\n"
          ],
          "name": "stdout"
        }
      ]
    },
    {
      "cell_type": "markdown",
      "metadata": {
        "id": "Ga5YJU8fhV1V"
      },
      "source": [
        "**MINI CHALLENGE #7 SOLUTION:**\n",
        "- **Write a code that takes in a number (range between 1 and 9) from the user and print out the multiplication table up until that number.**"
      ]
    },
    {
      "cell_type": "code",
      "metadata": {
        "id": "XPRNPUmHddYx",
        "outputId": "39d4c4b3-193a-4ca3-8ae3-af458d619590",
        "colab": {
          "base_uri": "https://localhost:8080/",
          "height": 1000
        }
      },
      "source": [
        "number = int(input(\"Enter a number between 1 and 9: \"))\n",
        "\n",
        "for x in range(1, number+1): # slow loop \n",
        "  for y in range(1, 11):   # fast loop\n",
        "   print('{} x {} = {}'.format(x, y, x*y))"
      ],
      "execution_count": 46,
      "outputs": [
        {
          "output_type": "stream",
          "text": [
            "Enter a number between 1 and 9: 8\n",
            "1 x 1 = 1\n",
            "1 x 2 = 2\n",
            "1 x 3 = 3\n",
            "1 x 4 = 4\n",
            "1 x 5 = 5\n",
            "1 x 6 = 6\n",
            "1 x 7 = 7\n",
            "1 x 8 = 8\n",
            "1 x 9 = 9\n",
            "1 x 10 = 10\n",
            "2 x 1 = 2\n",
            "2 x 2 = 4\n",
            "2 x 3 = 6\n",
            "2 x 4 = 8\n",
            "2 x 5 = 10\n",
            "2 x 6 = 12\n",
            "2 x 7 = 14\n",
            "2 x 8 = 16\n",
            "2 x 9 = 18\n",
            "2 x 10 = 20\n",
            "3 x 1 = 3\n",
            "3 x 2 = 6\n",
            "3 x 3 = 9\n",
            "3 x 4 = 12\n",
            "3 x 5 = 15\n",
            "3 x 6 = 18\n",
            "3 x 7 = 21\n",
            "3 x 8 = 24\n",
            "3 x 9 = 27\n",
            "3 x 10 = 30\n",
            "4 x 1 = 4\n",
            "4 x 2 = 8\n",
            "4 x 3 = 12\n",
            "4 x 4 = 16\n",
            "4 x 5 = 20\n",
            "4 x 6 = 24\n",
            "4 x 7 = 28\n",
            "4 x 8 = 32\n",
            "4 x 9 = 36\n",
            "4 x 10 = 40\n",
            "5 x 1 = 5\n",
            "5 x 2 = 10\n",
            "5 x 3 = 15\n",
            "5 x 4 = 20\n",
            "5 x 5 = 25\n",
            "5 x 6 = 30\n",
            "5 x 7 = 35\n",
            "5 x 8 = 40\n",
            "5 x 9 = 45\n",
            "5 x 10 = 50\n",
            "6 x 1 = 6\n",
            "6 x 2 = 12\n",
            "6 x 3 = 18\n",
            "6 x 4 = 24\n",
            "6 x 5 = 30\n",
            "6 x 6 = 36\n",
            "6 x 7 = 42\n",
            "6 x 8 = 48\n",
            "6 x 9 = 54\n",
            "6 x 10 = 60\n",
            "7 x 1 = 7\n",
            "7 x 2 = 14\n",
            "7 x 3 = 21\n",
            "7 x 4 = 28\n",
            "7 x 5 = 35\n",
            "7 x 6 = 42\n",
            "7 x 7 = 49\n",
            "7 x 8 = 56\n",
            "7 x 9 = 63\n",
            "7 x 10 = 70\n",
            "8 x 1 = 8\n",
            "8 x 2 = 16\n",
            "8 x 3 = 24\n",
            "8 x 4 = 32\n",
            "8 x 5 = 40\n",
            "8 x 6 = 48\n",
            "8 x 7 = 56\n",
            "8 x 8 = 64\n",
            "8 x 9 = 72\n",
            "8 x 10 = 80\n"
          ],
          "name": "stdout"
        }
      ]
    },
    {
      "cell_type": "markdown",
      "metadata": {
        "id": "6eUUTJKEhgzw"
      },
      "source": [
        "**MINI CHALLENGE #8 SOLUTION:**\n",
        "- **Write a code that takes in a list of prices of a stock for the past 7 days and then normalize the prices** "
      ]
    },
    {
      "cell_type": "code",
      "metadata": {
        "id": "G-i-cSuRhiZF",
        "outputId": "751f9306-81af-432e-d303-26ba1b623cd6",
        "colab": {
          "base_uri": "https://localhost:8080/",
          "height": 51
        }
      },
      "source": [
        "print('Enter a list of past 7-days prices separated by a space:')\n",
        "prices = [int(x) for x in input().split()]"
      ],
      "execution_count": 47,
      "outputs": [
        {
          "output_type": "stream",
          "text": [
            "Enter a list of past 7-days prices separated by a space:\n",
            "90 95 93 97 99 102 98\n"
          ],
          "name": "stdout"
        }
      ]
    },
    {
      "cell_type": "code",
      "metadata": {
        "id": "05OwM9e2hsg7",
        "outputId": "da3adcfc-dd55-489d-8d3c-2bb7aabc7af6",
        "colab": {
          "base_uri": "https://localhost:8080/",
          "height": 68
        }
      },
      "source": [
        "normalized_prices = [ (i/prices[0]) for i in prices]\n",
        "print('Orginal Prices: {}\\nNormalized Prices: {}\\n'.format(prices, normalized_prices))"
      ],
      "execution_count": 48,
      "outputs": [
        {
          "output_type": "stream",
          "text": [
            "Orginal Prices: [90, 95, 93, 97, 99, 102, 98]\n",
            "Normalized Prices: [1.0, 1.0555555555555556, 1.0333333333333334, 1.0777777777777777, 1.1, 1.1333333333333333, 1.0888888888888888]\n",
            "\n"
          ],
          "name": "stdout"
        }
      ]
    },
    {
      "cell_type": "code",
      "metadata": {
        "id": "Po4N2n9TSFvL"
      },
      "source": [
        ""
      ],
      "execution_count": null,
      "outputs": []
    }
  ]
}