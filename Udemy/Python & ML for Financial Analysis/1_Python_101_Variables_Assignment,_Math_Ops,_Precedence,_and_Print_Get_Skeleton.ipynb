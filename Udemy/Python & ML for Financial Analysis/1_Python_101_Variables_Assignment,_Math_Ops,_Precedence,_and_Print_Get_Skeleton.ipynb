{
  "nbformat": 4,
  "nbformat_minor": 0,
  "metadata": {
    "colab": {
      "name": "1. Python 101 - Variables Assignment, Math Ops, Precedence, and Print_Get - Skeleton.ipynb",
      "provenance": [],
      "collapsed_sections": [],
      "include_colab_link": true
    },
    "kernelspec": {
      "name": "python3",
      "display_name": "Python 3"
    }
  },
  "cells": [
    {
      "cell_type": "markdown",
      "metadata": {
        "id": "view-in-github",
        "colab_type": "text"
      },
      "source": [
        "<a href=\"https://colab.research.google.com/github/MLgeek96/Interview-Preparation-Kit/blob/master/Udemy/Python%20%26%20ML%20for%20Financial%20Analysis/1_Python_101_Variables_Assignment%2C_Math_Ops%2C_Precedence%2C_and_Print_Get_Skeleton.ipynb\" target=\"_parent\"><img src=\"https://colab.research.google.com/assets/colab-badge.svg\" alt=\"Open In Colab\"/></a>"
      ]
    },
    {
      "cell_type": "markdown",
      "metadata": {
        "id": "B1KBXIYhkuw5"
      },
      "source": [
        "# 1. VARIABLES ASSIGNMENT"
      ]
    },
    {
      "cell_type": "code",
      "metadata": {
        "id": "wsrqiWxMlQcd"
      },
      "source": [
        "# Define a variable named \"portfolio_1\" and assign a number (integer) to it\n",
        "portfolio_1 = 5000"
      ],
      "execution_count": 1,
      "outputs": []
    },
    {
      "cell_type": "code",
      "metadata": {
        "id": "_7BUQ4lalVpE",
        "outputId": "aeeb9455-6a67-46e5-cc7e-5724bc805597",
        "colab": {
          "base_uri": "https://localhost:8080/",
          "height": 34
        }
      },
      "source": [
        "# Let's view \"portfolio_1\"\n",
        "portfolio_1"
      ],
      "execution_count": 2,
      "outputs": [
        {
          "output_type": "execute_result",
          "data": {
            "text/plain": [
              "5000"
            ]
          },
          "metadata": {
            "tags": []
          },
          "execution_count": 2
        }
      ]
    },
    {
      "cell_type": "code",
      "metadata": {
        "id": "5RLjbN6alXBn"
      },
      "source": [
        "# Define a variable named \"portfolio_2\" and assign a number (float) to it\n",
        "portfolio_2 = 2000.5"
      ],
      "execution_count": 3,
      "outputs": []
    },
    {
      "cell_type": "code",
      "metadata": {
        "id": "XaseHcnvlY7V",
        "outputId": "7c2390e7-3be4-4b26-ec63-a519eaca3974",
        "colab": {
          "base_uri": "https://localhost:8080/",
          "height": 34
        }
      },
      "source": [
        "# Let's view \"portfolio_2\"\n",
        "portfolio_2"
      ],
      "execution_count": 4,
      "outputs": [
        {
          "output_type": "execute_result",
          "data": {
            "text/plain": [
              "2000.5"
            ]
          },
          "metadata": {
            "tags": []
          },
          "execution_count": 4
        }
      ]
    },
    {
      "cell_type": "code",
      "metadata": {
        "id": "1treMfL5phXx"
      },
      "source": [
        "# Let's overwrite \"portfolio_2\" (assume your portfolio value increased)\n",
        "portfolio_2 = 3000.5"
      ],
      "execution_count": 5,
      "outputs": []
    },
    {
      "cell_type": "code",
      "metadata": {
        "id": "QaBaDH0fp5cf",
        "outputId": "765ef85f-9471-4861-edbb-62f06510b93e",
        "colab": {
          "base_uri": "https://localhost:8080/",
          "height": 34
        }
      },
      "source": [
        "# Notice that \"portfolio_2\" will only contain the most recent value\n",
        "portfolio_2"
      ],
      "execution_count": 6,
      "outputs": [
        {
          "output_type": "execute_result",
          "data": {
            "text/plain": [
              "3000.5"
            ]
          },
          "metadata": {
            "tags": []
          },
          "execution_count": 6
        }
      ]
    },
    {
      "cell_type": "code",
      "metadata": {
        "id": "fqZRkUkilb-5",
        "outputId": "89f0ed02-3039-4db5-e5db-523ab1609387",
        "colab": {
          "base_uri": "https://localhost:8080/",
          "height": 34
        }
      },
      "source": [
        "# Get the type of \"portfolio_1\" which is integer\n",
        "# integer is a whole number (no decimals) that could be positive or negative\n",
        "type(portfolio_1)"
      ],
      "execution_count": 7,
      "outputs": [
        {
          "output_type": "execute_result",
          "data": {
            "text/plain": [
              "int"
            ]
          },
          "metadata": {
            "tags": []
          },
          "execution_count": 7
        }
      ]
    },
    {
      "cell_type": "code",
      "metadata": {
        "id": "T0Rszu5xlceK",
        "outputId": "10ac91fc-cb93-4cb7-ba5f-f1047d278cda",
        "colab": {
          "base_uri": "https://localhost:8080/",
          "height": 34
        }
      },
      "source": [
        "# Get the type of \"portfolio_2\" which is float\n",
        "# Float are real numbers with a decimal point dividing the integer and fractional parts\n",
        "type(portfolio_2)"
      ],
      "execution_count": 8,
      "outputs": [
        {
          "output_type": "execute_result",
          "data": {
            "text/plain": [
              "float"
            ]
          },
          "metadata": {
            "tags": []
          },
          "execution_count": 8
        }
      ]
    },
    {
      "cell_type": "markdown",
      "metadata": {
        "id": "75YN6NcVlv50"
      },
      "source": [
        "**MINI CHALLENGE #1:**\n",
        "- **We defined a variable AMZN (Ticker symbol for Amazon stock) and we assigned these 3 values listed below to it. Without executing any code cells, what will these lines of code generate?**\n",
        "- **Verify your answer by executing the code cells** \n",
        "\n",
        "\n",
        "\n",
        "```\n",
        "AMZN = 3324\n",
        "AMZN = 3400\n",
        "AMZN = 3530\n",
        "AMZN\n",
        "```\n"
      ]
    },
    {
      "cell_type": "code",
      "metadata": {
        "id": "AbXq1BsUpcpu",
        "outputId": "0e7ef0e5-dbc7-4be1-83bd-2c6dddf1375a",
        "colab": {
          "base_uri": "https://localhost:8080/",
          "height": 34
        }
      },
      "source": [
        "AMZN = 3324\n",
        "AMZN = 3400\n",
        "AMZN = 3530\n",
        "AMZN"
      ],
      "execution_count": 9,
      "outputs": [
        {
          "output_type": "execute_result",
          "data": {
            "text/plain": [
              "3530"
            ]
          },
          "metadata": {
            "tags": []
          },
          "execution_count": 9
        }
      ]
    },
    {
      "cell_type": "markdown",
      "metadata": {
        "id": "m-cJsnjeoFOa"
      },
      "source": [
        "**MINI CHALLENGE #2:**\n",
        "- **We defined a variable AAPL (Ticker symbol for Apple stock) and we assigned these 2 values listed below to it. Without executing any code cells, what will these lines of code generate?**\n",
        "- **Verify your answer by executing the code cells** \n",
        "\n",
        "\n",
        "\n",
        "```\n",
        "AAPL = 112\n",
        "AAPL = 115.3\n",
        "type(AAPL)\n",
        "```\n"
      ]
    },
    {
      "cell_type": "code",
      "metadata": {
        "id": "wjaFVDJ2oESl",
        "outputId": "ecf9a0e2-b534-4c45-bc7a-c6153c387462",
        "colab": {
          "base_uri": "https://localhost:8080/",
          "height": 34
        }
      },
      "source": [
        "AAPL = 112\n",
        "AAPL = 115.3\n",
        "type(AAPL)"
      ],
      "execution_count": 10,
      "outputs": [
        {
          "output_type": "execute_result",
          "data": {
            "text/plain": [
              "float"
            ]
          },
          "metadata": {
            "tags": []
          },
          "execution_count": 10
        }
      ]
    },
    {
      "cell_type": "markdown",
      "metadata": {
        "id": "lsCfJJEkkqGQ"
      },
      "source": [
        "# 2. MATH OPERATIONS"
      ]
    },
    {
      "cell_type": "code",
      "metadata": {
        "id": "vxspxvj2qTrx",
        "outputId": "5ad98905-f439-45b7-ffcc-6a419e0dc71e",
        "colab": {
          "base_uri": "https://localhost:8080/",
          "height": 34
        }
      },
      "source": [
        "# Define a variable named AAPL and initialize it with 5 indicating that we own 5 stocks\n",
        "# Let's assume that we bought an additional stock so now we have 6 stocks instead of 5 \n",
        "# We can increment AAPL by 1 stock as follows:\n",
        "AAPL = 5\n",
        "AAPL = AAPL + 1\n",
        "AAPL"
      ],
      "execution_count": 11,
      "outputs": [
        {
          "output_type": "execute_result",
          "data": {
            "text/plain": [
              "6"
            ]
          },
          "metadata": {
            "tags": []
          },
          "execution_count": 11
        }
      ]
    },
    {
      "cell_type": "code",
      "metadata": {
        "id": "ouiM4Bjar5aG"
      },
      "source": [
        "# Alternatively, we can increment the variable AAPL by 1 as follows:\n",
        "AAPL = 5\n",
        "AAPL += 1"
      ],
      "execution_count": 12,
      "outputs": []
    },
    {
      "cell_type": "code",
      "metadata": {
        "id": "zkO001-qcZc3",
        "outputId": "97db3c04-2210-49f1-d171-a83c85b79626",
        "colab": {
          "base_uri": "https://localhost:8080/",
          "height": 34
        }
      },
      "source": [
        "# Let's assume that the price of AAPL stock is $260 and we currently have 5 AAPL stocks in our portfolio\n",
        "# We can calculate the total portfolio value (account balance) as follows:\n",
        "AAPL_count = 5\n",
        "AAPL_price = 260\n",
        "account_balance = AAPL_count * AAPL_price\n",
        "account_balance"
      ],
      "execution_count": 13,
      "outputs": [
        {
          "output_type": "execute_result",
          "data": {
            "text/plain": [
              "1300"
            ]
          },
          "metadata": {
            "tags": []
          },
          "execution_count": 13
        }
      ]
    },
    {
      "cell_type": "code",
      "metadata": {
        "id": "4bXP93aqejr1",
        "outputId": "0e7d9e8d-f957-4ac5-af0e-9671b2bcd3e2",
        "colab": {
          "base_uri": "https://localhost:8080/",
          "height": 34
        }
      },
      "source": [
        "# Let's assume you have $20000 USD in our account\n",
        "# We want to buy AMZN stocks using the total amount \n",
        "# AMZN stock is priced at $3116 each\n",
        "account_balance = 20000\n",
        "account_balance\t"
      ],
      "execution_count": 14,
      "outputs": [
        {
          "output_type": "execute_result",
          "data": {
            "text/plain": [
              "20000"
            ]
          },
          "metadata": {
            "tags": []
          },
          "execution_count": 14
        }
      ]
    },
    {
      "cell_type": "code",
      "metadata": {
        "id": "Mc569vLOqxzg",
        "outputId": "a8a00bd0-65f6-4252-fd94-ea7b95c372eb",
        "colab": {
          "base_uri": "https://localhost:8080/",
          "height": 34
        }
      },
      "source": [
        "# Divide the account balance by Amazon stock price and place the answer in units\n",
        "AMZN_price = 3116\n",
        "units = account_balance / AMZN_price\n",
        "units"
      ],
      "execution_count": 15,
      "outputs": [
        {
          "output_type": "execute_result",
          "data": {
            "text/plain": [
              "6.418485237483954"
            ]
          },
          "metadata": {
            "tags": []
          },
          "execution_count": 15
        }
      ]
    },
    {
      "cell_type": "markdown",
      "metadata": {
        "id": "8UaT7FRdNnCQ"
      },
      "source": [
        "**MINI CHALLENGE #3:** \n",
        "- **Write a code that calculates the total value of a portfolio assuming that you own 15 Google stocks (Sticker Symbol: GOOG) priced at 1500 each** \n"
      ]
    },
    {
      "cell_type": "code",
      "metadata": {
        "id": "qMFnXorONnoa",
        "outputId": "f5199ad8-ec9d-482b-db75-e707c695172b",
        "colab": {
          "base_uri": "https://localhost:8080/",
          "height": 34
        }
      },
      "source": [
        "GOOG_count = 15 \n",
        "GOOG_price = 1500\n",
        "account_balance = GOOG_count * GOOG_price\n",
        "account_balance"
      ],
      "execution_count": 16,
      "outputs": [
        {
          "output_type": "execute_result",
          "data": {
            "text/plain": [
              "22500"
            ]
          },
          "metadata": {
            "tags": []
          },
          "execution_count": 16
        }
      ]
    },
    {
      "cell_type": "markdown",
      "metadata": {
        "id": "iB_6pgJeNnCV"
      },
      "source": [
        "**MINI CHALLENGE #4:**\n",
        "- **Write a code that takes in Google (GOOG) stock prices at two days and calculate the return:**\n",
        "  - **GOOG price on day 1 = \\$260** \n",
        "  - **GOOG price on day 2 = \\$280**"
      ]
    },
    {
      "cell_type": "code",
      "metadata": {
        "id": "tjV894tO53a5",
        "outputId": "5b29d15d-c9ce-40c1-920d-2e2de511aa30",
        "colab": {
          "base_uri": "https://localhost:8080/",
          "height": 34
        }
      },
      "source": [
        "GOOG_day1 = 260\n",
        "GOOG_day2 = 280\n",
        "price_diff = GOOG_day2 - GOOG_day1 \n",
        "GOOG_return = price_diff / GOOG_day1 * 100\n",
        "GOOG_return"
      ],
      "execution_count": 17,
      "outputs": [
        {
          "output_type": "execute_result",
          "data": {
            "text/plain": [
              "7.6923076923076925"
            ]
          },
          "metadata": {
            "tags": []
          },
          "execution_count": 17
        }
      ]
    },
    {
      "cell_type": "markdown",
      "metadata": {
        "id": "b_4wxmCklMQE"
      },
      "source": [
        "# 3. ORDER OF OPERATIONS (PRECEDENCE)"
      ]
    },
    {
      "cell_type": "code",
      "metadata": {
        "id": "PDPpISzEkov3",
        "outputId": "ba71d359-db91-4d45-ec42-416b782e58a3",
        "colab": {
          "base_uri": "https://localhost:8080/",
          "height": 34
        }
      },
      "source": [
        "# add 3 and 4 and then multiply the answer by 5\n",
        "# Note that parantheses have the highest precedence\n",
        "(3 + 4) * 5"
      ],
      "execution_count": 18,
      "outputs": [
        {
          "output_type": "execute_result",
          "data": {
            "text/plain": [
              "35"
            ]
          },
          "metadata": {
            "tags": []
          },
          "execution_count": 18
        }
      ]
    },
    {
      "cell_type": "code",
      "metadata": {
        "id": "lqvGyX4psG6L",
        "outputId": "9611545d-76a9-419f-f466-ad4ee0ff35e9",
        "colab": {
          "base_uri": "https://localhost:8080/",
          "height": 34
        }
      },
      "source": [
        "# Multiplication has higher precedence compared to addition\n",
        "1 + 2 * 3"
      ],
      "execution_count": 19,
      "outputs": [
        {
          "output_type": "execute_result",
          "data": {
            "text/plain": [
              "7"
            ]
          },
          "metadata": {
            "tags": []
          },
          "execution_count": 19
        }
      ]
    },
    {
      "cell_type": "code",
      "metadata": {
        "id": "Nx2IPN34sI0A",
        "outputId": "19fb8ac3-2af5-409d-dffd-a8932f4f732a",
        "colab": {
          "base_uri": "https://localhost:8080/",
          "height": 34
        }
      },
      "source": [
        "# Division has higher precedence compared to addition\n",
        "16 / 4 + 25 / 5"
      ],
      "execution_count": 20,
      "outputs": [
        {
          "output_type": "execute_result",
          "data": {
            "text/plain": [
              "9.0"
            ]
          },
          "metadata": {
            "tags": []
          },
          "execution_count": 20
        }
      ]
    },
    {
      "cell_type": "code",
      "metadata": {
        "id": "A-sBw_wsdRTc"
      },
      "source": [
        ""
      ],
      "execution_count": 20,
      "outputs": []
    },
    {
      "cell_type": "markdown",
      "metadata": {
        "id": "LD0jeVJddRrf"
      },
      "source": [
        "**MINI CHALLENGE #5:**\n",
        "- **Assume that you own 15 shares of AAPL stock priced at \\$150 a share. Apple announced the launch of 5 new products with exceptional features so the stock price increased to $170 a share. Calculate the total profit.**\n",
        "\n",
        "\n",
        "\n",
        "\n"
      ]
    },
    {
      "cell_type": "code",
      "metadata": {
        "id": "ieENt2DUNwDC",
        "outputId": "384a2e74-de5c-4c10-b4c6-44626aa1b37c",
        "colab": {
          "base_uri": "https://localhost:8080/",
          "height": 34
        }
      },
      "source": [
        "AAPL_new = 170 \n",
        "AAPL_old = 150\n",
        "num_shares = 15\n",
        "\n",
        "total_profit = (AAPL_new - AAPL_old) * num_shares\n",
        "total_profit"
      ],
      "execution_count": 21,
      "outputs": [
        {
          "output_type": "execute_result",
          "data": {
            "text/plain": [
              "300"
            ]
          },
          "metadata": {
            "tags": []
          },
          "execution_count": 21
        }
      ]
    },
    {
      "cell_type": "markdown",
      "metadata": {
        "id": "s79S7MtycPGX"
      },
      "source": [
        "**MINI CHALLENGE #6:** \n",
        "- **Write a code that performs the following mathematical operation: z = |x − y| * (x + y)**"
      ]
    },
    {
      "cell_type": "code",
      "metadata": {
        "id": "yGVvKkDKc0LR",
        "outputId": "482aebd4-8c2c-4ab5-a3bd-3c71a7f3f4a1",
        "colab": {
          "base_uri": "https://localhost:8080/",
          "height": 34
        }
      },
      "source": [
        "x = 4\n",
        "y = 2\n",
        "\n",
        "z = abs(x-y) * (x+y)\n",
        "z"
      ],
      "execution_count": 22,
      "outputs": [
        {
          "output_type": "execute_result",
          "data": {
            "text/plain": [
              "12"
            ]
          },
          "metadata": {
            "tags": []
          },
          "execution_count": 22
        }
      ]
    },
    {
      "cell_type": "markdown",
      "metadata": {
        "id": "Jvxd_A696qnl"
      },
      "source": [
        "# 4. PRINT OPERATION"
      ]
    },
    {
      "cell_type": "code",
      "metadata": {
        "id": "74NV4Ix36wE2",
        "outputId": "760a12e4-cbd4-4f4d-c79a-f8c805f78067",
        "colab": {
          "base_uri": "https://localhost:8080/",
          "height": 35
        }
      },
      "source": [
        "# Print function is used to print elements on the screen\n",
        "# Define a string x \n",
        "# A string in Python is a sequence of characters\n",
        "# String in python are surrounded by single or double quotation marks\n",
        "x = \"Welcome to Python for Finance Course\"\n",
        "x"
      ],
      "execution_count": 23,
      "outputs": [
        {
          "output_type": "execute_result",
          "data": {
            "application/vnd.google.colaboratory.intrinsic+json": {
              "type": "string"
            },
            "text/plain": [
              "'Welcome to Python for Finance Course'"
            ]
          },
          "metadata": {
            "tags": []
          },
          "execution_count": 23
        }
      ]
    },
    {
      "cell_type": "code",
      "metadata": {
        "id": "08UQhKoR8d3H",
        "outputId": "2e886740-2118-4e5c-b60f-ebb73aabc99f",
        "colab": {
          "base_uri": "https://localhost:8080/",
          "height": 34
        }
      },
      "source": [
        "# Obtain the data type for 'x'\n",
        "type(x)"
      ],
      "execution_count": 24,
      "outputs": [
        {
          "output_type": "execute_result",
          "data": {
            "text/plain": [
              "str"
            ]
          },
          "metadata": {
            "tags": []
          },
          "execution_count": 24
        }
      ]
    },
    {
      "cell_type": "code",
      "metadata": {
        "id": "1nHBcL7D61YQ",
        "outputId": "2ec37fef-eda6-46a3-9783-cbf0e2c2930b",
        "colab": {
          "base_uri": "https://localhost:8080/",
          "height": 34
        }
      },
      "source": [
        "# Print x\n",
        "print(x)"
      ],
      "execution_count": 25,
      "outputs": [
        {
          "output_type": "stream",
          "text": [
            "Welcome to Python for Finance Course\n"
          ],
          "name": "stdout"
        }
      ]
    },
    {
      "cell_type": "code",
      "metadata": {
        "id": "7JUqe3DF7WQv"
      },
      "source": [
        "# Define a string and put 'Apple Inc.' in it\n",
        "company_name = 'Apple Inc.'"
      ],
      "execution_count": 26,
      "outputs": []
    },
    {
      "cell_type": "code",
      "metadata": {
        "id": "J_r5_BGt7Wsg",
        "outputId": "02369165-c849-4cee-9077-2ba7d218df17",
        "colab": {
          "base_uri": "https://localhost:8080/",
          "height": 34
        }
      },
      "source": [
        "# The format() method formats the specified value and insert it in the placeholder. \n",
        "# The placeholder is defined using curly braces: {}\n",
        "print('Ticker name for {} is AAPL'.format(company_name))"
      ],
      "execution_count": 27,
      "outputs": [
        {
          "output_type": "stream",
          "text": [
            "Ticker name for Apple Inc. is AAPL\n"
          ],
          "name": "stdout"
        }
      ]
    },
    {
      "cell_type": "code",
      "metadata": {
        "id": "cn5wkGcL7Wqs"
      },
      "source": [
        "shares = 30"
      ],
      "execution_count": 28,
      "outputs": []
    },
    {
      "cell_type": "code",
      "metadata": {
        "id": "mcIEXuw47Wpk",
        "outputId": "0b5d2929-39d5-467e-b71d-5955958782c9",
        "colab": {
          "base_uri": "https://localhost:8080/",
          "height": 34
        }
      },
      "source": [
        "# You can place two or more placeholders with print function \n",
        "print('I own {} shares of {}'.format(shares, company_name))"
      ],
      "execution_count": 29,
      "outputs": [
        {
          "output_type": "stream",
          "text": [
            "I own 30 shares of Apple Inc.\n"
          ],
          "name": "stdout"
        }
      ]
    },
    {
      "cell_type": "markdown",
      "metadata": {
        "id": "__Ybj8rmGKpY"
      },
      "source": [
        "**MINI CHALLENGE #7:**\n",
        "- **Write a code that print out the above statement along with AAPL ticker**\n",
        "- **i.e.: I own 30 shares of Apple Inc.(AAPL)** "
      ]
    },
    {
      "cell_type": "code",
      "metadata": {
        "id": "i6LmOCF6Gd6G",
        "outputId": "006726e2-e787-4869-a3f9-270af27836e9",
        "colab": {
          "base_uri": "https://localhost:8080/",
          "height": 34
        }
      },
      "source": [
        "ticker = 'AAPL'\n",
        "print('I own {} shares of {}({})'.format(shares, company_name, ticker))"
      ],
      "execution_count": 30,
      "outputs": [
        {
          "output_type": "stream",
          "text": [
            "I own 30 shares of Apple Inc.(AAPL)\n"
          ],
          "name": "stdout"
        }
      ]
    },
    {
      "cell_type": "markdown",
      "metadata": {
        "id": "hp9P-qXN-Gll"
      },
      "source": [
        "# 5. GET USER INPUT"
      ]
    },
    {
      "cell_type": "code",
      "metadata": {
        "id": "FFghOQVi7Wh_",
        "outputId": "e01204e0-f507-4b99-f0bd-02f496fd8d0f",
        "colab": {
          "base_uri": "https://localhost:8080/",
          "height": 34
        }
      },
      "source": [
        "# input is a built-in function in python\n",
        "# Get bank client name as an input and print it out on the screen \n",
        "name = input(\"Welcome to the bank, What's your name: \")"
      ],
      "execution_count": 31,
      "outputs": [
        {
          "output_type": "stream",
          "text": [
            "Welcome to the bank, What's your name: Jacson\n"
          ],
          "name": "stdout"
        }
      ]
    },
    {
      "cell_type": "code",
      "metadata": {
        "id": "u4D5GDGP7Wgm",
        "outputId": "07615165-5b1d-40e5-a089-6e0322de9481",
        "colab": {
          "base_uri": "https://localhost:8080/",
          "height": 85
        }
      },
      "source": [
        "# Obtain bank client data such as name, age and assets and print them all out on the screen\n",
        "name = input(\"Welcome to the bank, please enter your name:\")\n",
        "age = input(\"Enter your age: \")\n",
        "networth = input(\"Enter your total networth (asset - liabilities): \")\n",
        "print('My name is {}, I am {} years old, and my estimated networth is {}'.format(name, age, networth))"
      ],
      "execution_count": 32,
      "outputs": [
        {
          "output_type": "stream",
          "text": [
            "Welcome to the bank, please enter your name:Jacson\n",
            "Enter your age: 24\n",
            "Enter your total networth (asset - liabilities): 10000\n",
            "My name is Jacson, I am 24 years old, and my estimated networth is 10000\n"
          ],
          "name": "stdout"
        }
      ]
    },
    {
      "cell_type": "code",
      "metadata": {
        "id": "W6hQp4YP7Wdr",
        "outputId": "b5380a9d-39fc-46aa-ba4f-8aba3508d016",
        "colab": {
          "base_uri": "https://localhost:8080/",
          "height": 68
        }
      },
      "source": [
        "\n",
        "# Obtain user inputs, perform mathematical operation, and print the results \n",
        "# Note: Are you getting an error? Move to the next code cell \n",
        "x = int(input(\"Enter price of AAPL stock today: \"))\n",
        "y = int(input(\"Enter the number of AAPL stocks that you want to buy: \"))\n",
        "print('Total funds required to buy {} shares of AAPL stock at {} dollars is {}'.format(y, x, y * x))"
      ],
      "execution_count": 33,
      "outputs": [
        {
          "output_type": "stream",
          "text": [
            "Enter price of AAPL stock today: 115\n",
            "Enter the number of AAPL stocks that you want to buy: 40\n",
            "Total funds required to buy 40 shares of AAPL stock at 115 dollars is 4600\n"
          ],
          "name": "stdout"
        }
      ]
    },
    {
      "cell_type": "code",
      "metadata": {
        "id": "abPg-86q7Waq",
        "outputId": "e2670f7b-2a89-4c68-c51f-5e8e609ba1b4",
        "colab": {
          "base_uri": "https://localhost:8080/",
          "height": 68
        }
      },
      "source": [
        "# Convert from string datatype to integer datatype prior to performing addition\n",
        "x = input(\"Enter price of AAPL stock today: \")\n",
        "x = int(x)\n",
        "y = input(\"Enter the number of AAPL stocks that you want to buy: \")\n",
        "y = int(y)\n",
        "print('Total funds required to buy {} shares of AAPL stock at {} dollars is {}'.format(y, x, y * x))"
      ],
      "execution_count": 34,
      "outputs": [
        {
          "output_type": "stream",
          "text": [
            "Enter price of AAPL stock today: 95\n",
            "Enter the number of AAPL stocks that you want to buy: 23\n",
            "Total funds required to buy 23 shares of AAPL stock at 95 dollars is 2185\n"
          ],
          "name": "stdout"
        }
      ]
    },
    {
      "cell_type": "markdown",
      "metadata": {
        "id": "L8v5D4y1CIUQ"
      },
      "source": [
        "**MINI CHALLENGE #8:** \n",
        "- **Write a code that takes in the name of the stock, price at which it is selling, the number of stocks that you want to own and prints out the total funds required to buy this stock. Find a sample expected output below:**\n",
        "\n",
        "  - Enter the price of the stock you want to buy: 3000  \n",
        "  - Enter the number of stocks that you want to buy: 5\n",
        "  - Enter the name of the stock that you want to buy: AMZN\n",
        "  - The total funds required to buy 5 number of AMZN stocks at 3000 is 15000\n"
      ]
    },
    {
      "cell_type": "code",
      "metadata": {
        "id": "KIZH0yrfA3F0",
        "outputId": "ab29773f-1b54-4bec-e3e2-4450969aeeff",
        "colab": {
          "base_uri": "https://localhost:8080/",
          "height": 85
        }
      },
      "source": [
        "x = input(\"Enter the price of the stock you want to buy:\")\n",
        "x = int(x)\n",
        "y = input(\"Enter the number of stocks that you want to buy:\")\n",
        "y = int(y)\n",
        "z = input(\"Enter the name of the stock that you want to buy:\")\n",
        "print(\"The total funds required to buy {} number of {} stocks at {} is {}\".format(y, z, x, x*y))"
      ],
      "execution_count": 35,
      "outputs": [
        {
          "output_type": "stream",
          "text": [
            "Enter the price of the stock you want to buy:3000\n",
            "Enter the number of stocks that you want to buy:5\n",
            "Enter the name of the stock that you want to buy:GOOG\n",
            "The total funds required to buy 5 number of GOOG stocks at 3000 is 15000\n"
          ],
          "name": "stdout"
        }
      ]
    },
    {
      "cell_type": "markdown",
      "metadata": {
        "id": "Jm-0XhPntGtK"
      },
      "source": [
        "# EXCELLENT JOB"
      ]
    },
    {
      "cell_type": "markdown",
      "metadata": {
        "id": "_wuaDbzWm-i8"
      },
      "source": [
        "# MINI CHALLENGES SOLUTIONS"
      ]
    },
    {
      "cell_type": "markdown",
      "metadata": {
        "id": "Xq-Y8OW0nG8O"
      },
      "source": [
        "**MINI CHALLENGE #1:**\n",
        "- **We defined a variable AMZN (Ticker symbol for Amazon stock) and we assigned these 3 values listed below to it. Without executing any code cells, what will these lines of code generate?**\n",
        "- **Verify your answer by executing the code cells** \n",
        "\n",
        "\n",
        "\n",
        "```\n",
        "AMZN = 3324\n",
        "AMZN = 3400\n",
        "AMZN = 3530\n",
        "AMZN\n",
        "```\n"
      ]
    },
    {
      "cell_type": "code",
      "metadata": {
        "id": "R_CHNPWbnAf0",
        "outputId": "7a398e6d-b841-49c0-c5e3-41f26dcad056",
        "colab": {
          "base_uri": "https://localhost:8080/",
          "height": 34
        }
      },
      "source": [
        "# The output of this code is 3530\n",
        "# Initially we put 3324 in AMZN, then we overwrite it by placing 3400 in AMZN, and then 3530 in AMZN\n",
        "AMZN = 3324\n",
        "AMZN = 3400\n",
        "AMZN = 3530\n",
        "AMZN"
      ],
      "execution_count": 36,
      "outputs": [
        {
          "output_type": "execute_result",
          "data": {
            "text/plain": [
              "3530"
            ]
          },
          "metadata": {
            "tags": []
          },
          "execution_count": 36
        }
      ]
    },
    {
      "cell_type": "markdown",
      "metadata": {
        "id": "0tFG_HiJoWiM"
      },
      "source": [
        "**MINI CHALLENGE #2:**\n",
        "- **We defined a variable AAPL (Ticker symbol for Apple stock) and we assigned these 2 values listed below to it. Without executing any code cells, what will these lines of code generate?**\n",
        "- **Verify your answer by executing the code cells** \n",
        "\n",
        "\n",
        "\n",
        "```\n",
        "AAPL = 112\n",
        "AAPL = 115.3\n",
        "type(AAPL)\n",
        "```"
      ]
    },
    {
      "cell_type": "code",
      "metadata": {
        "id": "p449NLcAnCbu",
        "outputId": "e2c57873-46a7-461f-8743-ec645fd0a5ce",
        "colab": {
          "base_uri": "https://localhost:8080/",
          "height": 34
        }
      },
      "source": [
        "AAPL = 112\n",
        "AAPL = 115.3\n",
        "type(AAPL)"
      ],
      "execution_count": 37,
      "outputs": [
        {
          "output_type": "execute_result",
          "data": {
            "text/plain": [
              "float"
            ]
          },
          "metadata": {
            "tags": []
          },
          "execution_count": 37
        }
      ]
    },
    {
      "cell_type": "markdown",
      "metadata": {
        "id": "ayH1UnrYYokG"
      },
      "source": [
        "**MINI CHALLENGE #3 SOLUTION:** \n",
        "- **Write a code that calculates the total value of a portfolio assuming that you own 15 Google stocks (Sticker Symbol: GOOG) priced at 1500 each** \n"
      ]
    },
    {
      "cell_type": "code",
      "metadata": {
        "id": "6XGSaa4uoZgs",
        "outputId": "6193bfbe-549c-4750-d5c2-d8286165db98",
        "colab": {
          "base_uri": "https://localhost:8080/",
          "height": 34
        }
      },
      "source": [
        "price  = 1500\n",
        "x  = 15\n",
        "amount = x * price\n",
        "amount"
      ],
      "execution_count": 38,
      "outputs": [
        {
          "output_type": "execute_result",
          "data": {
            "text/plain": [
              "22500"
            ]
          },
          "metadata": {
            "tags": []
          },
          "execution_count": 38
        }
      ]
    },
    {
      "cell_type": "markdown",
      "metadata": {
        "id": "kfyhdekfaUnr"
      },
      "source": [
        "**MINI CHALLENGE #4 SOLUTION:**\n",
        "- **Write a code that takes in Google (GOOG) stock prices at two days and calculate the return:**\n",
        "  - **GOOG price on day 1 = \\$260** \n",
        "  - **GOOG price on day 2 = \\$280**"
      ]
    },
    {
      "cell_type": "code",
      "metadata": {
        "id": "SUdMEr51Y0cR",
        "outputId": "45bcf225-2a69-4084-9373-79346105e21e",
        "colab": {
          "base_uri": "https://localhost:8080/",
          "height": 34
        }
      },
      "source": [
        "GOOG_price_1 = 260\n",
        "GOOG_price_2 = 280\n",
        "\n",
        "price_diff = GOOG_price_2 - GOOG_price_1\n",
        "percentage_change = price_diff / GOOG_price_1 * 100\n",
        "\n",
        "percentage_change"
      ],
      "execution_count": 39,
      "outputs": [
        {
          "output_type": "execute_result",
          "data": {
            "text/plain": [
              "7.6923076923076925"
            ]
          },
          "metadata": {
            "tags": []
          },
          "execution_count": 39
        }
      ]
    },
    {
      "cell_type": "markdown",
      "metadata": {
        "id": "fSJnUnEvdv3T"
      },
      "source": [
        "**MINI CHALLENGE #5 SOLUTION:**\n",
        "- **Assume that you own 15 shares of AAPL stock priced at \\$150 a share. Apple announced the launch of 5 new products with exceptional features so the stock price increased to $170 a share. Calculate the total profit.**\n"
      ]
    },
    {
      "cell_type": "code",
      "metadata": {
        "id": "xf-UX5aFd11W",
        "outputId": "7d455a17-fbcf-4f5c-c9e1-5d5fb2391e30",
        "colab": {
          "base_uri": "https://localhost:8080/",
          "height": 34
        }
      },
      "source": [
        "AAPL_new = 170\n",
        "AAPL_old = 150\n",
        "num_shares = 15\n",
        "profit = (AAPL_new - AAPL_old) * num_shares   \n",
        "profit"
      ],
      "execution_count": 40,
      "outputs": [
        {
          "output_type": "execute_result",
          "data": {
            "text/plain": [
              "300"
            ]
          },
          "metadata": {
            "tags": []
          },
          "execution_count": 40
        }
      ]
    },
    {
      "cell_type": "markdown",
      "metadata": {
        "id": "z0zgdSWqc2oa"
      },
      "source": [
        "**MINI CHALLENGE #6 SOLUTION:** \n",
        "- **Write a code that performs the following mathematical operation: z = |x − y| * (x + y)**"
      ]
    },
    {
      "cell_type": "code",
      "metadata": {
        "id": "zILwh7ILc4kq"
      },
      "source": [
        "x = 4\n",
        "y = 2\n",
        "z = abs(x-y) * (x+y)"
      ],
      "execution_count": 41,
      "outputs": []
    },
    {
      "cell_type": "markdown",
      "metadata": {
        "id": "GSto5juvGlGM"
      },
      "source": [
        "**MINI CHALLENGE #7 SOLUTION:**\n",
        "- **Write a code that print out the above statement along with AAPL ticker**\n",
        "- **i.e.: I own 30 shares of Apple Inc.(AAPL)** "
      ]
    },
    {
      "cell_type": "code",
      "metadata": {
        "id": "6YfhUSPhGn46",
        "outputId": "92afc183-de70-477c-a1e1-7fff3490a08d",
        "colab": {
          "base_uri": "https://localhost:8080/",
          "height": 34
        }
      },
      "source": [
        "ticker = 'AAPL'\n",
        "print(\"I own {} shares of {}({})\".format(shares, company_name, ticker))"
      ],
      "execution_count": 42,
      "outputs": [
        {
          "output_type": "stream",
          "text": [
            "I own 30 shares of Apple Inc.(AAPL)\n"
          ],
          "name": "stdout"
        }
      ]
    },
    {
      "cell_type": "markdown",
      "metadata": {
        "id": "iKU27yueFUoI"
      },
      "source": [
        "**MINI CHALLENGE #8 SOLUTION:** \n",
        "- **Write a code that takes in the name of the stock, price at which it is selling, the number of stocks that you want to own and prints out the total funds required to buy this stock. Find a sample expected output below:**\n",
        "\n",
        "  - Enter the price of the stock you want to buy: 3000  \n",
        "  - Enter the number of stocks that you want to buy: 5\n",
        "  - Enter the name of the stock that you want to buy: AMZN\n",
        "  - The total funds required to buy 5 number of AMZN stocks at 3000 is 15000\n",
        "\n"
      ]
    },
    {
      "cell_type": "code",
      "metadata": {
        "id": "YsOyGpwiFWDK",
        "outputId": "6bc933d6-2e86-4075-aada-76217e62137e",
        "colab": {
          "base_uri": "https://localhost:8080/",
          "height": 85
        }
      },
      "source": [
        "x = input(\"Enter the price of the stock you want to buy: \")\n",
        "x = int(x)\n",
        "y = input(\"Enter the number of stocks that you want to buy: \")\n",
        "y = int(y)\n",
        "z = input(\"Enter the name of the stock that you want to buy: \")\n",
        "print('The total funds required to buy {} number of {} stocks at {} is {}'.format(y,z,x, x*y)) "
      ],
      "execution_count": 44,
      "outputs": [
        {
          "output_type": "stream",
          "text": [
            "Enter the price of the stock you want to buy: 2000\n",
            "Enter the number of stocks that you want to buy: 4\n",
            "Enter the name of the stock that you want to buy: TSLA\n",
            "The total funds required to buy 4 number of TSLA stocks at 2000 is 8000\n"
          ],
          "name": "stdout"
        }
      ]
    },
    {
      "cell_type": "code",
      "metadata": {
        "id": "CDRHLx0Tah7T"
      },
      "source": [
        ""
      ],
      "execution_count": null,
      "outputs": []
    }
  ]
}