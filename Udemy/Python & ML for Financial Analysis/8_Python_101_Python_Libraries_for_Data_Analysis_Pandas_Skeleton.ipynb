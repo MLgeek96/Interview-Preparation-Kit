{
  "nbformat": 4,
  "nbformat_minor": 0,
  "metadata": {
    "colab": {
      "name": "8. Python 101 - Python Libraries for Data Analysis - Pandas Skeleton.ipynb",
      "provenance": [],
      "collapsed_sections": [],
      "include_colab_link": true
    },
    "kernelspec": {
      "name": "python3",
      "display_name": "Python 3"
    }
  },
  "cells": [
    {
      "cell_type": "markdown",
      "metadata": {
        "id": "view-in-github",
        "colab_type": "text"
      },
      "source": [
        "<a href=\"https://colab.research.google.com/github/MLgeek96/Interview-Preparation-Kit/blob/master/Udemy/Python%20%26%20ML%20for%20Financial%20Analysis/8_Python_101_Python_Libraries_for_Data_Analysis_Pandas_Skeleton.ipynb\" target=\"_parent\"><img src=\"https://colab.research.google.com/assets/colab-badge.svg\" alt=\"Open In Colab\"/></a>"
      ]
    },
    {
      "cell_type": "markdown",
      "metadata": {
        "id": "1ivPDcc7p8lD"
      },
      "source": [
        "# 1. PANDAS BASICS"
      ]
    },
    {
      "cell_type": "code",
      "metadata": {
        "id": "4YdCraz8p_XF"
      },
      "source": [
        "# Pandas is a data manipulation and analysis tool that is built on Numpy.\n",
        "# Pandas uses a data structure known as DataFrame (think of it as Microsoft excel in Python). \n",
        "# DataFrames empower programmers to store and manipulate data in a tabular fashion (rows and columns).\n",
        "# Series Vs. DataFrame? Series is considered a single column of a DataFrame."
      ],
      "execution_count": 1,
      "outputs": []
    },
    {
      "cell_type": "code",
      "metadata": {
        "id": "6H2808pkqKIR"
      },
      "source": [
        "import pandas as pd"
      ],
      "execution_count": 2,
      "outputs": []
    },
    {
      "cell_type": "code",
      "metadata": {
        "id": "jHc9-dmUqX48",
        "outputId": "5f9dad17-b4ea-483d-d31b-59c6509365dd",
        "colab": {
          "base_uri": "https://localhost:8080/",
          "height": 34
        }
      },
      "source": [
        "# Let's define two lists as shown below:\n",
        "my_list = ['AAPL', 'AMZN', 'T']\n",
        "my_list"
      ],
      "execution_count": 3,
      "outputs": [
        {
          "output_type": "execute_result",
          "data": {
            "text/plain": [
              "['AAPL', 'AMZN', 'T']"
            ]
          },
          "metadata": {
            "tags": []
          },
          "execution_count": 3
        }
      ]
    },
    {
      "cell_type": "code",
      "metadata": {
        "id": "MU5GA6-EsjJt",
        "outputId": "4fd22742-43c6-477d-f9e5-9bfd72c89a5a",
        "colab": {
          "base_uri": "https://localhost:8080/",
          "height": 34
        }
      },
      "source": [
        "label = [\"stock#1\", \"stock#2\", \"stock#3\"]\n",
        "label"
      ],
      "execution_count": 4,
      "outputs": [
        {
          "output_type": "execute_result",
          "data": {
            "text/plain": [
              "['stock#1', 'stock#2', 'stock#3']"
            ]
          },
          "metadata": {
            "tags": []
          },
          "execution_count": 4
        }
      ]
    },
    {
      "cell_type": "code",
      "metadata": {
        "id": "flWWE-6YqX7Z",
        "outputId": "a3303ed3-d152-4736-8d86-2e8f47044858",
        "colab": {
          "base_uri": "https://localhost:8080/",
          "height": 34
        }
      },
      "source": [
        "type(label)"
      ],
      "execution_count": 5,
      "outputs": [
        {
          "output_type": "execute_result",
          "data": {
            "text/plain": [
              "list"
            ]
          },
          "metadata": {
            "tags": []
          },
          "execution_count": 5
        }
      ]
    },
    {
      "cell_type": "code",
      "metadata": {
        "id": "0mf-BKxQsmKO",
        "outputId": "2a99729e-7a81-4cf9-9a5f-2c1433336988",
        "colab": {
          "base_uri": "https://localhost:8080/",
          "height": 34
        }
      },
      "source": [
        "type(my_list)"
      ],
      "execution_count": 6,
      "outputs": [
        {
          "output_type": "execute_result",
          "data": {
            "text/plain": [
              "list"
            ]
          },
          "metadata": {
            "tags": []
          },
          "execution_count": 6
        }
      ]
    },
    {
      "cell_type": "code",
      "metadata": {
        "id": "U4Fq06XwqX9v"
      },
      "source": [
        "# Let's create a one dimensional Pandas \"series\" \n",
        "# Note that series is formed of data and associated labels \n",
        "x_series = pd.Series(data = my_list, index=label)"
      ],
      "execution_count": 7,
      "outputs": []
    },
    {
      "cell_type": "code",
      "metadata": {
        "id": "YhPzprisqX_8",
        "outputId": "ed307e2a-641c-4324-a927-d060714f2049",
        "colab": {
          "base_uri": "https://localhost:8080/",
          "height": 85
        }
      },
      "source": [
        "# Let's view the series\n",
        "x_series"
      ],
      "execution_count": 8,
      "outputs": [
        {
          "output_type": "execute_result",
          "data": {
            "text/plain": [
              "stock#1    AAPL\n",
              "stock#2    AMZN\n",
              "stock#3       T\n",
              "dtype: object"
            ]
          },
          "metadata": {
            "tags": []
          },
          "execution_count": 8
        }
      ]
    },
    {
      "cell_type": "code",
      "metadata": {
        "id": "4LPwMO8fsvi1",
        "outputId": "4de1160b-046b-443a-a482-d5e0e70f5c5e",
        "colab": {
          "base_uri": "https://localhost:8080/",
          "height": 34
        }
      },
      "source": [
        "# Let's obtain the datatype\n",
        "type(x_series)"
      ],
      "execution_count": 9,
      "outputs": [
        {
          "output_type": "execute_result",
          "data": {
            "text/plain": [
              "pandas.core.series.Series"
            ]
          },
          "metadata": {
            "tags": []
          },
          "execution_count": 9
        }
      ]
    },
    {
      "cell_type": "code",
      "metadata": {
        "id": "YnV7pFX0q3_C",
        "outputId": "15256811-a19b-419a-f342-138ae506cf2d",
        "colab": {
          "base_uri": "https://localhost:8080/",
          "height": 173
        }
      },
      "source": [
        "# Let's define a two-dimensional Pandas DataFrame\n",
        "# Note that you can create a pandas dataframe from a python dictionary\n",
        "bank_client_df = pd.DataFrame({'Bank client ID': [111, 222, 333, 444],\n",
        "                               \"Bank Client Name\": ['Chanel', 'Steve', 'Mitch', 'Ryan'],\n",
        "                               \"Net worth [$]\": [3500, 29000, 10000, 2000],\n",
        "                               \"Years with bank\": [3, 4, 9, 5]})\n",
        "bank_client_df"
      ],
      "execution_count": 10,
      "outputs": [
        {
          "output_type": "execute_result",
          "data": {
            "text/html": [
              "<div>\n",
              "<style scoped>\n",
              "    .dataframe tbody tr th:only-of-type {\n",
              "        vertical-align: middle;\n",
              "    }\n",
              "\n",
              "    .dataframe tbody tr th {\n",
              "        vertical-align: top;\n",
              "    }\n",
              "\n",
              "    .dataframe thead th {\n",
              "        text-align: right;\n",
              "    }\n",
              "</style>\n",
              "<table border=\"1\" class=\"dataframe\">\n",
              "  <thead>\n",
              "    <tr style=\"text-align: right;\">\n",
              "      <th></th>\n",
              "      <th>Bank client ID</th>\n",
              "      <th>Bank Client Name</th>\n",
              "      <th>Net worth [$]</th>\n",
              "      <th>Years with bank</th>\n",
              "    </tr>\n",
              "  </thead>\n",
              "  <tbody>\n",
              "    <tr>\n",
              "      <th>0</th>\n",
              "      <td>111</td>\n",
              "      <td>Chanel</td>\n",
              "      <td>3500</td>\n",
              "      <td>3</td>\n",
              "    </tr>\n",
              "    <tr>\n",
              "      <th>1</th>\n",
              "      <td>222</td>\n",
              "      <td>Steve</td>\n",
              "      <td>29000</td>\n",
              "      <td>4</td>\n",
              "    </tr>\n",
              "    <tr>\n",
              "      <th>2</th>\n",
              "      <td>333</td>\n",
              "      <td>Mitch</td>\n",
              "      <td>10000</td>\n",
              "      <td>9</td>\n",
              "    </tr>\n",
              "    <tr>\n",
              "      <th>3</th>\n",
              "      <td>444</td>\n",
              "      <td>Ryan</td>\n",
              "      <td>2000</td>\n",
              "      <td>5</td>\n",
              "    </tr>\n",
              "  </tbody>\n",
              "</table>\n",
              "</div>"
            ],
            "text/plain": [
              "   Bank client ID Bank Client Name  Net worth [$]  Years with bank\n",
              "0             111           Chanel           3500                3\n",
              "1             222            Steve          29000                4\n",
              "2             333            Mitch          10000                9\n",
              "3             444             Ryan           2000                5"
            ]
          },
          "metadata": {
            "tags": []
          },
          "execution_count": 10
        }
      ]
    },
    {
      "cell_type": "code",
      "metadata": {
        "id": "9LXSKDSTq4Fb",
        "outputId": "9c864fe5-f3ea-4d0e-d1e4-a9e67345454f",
        "colab": {
          "base_uri": "https://localhost:8080/",
          "height": 34
        }
      },
      "source": [
        "# Let's obtain the data type \n",
        "type(bank_client_df)"
      ],
      "execution_count": 11,
      "outputs": [
        {
          "output_type": "execute_result",
          "data": {
            "text/plain": [
              "pandas.core.frame.DataFrame"
            ]
          },
          "metadata": {
            "tags": []
          },
          "execution_count": 11
        }
      ]
    },
    {
      "cell_type": "code",
      "metadata": {
        "id": "h93nb1trtwhu",
        "outputId": "d1fd48ff-2072-430c-95ff-5a2495879caf",
        "colab": {
          "base_uri": "https://localhost:8080/",
          "height": 111
        }
      },
      "source": [
        "# you can only view the first couple of rows using .head()\n",
        "bank_client_df.head(2)"
      ],
      "execution_count": 12,
      "outputs": [
        {
          "output_type": "execute_result",
          "data": {
            "text/html": [
              "<div>\n",
              "<style scoped>\n",
              "    .dataframe tbody tr th:only-of-type {\n",
              "        vertical-align: middle;\n",
              "    }\n",
              "\n",
              "    .dataframe tbody tr th {\n",
              "        vertical-align: top;\n",
              "    }\n",
              "\n",
              "    .dataframe thead th {\n",
              "        text-align: right;\n",
              "    }\n",
              "</style>\n",
              "<table border=\"1\" class=\"dataframe\">\n",
              "  <thead>\n",
              "    <tr style=\"text-align: right;\">\n",
              "      <th></th>\n",
              "      <th>Bank client ID</th>\n",
              "      <th>Bank Client Name</th>\n",
              "      <th>Net worth [$]</th>\n",
              "      <th>Years with bank</th>\n",
              "    </tr>\n",
              "  </thead>\n",
              "  <tbody>\n",
              "    <tr>\n",
              "      <th>0</th>\n",
              "      <td>111</td>\n",
              "      <td>Chanel</td>\n",
              "      <td>3500</td>\n",
              "      <td>3</td>\n",
              "    </tr>\n",
              "    <tr>\n",
              "      <th>1</th>\n",
              "      <td>222</td>\n",
              "      <td>Steve</td>\n",
              "      <td>29000</td>\n",
              "      <td>4</td>\n",
              "    </tr>\n",
              "  </tbody>\n",
              "</table>\n",
              "</div>"
            ],
            "text/plain": [
              "   Bank client ID Bank Client Name  Net worth [$]  Years with bank\n",
              "0             111           Chanel           3500                3\n",
              "1             222            Steve          29000                4"
            ]
          },
          "metadata": {
            "tags": []
          },
          "execution_count": 12
        }
      ]
    },
    {
      "cell_type": "code",
      "metadata": {
        "id": "7kkAAG0Ft2Q1",
        "outputId": "38770f45-ce09-43c3-ab63-9c78a6ca65bb",
        "colab": {
          "base_uri": "https://localhost:8080/",
          "height": 111
        }
      },
      "source": [
        "# you can only view the last couple of rows using .tail()\n",
        "bank_client_df.tail(2)"
      ],
      "execution_count": 13,
      "outputs": [
        {
          "output_type": "execute_result",
          "data": {
            "text/html": [
              "<div>\n",
              "<style scoped>\n",
              "    .dataframe tbody tr th:only-of-type {\n",
              "        vertical-align: middle;\n",
              "    }\n",
              "\n",
              "    .dataframe tbody tr th {\n",
              "        vertical-align: top;\n",
              "    }\n",
              "\n",
              "    .dataframe thead th {\n",
              "        text-align: right;\n",
              "    }\n",
              "</style>\n",
              "<table border=\"1\" class=\"dataframe\">\n",
              "  <thead>\n",
              "    <tr style=\"text-align: right;\">\n",
              "      <th></th>\n",
              "      <th>Bank client ID</th>\n",
              "      <th>Bank Client Name</th>\n",
              "      <th>Net worth [$]</th>\n",
              "      <th>Years with bank</th>\n",
              "    </tr>\n",
              "  </thead>\n",
              "  <tbody>\n",
              "    <tr>\n",
              "      <th>2</th>\n",
              "      <td>333</td>\n",
              "      <td>Mitch</td>\n",
              "      <td>10000</td>\n",
              "      <td>9</td>\n",
              "    </tr>\n",
              "    <tr>\n",
              "      <th>3</th>\n",
              "      <td>444</td>\n",
              "      <td>Ryan</td>\n",
              "      <td>2000</td>\n",
              "      <td>5</td>\n",
              "    </tr>\n",
              "  </tbody>\n",
              "</table>\n",
              "</div>"
            ],
            "text/plain": [
              "   Bank client ID Bank Client Name  Net worth [$]  Years with bank\n",
              "2             333            Mitch          10000                9\n",
              "3             444             Ryan           2000                5"
            ]
          },
          "metadata": {
            "tags": []
          },
          "execution_count": 13
        }
      ]
    },
    {
      "cell_type": "markdown",
      "metadata": {
        "id": "Ro-OAYbsy_EA"
      },
      "source": [
        "**MINI CHALLENGE #1:**\n",
        "- **A porfolio contains a collection of securities such as stocks, bonds and ETFs. Define a dataframe named 'portfolio_df' that holds 3 different stock ticker symbols, number of shares, and price per share (feel free to choose any stocks)**\n",
        "- **Calculate the total value of the porfolio including all stocks**"
      ]
    },
    {
      "cell_type": "code",
      "metadata": {
        "id": "zgAFS4N-1cDg",
        "outputId": "d7c99f92-9213-475a-f961-73f218cb8768",
        "colab": {
          "base_uri": "https://localhost:8080/",
          "height": 142
        }
      },
      "source": [
        "portfolio_df = pd.DataFrame({\"stock ticker symbol\": ['AAPL', 'AMZN', 'T'],\n",
        "                             \"Number of stocks\": [3, 4, 9],\n",
        "                             \"Price per share\": [3500, 200, 40]})\n",
        "portfolio_df"
      ],
      "execution_count": 14,
      "outputs": [
        {
          "output_type": "execute_result",
          "data": {
            "text/html": [
              "<div>\n",
              "<style scoped>\n",
              "    .dataframe tbody tr th:only-of-type {\n",
              "        vertical-align: middle;\n",
              "    }\n",
              "\n",
              "    .dataframe tbody tr th {\n",
              "        vertical-align: top;\n",
              "    }\n",
              "\n",
              "    .dataframe thead th {\n",
              "        text-align: right;\n",
              "    }\n",
              "</style>\n",
              "<table border=\"1\" class=\"dataframe\">\n",
              "  <thead>\n",
              "    <tr style=\"text-align: right;\">\n",
              "      <th></th>\n",
              "      <th>stock ticker symbol</th>\n",
              "      <th>Number of stocks</th>\n",
              "      <th>Price per share</th>\n",
              "    </tr>\n",
              "  </thead>\n",
              "  <tbody>\n",
              "    <tr>\n",
              "      <th>0</th>\n",
              "      <td>AAPL</td>\n",
              "      <td>3</td>\n",
              "      <td>3500</td>\n",
              "    </tr>\n",
              "    <tr>\n",
              "      <th>1</th>\n",
              "      <td>AMZN</td>\n",
              "      <td>4</td>\n",
              "      <td>200</td>\n",
              "    </tr>\n",
              "    <tr>\n",
              "      <th>2</th>\n",
              "      <td>T</td>\n",
              "      <td>9</td>\n",
              "      <td>40</td>\n",
              "    </tr>\n",
              "  </tbody>\n",
              "</table>\n",
              "</div>"
            ],
            "text/plain": [
              "  stock ticker symbol  Number of stocks  Price per share\n",
              "0                AAPL                 3             3500\n",
              "1                AMZN                 4              200\n",
              "2                   T                 9               40"
            ]
          },
          "metadata": {
            "tags": []
          },
          "execution_count": 14
        }
      ]
    },
    {
      "cell_type": "code",
      "metadata": {
        "id": "idvE_4vAH1lq",
        "outputId": "5180866c-8ef2-49f1-e011-fb84edfd86de",
        "colab": {
          "base_uri": "https://localhost:8080/",
          "height": 102
        }
      },
      "source": [
        "stocks_dollar_value = portfolio_df[\"Number of stocks\"] * portfolio_df[\"Price per share\"]\n",
        "print(stocks_dollar_value)\n",
        "print(\"Total potfolio value = {}\".format(stocks_dollar_value.sum()))"
      ],
      "execution_count": 15,
      "outputs": [
        {
          "output_type": "stream",
          "text": [
            "0    10500\n",
            "1      800\n",
            "2      360\n",
            "dtype: int64\n",
            "Total potfolio value = 11660\n"
          ],
          "name": "stdout"
        }
      ]
    },
    {
      "cell_type": "markdown",
      "metadata": {
        "id": "d06IyHT9uffC"
      },
      "source": [
        "# 2. PANDAS WITH CSV AND HTML DATA"
      ]
    },
    {
      "cell_type": "code",
      "metadata": {
        "id": "6C6tjxUCwV8B",
        "outputId": "66463e4b-2af6-47e6-8f85-de92fa75e386",
        "colab": {
          "base_uri": "https://localhost:8080/",
          "height": 34
        }
      },
      "source": [
        "# In order to access data on Google Drive, you need to mount the drive to access it's content\n",
        "from google.colab import drive\n",
        "drive.mount('/content/drive')"
      ],
      "execution_count": 16,
      "outputs": [
        {
          "output_type": "stream",
          "text": [
            "Mounted at /content/drive\n"
          ],
          "name": "stdout"
        }
      ]
    },
    {
      "cell_type": "code",
      "metadata": {
        "id": "lHB4RP5luJwF"
      },
      "source": [
        "# Pandas is used to read a csv file and store data in a DataFrame\n",
        "bank_df = pd.read_csv(\"/content/drive/My Drive/Python & ML for Financial Analysis/Part 1. Python Programming Fundamentals/sample_csv_file.csv\")"
      ],
      "execution_count": 17,
      "outputs": []
    },
    {
      "cell_type": "code",
      "metadata": {
        "id": "OqdhTgIfuoTy",
        "outputId": "fb50347e-6b8d-4433-adb0-dc8dccc9e004",
        "colab": {
          "base_uri": "https://localhost:8080/",
          "height": 142
        }
      },
      "source": [
        "bank_df"
      ],
      "execution_count": 18,
      "outputs": [
        {
          "output_type": "execute_result",
          "data": {
            "text/html": [
              "<div>\n",
              "<style scoped>\n",
              "    .dataframe tbody tr th:only-of-type {\n",
              "        vertical-align: middle;\n",
              "    }\n",
              "\n",
              "    .dataframe tbody tr th {\n",
              "        vertical-align: top;\n",
              "    }\n",
              "\n",
              "    .dataframe thead th {\n",
              "        text-align: right;\n",
              "    }\n",
              "</style>\n",
              "<table border=\"1\" class=\"dataframe\">\n",
              "  <thead>\n",
              "    <tr style=\"text-align: right;\">\n",
              "      <th></th>\n",
              "      <th>first</th>\n",
              "      <th>last</th>\n",
              "      <th>email</th>\n",
              "      <th>postal</th>\n",
              "      <th>gender</th>\n",
              "      <th>dollar</th>\n",
              "    </tr>\n",
              "  </thead>\n",
              "  <tbody>\n",
              "    <tr>\n",
              "      <th>0</th>\n",
              "      <td>Joseph</td>\n",
              "      <td>Patton</td>\n",
              "      <td>daafeja@boh.jm</td>\n",
              "      <td>M6U 5U7</td>\n",
              "      <td>Male</td>\n",
              "      <td>$2,629.13</td>\n",
              "    </tr>\n",
              "    <tr>\n",
              "      <th>1</th>\n",
              "      <td>Noah</td>\n",
              "      <td>Moran</td>\n",
              "      <td>guutodi@bigwoc.kw</td>\n",
              "      <td>K2D 4M9</td>\n",
              "      <td>Male</td>\n",
              "      <td>$8,626.96</td>\n",
              "    </tr>\n",
              "    <tr>\n",
              "      <th>2</th>\n",
              "      <td>Nina</td>\n",
              "      <td>Keller</td>\n",
              "      <td>azikez@gahew.mr</td>\n",
              "      <td>S1T 4E6</td>\n",
              "      <td>Male</td>\n",
              "      <td>$9,072.02</td>\n",
              "    </tr>\n",
              "  </tbody>\n",
              "</table>\n",
              "</div>"
            ],
            "text/plain": [
              "    first    last              email   postal  gender      dollar\n",
              "0  Joseph  Patton     daafeja@boh.jm  M6U 5U7    Male  $2,629.13 \n",
              "1    Noah   Moran  guutodi@bigwoc.kw  K2D 4M9    Male  $8,626.96 \n",
              "2    Nina  Keller    azikez@gahew.mr  S1T 4E6    Male  $9,072.02 "
            ]
          },
          "metadata": {
            "tags": []
          },
          "execution_count": 18
        }
      ]
    },
    {
      "cell_type": "code",
      "metadata": {
        "id": "lhwAwJ7BuoXn"
      },
      "source": [
        "# write to a csv file without an index\n",
        "bank_df.to_csv(\"sample_output.csv\", index=False)"
      ],
      "execution_count": 19,
      "outputs": []
    },
    {
      "cell_type": "code",
      "metadata": {
        "id": "Xbhgb5EYxR3o"
      },
      "source": [
        "# write to a csv file with an index\n",
        "bank_df.to_csv(\"sample_output.csv\")"
      ],
      "execution_count": 20,
      "outputs": []
    },
    {
      "cell_type": "code",
      "metadata": {
        "id": "tAJRGqF-uobr"
      },
      "source": [
        "# Read tabular data using read_html\n",
        "house_prices_df = pd.read_html(\"https://www.livingin-canada.com/house-prices-canada.html\")"
      ],
      "execution_count": 21,
      "outputs": []
    },
    {
      "cell_type": "code",
      "metadata": {
        "id": "Al8bvyYEuods",
        "outputId": "b346e71e-a178-440a-abd7-b8d1e9c345b0",
        "colab": {
          "base_uri": "https://localhost:8080/",
          "height": 476
        }
      },
      "source": [
        "house_prices_df"
      ],
      "execution_count": 22,
      "outputs": [
        {
          "output_type": "execute_result",
          "data": {
            "text/plain": [
              "[                                                City  ...                                    12 Month Change\n",
              " 0                                      Vancouver, BC  ...                                           + 2.63 %\n",
              " 1                                       Toronto, Ont  ...                                            +10.2 %\n",
              " 2                                        Ottawa, Ont  ...                                           + 15.4 %\n",
              " 3                                       Calgary, Alb  ...                                            – 1.5 %\n",
              " 4                                      Montreal, Que  ...                                            + 9.3 %\n",
              " 5                                        Halifax, NS  ...                                            + 3.6 %\n",
              " 6                                       Regina, Sask  ...                                            – 3.9 %\n",
              " 7                                    Fredericton, NB  ...                                            – 4.3 %\n",
              " 8  (adsbygoogle = window.adsbygoogle || []).push(...  ...  (adsbygoogle = window.adsbygoogle || []).push(...\n",
              " \n",
              " [9 rows x 3 columns],\n",
              "                                              Province  ...                                    12 Month Change\n",
              " 0                                    British Columbia  ...                                            + 7.6 %\n",
              " 1                                             Ontario  ...                                            – 3.2 %\n",
              " 2                                             Alberta  ...                                            – 7.5 %\n",
              " 3                                              Quebec  ...                                            + 7.6 %\n",
              " 4                                            Manitoba  ...                                            – 1.4 %\n",
              " 5                                        Saskatchewan  ...                                            – 3.8 %\n",
              " 6                                         Nova Scotia  ...                                            + 3.5 %\n",
              " 7                                Prince Edward Island  ...                                            + 3.0 %\n",
              " 8                             Newfoundland / Labrador  ...                                            – 1.6 %\n",
              " 9                                       New Brunswick  ...                                            – 2.2 %\n",
              " 10                                   Canadian Average  ...                                            – 1.3 %\n",
              " 11  (adsbygoogle = window.adsbygoogle || []).push(...  ...  (adsbygoogle = window.adsbygoogle || []).push(...\n",
              " \n",
              " [12 rows x 3 columns]]"
            ]
          },
          "metadata": {
            "tags": []
          },
          "execution_count": 22
        }
      ]
    },
    {
      "cell_type": "code",
      "metadata": {
        "id": "K-abffkEuoZs",
        "outputId": "07405a18-1186-4d35-b228-5d2f3cf1ef50",
        "colab": {
          "base_uri": "https://localhost:8080/",
          "height": 421
        }
      },
      "source": [
        "house_prices_df[1]"
      ],
      "execution_count": 23,
      "outputs": [
        {
          "output_type": "execute_result",
          "data": {
            "text/html": [
              "<div>\n",
              "<style scoped>\n",
              "    .dataframe tbody tr th:only-of-type {\n",
              "        vertical-align: middle;\n",
              "    }\n",
              "\n",
              "    .dataframe tbody tr th {\n",
              "        vertical-align: top;\n",
              "    }\n",
              "\n",
              "    .dataframe thead th {\n",
              "        text-align: right;\n",
              "    }\n",
              "</style>\n",
              "<table border=\"1\" class=\"dataframe\">\n",
              "  <thead>\n",
              "    <tr style=\"text-align: right;\">\n",
              "      <th></th>\n",
              "      <th>Province</th>\n",
              "      <th>Average House Price</th>\n",
              "      <th>12 Month Change</th>\n",
              "    </tr>\n",
              "  </thead>\n",
              "  <tbody>\n",
              "    <tr>\n",
              "      <th>0</th>\n",
              "      <td>British Columbia</td>\n",
              "      <td>$736,000</td>\n",
              "      <td>+ 7.6 %</td>\n",
              "    </tr>\n",
              "    <tr>\n",
              "      <th>1</th>\n",
              "      <td>Ontario</td>\n",
              "      <td>$594,000</td>\n",
              "      <td>– 3.2 %</td>\n",
              "    </tr>\n",
              "    <tr>\n",
              "      <th>2</th>\n",
              "      <td>Alberta</td>\n",
              "      <td>$353,000</td>\n",
              "      <td>– 7.5 %</td>\n",
              "    </tr>\n",
              "    <tr>\n",
              "      <th>3</th>\n",
              "      <td>Quebec</td>\n",
              "      <td>$340,000</td>\n",
              "      <td>+ 7.6 %</td>\n",
              "    </tr>\n",
              "    <tr>\n",
              "      <th>4</th>\n",
              "      <td>Manitoba</td>\n",
              "      <td>$295,000</td>\n",
              "      <td>– 1.4 %</td>\n",
              "    </tr>\n",
              "    <tr>\n",
              "      <th>5</th>\n",
              "      <td>Saskatchewan</td>\n",
              "      <td>$271,000</td>\n",
              "      <td>– 3.8 %</td>\n",
              "    </tr>\n",
              "    <tr>\n",
              "      <th>6</th>\n",
              "      <td>Nova Scotia</td>\n",
              "      <td>$266,000</td>\n",
              "      <td>+ 3.5 %</td>\n",
              "    </tr>\n",
              "    <tr>\n",
              "      <th>7</th>\n",
              "      <td>Prince Edward Island</td>\n",
              "      <td>$243,000</td>\n",
              "      <td>+ 3.0 %</td>\n",
              "    </tr>\n",
              "    <tr>\n",
              "      <th>8</th>\n",
              "      <td>Newfoundland / Labrador</td>\n",
              "      <td>$236,000</td>\n",
              "      <td>– 1.6 %</td>\n",
              "    </tr>\n",
              "    <tr>\n",
              "      <th>9</th>\n",
              "      <td>New Brunswick</td>\n",
              "      <td>$183,000</td>\n",
              "      <td>– 2.2 %</td>\n",
              "    </tr>\n",
              "    <tr>\n",
              "      <th>10</th>\n",
              "      <td>Canadian Average</td>\n",
              "      <td>$488,000</td>\n",
              "      <td>– 1.3 %</td>\n",
              "    </tr>\n",
              "    <tr>\n",
              "      <th>11</th>\n",
              "      <td>(adsbygoogle = window.adsbygoogle || []).push(...</td>\n",
              "      <td>(adsbygoogle = window.adsbygoogle || []).push(...</td>\n",
              "      <td>(adsbygoogle = window.adsbygoogle || []).push(...</td>\n",
              "    </tr>\n",
              "  </tbody>\n",
              "</table>\n",
              "</div>"
            ],
            "text/plain": [
              "                                             Province  ...                                    12 Month Change\n",
              "0                                    British Columbia  ...                                            + 7.6 %\n",
              "1                                             Ontario  ...                                            – 3.2 %\n",
              "2                                             Alberta  ...                                            – 7.5 %\n",
              "3                                              Quebec  ...                                            + 7.6 %\n",
              "4                                            Manitoba  ...                                            – 1.4 %\n",
              "5                                        Saskatchewan  ...                                            – 3.8 %\n",
              "6                                         Nova Scotia  ...                                            + 3.5 %\n",
              "7                                Prince Edward Island  ...                                            + 3.0 %\n",
              "8                             Newfoundland / Labrador  ...                                            – 1.6 %\n",
              "9                                       New Brunswick  ...                                            – 2.2 %\n",
              "10                                   Canadian Average  ...                                            – 1.3 %\n",
              "11  (adsbygoogle = window.adsbygoogle || []).push(...  ...  (adsbygoogle = window.adsbygoogle || []).push(...\n",
              "\n",
              "[12 rows x 3 columns]"
            ]
          },
          "metadata": {
            "tags": []
          },
          "execution_count": 23
        }
      ]
    },
    {
      "cell_type": "markdown",
      "metadata": {
        "id": "jRtr2lpr2NHr"
      },
      "source": [
        "**MINI CHALLENGE #2:**\n",
        "- **Write a code that uses Pandas to read tabular US retirement data**\n",
        "- **You can use data from here: https://www.ssa.gov/oact/progdata/nra.html** "
      ]
    },
    {
      "cell_type": "code",
      "metadata": {
        "id": "qF-eEa5h27rh",
        "outputId": "2e30b0ff-4d12-4984-d301-d6937cbb83a1",
        "colab": {
          "base_uri": "https://localhost:8080/",
          "height": 272
        }
      },
      "source": [
        "retirement_age_df = pd.read_html(\"https://www.ssa.gov/oact/progdata/nra.html\")\n",
        "retirement_age_df"
      ],
      "execution_count": 24,
      "outputs": [
        {
          "output_type": "execute_result",
          "data": {
            "text/plain": [
              "[                                        Year of birth                                                Age\n",
              " 0                                      1937 and prior                                                 65\n",
              " 1                                                1938                                    65 and 2 months\n",
              " 2                                                1939                                    65 and 4 months\n",
              " 3                                                1940                                    65 and 6 months\n",
              " 4                                                1941                                    65 and 8 months\n",
              " 5                                                1942                                   65 and 10 months\n",
              " 6                                             1943-54                                                 66\n",
              " 7                                                1955                                    66 and 2 months\n",
              " 8                                                1956                                    66 and 4 months\n",
              " 9                                                1957                                    66 and 6 months\n",
              " 10                                               1958                                    66 and 8 months\n",
              " 11                                               1959                                   66 and 10 months\n",
              " 12                                     1960 and later                                                 67\n",
              " 13  Notes: 1. Persons born on January 1 of any yea...  Notes: 1. Persons born on January 1 of any yea...]"
            ]
          },
          "metadata": {
            "tags": []
          },
          "execution_count": 24
        }
      ]
    },
    {
      "cell_type": "markdown",
      "metadata": {
        "id": "usUtfW0WuuBb"
      },
      "source": [
        "# 3. PANDAS OPERATIONS"
      ]
    },
    {
      "cell_type": "code",
      "metadata": {
        "id": "wI7pvcR01NbV",
        "outputId": "1385bbd9-8401-4cc4-9ec6-ec39478bf998",
        "colab": {
          "base_uri": "https://localhost:8080/",
          "height": 173
        }
      },
      "source": [
        "# Let's define a dataframe as follows:\n",
        "bank_client_df = pd.DataFrame({'Bank client ID': [111, 222, 333, 444],\n",
        "                               \"Bank Client Name\": ['Chanel', 'Steve', 'Mitch', 'Ryan'],\n",
        "                               \"Net worth [$]\": [3500, 29000, 10000, 2000],\n",
        "                               \"Years with bank\": [3, 4, 9, 5]})\n",
        "bank_client_df"
      ],
      "execution_count": 25,
      "outputs": [
        {
          "output_type": "execute_result",
          "data": {
            "text/html": [
              "<div>\n",
              "<style scoped>\n",
              "    .dataframe tbody tr th:only-of-type {\n",
              "        vertical-align: middle;\n",
              "    }\n",
              "\n",
              "    .dataframe tbody tr th {\n",
              "        vertical-align: top;\n",
              "    }\n",
              "\n",
              "    .dataframe thead th {\n",
              "        text-align: right;\n",
              "    }\n",
              "</style>\n",
              "<table border=\"1\" class=\"dataframe\">\n",
              "  <thead>\n",
              "    <tr style=\"text-align: right;\">\n",
              "      <th></th>\n",
              "      <th>Bank client ID</th>\n",
              "      <th>Bank Client Name</th>\n",
              "      <th>Net worth [$]</th>\n",
              "      <th>Years with bank</th>\n",
              "    </tr>\n",
              "  </thead>\n",
              "  <tbody>\n",
              "    <tr>\n",
              "      <th>0</th>\n",
              "      <td>111</td>\n",
              "      <td>Chanel</td>\n",
              "      <td>3500</td>\n",
              "      <td>3</td>\n",
              "    </tr>\n",
              "    <tr>\n",
              "      <th>1</th>\n",
              "      <td>222</td>\n",
              "      <td>Steve</td>\n",
              "      <td>29000</td>\n",
              "      <td>4</td>\n",
              "    </tr>\n",
              "    <tr>\n",
              "      <th>2</th>\n",
              "      <td>333</td>\n",
              "      <td>Mitch</td>\n",
              "      <td>10000</td>\n",
              "      <td>9</td>\n",
              "    </tr>\n",
              "    <tr>\n",
              "      <th>3</th>\n",
              "      <td>444</td>\n",
              "      <td>Ryan</td>\n",
              "      <td>2000</td>\n",
              "      <td>5</td>\n",
              "    </tr>\n",
              "  </tbody>\n",
              "</table>\n",
              "</div>"
            ],
            "text/plain": [
              "   Bank client ID Bank Client Name  Net worth [$]  Years with bank\n",
              "0             111           Chanel           3500                3\n",
              "1             222            Steve          29000                4\n",
              "2             333            Mitch          10000                9\n",
              "3             444             Ryan           2000                5"
            ]
          },
          "metadata": {
            "tags": []
          },
          "execution_count": 25
        }
      ]
    },
    {
      "cell_type": "code",
      "metadata": {
        "id": "kw_260rpuxzc",
        "outputId": "69f3f4c8-5467-4f6f-afd8-9acb3d11707d",
        "colab": {
          "base_uri": "https://localhost:8080/",
          "height": 111
        }
      },
      "source": [
        "# Pick certain rows that satisfy a certain criteria \n",
        "df_loyal = bank_client_df.loc[bank_client_df[\"Years with bank\"] >= 5]\n",
        "df_loyal"
      ],
      "execution_count": 26,
      "outputs": [
        {
          "output_type": "execute_result",
          "data": {
            "text/html": [
              "<div>\n",
              "<style scoped>\n",
              "    .dataframe tbody tr th:only-of-type {\n",
              "        vertical-align: middle;\n",
              "    }\n",
              "\n",
              "    .dataframe tbody tr th {\n",
              "        vertical-align: top;\n",
              "    }\n",
              "\n",
              "    .dataframe thead th {\n",
              "        text-align: right;\n",
              "    }\n",
              "</style>\n",
              "<table border=\"1\" class=\"dataframe\">\n",
              "  <thead>\n",
              "    <tr style=\"text-align: right;\">\n",
              "      <th></th>\n",
              "      <th>Bank client ID</th>\n",
              "      <th>Bank Client Name</th>\n",
              "      <th>Net worth [$]</th>\n",
              "      <th>Years with bank</th>\n",
              "    </tr>\n",
              "  </thead>\n",
              "  <tbody>\n",
              "    <tr>\n",
              "      <th>2</th>\n",
              "      <td>333</td>\n",
              "      <td>Mitch</td>\n",
              "      <td>10000</td>\n",
              "      <td>9</td>\n",
              "    </tr>\n",
              "    <tr>\n",
              "      <th>3</th>\n",
              "      <td>444</td>\n",
              "      <td>Ryan</td>\n",
              "      <td>2000</td>\n",
              "      <td>5</td>\n",
              "    </tr>\n",
              "  </tbody>\n",
              "</table>\n",
              "</div>"
            ],
            "text/plain": [
              "   Bank client ID Bank Client Name  Net worth [$]  Years with bank\n",
              "2             333            Mitch          10000                9\n",
              "3             444             Ryan           2000                5"
            ]
          },
          "metadata": {
            "tags": []
          },
          "execution_count": 26
        }
      ]
    },
    {
      "cell_type": "code",
      "metadata": {
        "id": "uudZyadKux12",
        "outputId": "c6cdfce8-4a4c-4e2e-be55-9a5be3cc4095",
        "colab": {
          "base_uri": "https://localhost:8080/",
          "height": 173
        }
      },
      "source": [
        "# Delete a column from a DataFrame\n",
        "del bank_client_df['Bank client ID'] \n",
        "bank_client_df"
      ],
      "execution_count": 27,
      "outputs": [
        {
          "output_type": "execute_result",
          "data": {
            "text/html": [
              "<div>\n",
              "<style scoped>\n",
              "    .dataframe tbody tr th:only-of-type {\n",
              "        vertical-align: middle;\n",
              "    }\n",
              "\n",
              "    .dataframe tbody tr th {\n",
              "        vertical-align: top;\n",
              "    }\n",
              "\n",
              "    .dataframe thead th {\n",
              "        text-align: right;\n",
              "    }\n",
              "</style>\n",
              "<table border=\"1\" class=\"dataframe\">\n",
              "  <thead>\n",
              "    <tr style=\"text-align: right;\">\n",
              "      <th></th>\n",
              "      <th>Bank Client Name</th>\n",
              "      <th>Net worth [$]</th>\n",
              "      <th>Years with bank</th>\n",
              "    </tr>\n",
              "  </thead>\n",
              "  <tbody>\n",
              "    <tr>\n",
              "      <th>0</th>\n",
              "      <td>Chanel</td>\n",
              "      <td>3500</td>\n",
              "      <td>3</td>\n",
              "    </tr>\n",
              "    <tr>\n",
              "      <th>1</th>\n",
              "      <td>Steve</td>\n",
              "      <td>29000</td>\n",
              "      <td>4</td>\n",
              "    </tr>\n",
              "    <tr>\n",
              "      <th>2</th>\n",
              "      <td>Mitch</td>\n",
              "      <td>10000</td>\n",
              "      <td>9</td>\n",
              "    </tr>\n",
              "    <tr>\n",
              "      <th>3</th>\n",
              "      <td>Ryan</td>\n",
              "      <td>2000</td>\n",
              "      <td>5</td>\n",
              "    </tr>\n",
              "  </tbody>\n",
              "</table>\n",
              "</div>"
            ],
            "text/plain": [
              "  Bank Client Name  Net worth [$]  Years with bank\n",
              "0           Chanel           3500                3\n",
              "1            Steve          29000                4\n",
              "2            Mitch          10000                9\n",
              "3             Ryan           2000                5"
            ]
          },
          "metadata": {
            "tags": []
          },
          "execution_count": 27
        }
      ]
    },
    {
      "cell_type": "markdown",
      "metadata": {
        "id": "M5_PHunK2_UZ"
      },
      "source": [
        "**MINI CHALLENGE #3:**\n",
        "- **Using \"bank_client_df\" DataFrame, leverage pandas operations to only select high networth individuals with minimum $5000** \n",
        "- **What is the combined networth for all customers with 5000+ networth?**"
      ]
    },
    {
      "cell_type": "code",
      "metadata": {
        "id": "wLyH7CnC4Vjj",
        "outputId": "9348c191-472c-4924-b3c4-c1fb0cb57820",
        "colab": {
          "base_uri": "https://localhost:8080/",
          "height": 111
        }
      },
      "source": [
        "df_high_networth = bank_client_df.loc[bank_client_df['Net worth [$]'] >= 5000]\n",
        "df_high_networth"
      ],
      "execution_count": 28,
      "outputs": [
        {
          "output_type": "execute_result",
          "data": {
            "text/html": [
              "<div>\n",
              "<style scoped>\n",
              "    .dataframe tbody tr th:only-of-type {\n",
              "        vertical-align: middle;\n",
              "    }\n",
              "\n",
              "    .dataframe tbody tr th {\n",
              "        vertical-align: top;\n",
              "    }\n",
              "\n",
              "    .dataframe thead th {\n",
              "        text-align: right;\n",
              "    }\n",
              "</style>\n",
              "<table border=\"1\" class=\"dataframe\">\n",
              "  <thead>\n",
              "    <tr style=\"text-align: right;\">\n",
              "      <th></th>\n",
              "      <th>Bank Client Name</th>\n",
              "      <th>Net worth [$]</th>\n",
              "      <th>Years with bank</th>\n",
              "    </tr>\n",
              "  </thead>\n",
              "  <tbody>\n",
              "    <tr>\n",
              "      <th>1</th>\n",
              "      <td>Steve</td>\n",
              "      <td>29000</td>\n",
              "      <td>4</td>\n",
              "    </tr>\n",
              "    <tr>\n",
              "      <th>2</th>\n",
              "      <td>Mitch</td>\n",
              "      <td>10000</td>\n",
              "      <td>9</td>\n",
              "    </tr>\n",
              "  </tbody>\n",
              "</table>\n",
              "</div>"
            ],
            "text/plain": [
              "  Bank Client Name  Net worth [$]  Years with bank\n",
              "1            Steve          29000                4\n",
              "2            Mitch          10000                9"
            ]
          },
          "metadata": {
            "tags": []
          },
          "execution_count": 28
        }
      ]
    },
    {
      "cell_type": "code",
      "metadata": {
        "id": "rr_nhgq-VGfC",
        "outputId": "656a4473-b8ff-4aec-ac25-fd2e3eba5f73",
        "colab": {
          "base_uri": "https://localhost:8080/",
          "height": 34
        }
      },
      "source": [
        "df_high_networth[\"Net worth [$]\"].sum()"
      ],
      "execution_count": 29,
      "outputs": [
        {
          "output_type": "execute_result",
          "data": {
            "text/plain": [
              "39000"
            ]
          },
          "metadata": {
            "tags": []
          },
          "execution_count": 29
        }
      ]
    },
    {
      "cell_type": "markdown",
      "metadata": {
        "id": "3-5RHcLDu1wL"
      },
      "source": [
        "# 4. PANDAS WITH FUNCTIONS"
      ]
    },
    {
      "cell_type": "code",
      "metadata": {
        "id": "w6Vs9IxC14kV",
        "outputId": "9ea23709-92f3-47b5-9b67-d6a4b45687b0",
        "colab": {
          "base_uri": "https://localhost:8080/",
          "height": 173
        }
      },
      "source": [
        "# Let's define a dataframe as follows:\n",
        "bank_client_df = pd.DataFrame({'Bank client ID': [111, 222, 333, 444],\n",
        "                               \"Bank Client Name\": ['Chanel', 'Steve', 'Mitch', 'Ryan'],\n",
        "                               \"Net worth [$]\": [3500, 29000, 10000, 2000],\n",
        "                               \"Years with bank\": [3, 4, 9, 5]})\n",
        "bank_client_df"
      ],
      "execution_count": 30,
      "outputs": [
        {
          "output_type": "execute_result",
          "data": {
            "text/html": [
              "<div>\n",
              "<style scoped>\n",
              "    .dataframe tbody tr th:only-of-type {\n",
              "        vertical-align: middle;\n",
              "    }\n",
              "\n",
              "    .dataframe tbody tr th {\n",
              "        vertical-align: top;\n",
              "    }\n",
              "\n",
              "    .dataframe thead th {\n",
              "        text-align: right;\n",
              "    }\n",
              "</style>\n",
              "<table border=\"1\" class=\"dataframe\">\n",
              "  <thead>\n",
              "    <tr style=\"text-align: right;\">\n",
              "      <th></th>\n",
              "      <th>Bank client ID</th>\n",
              "      <th>Bank Client Name</th>\n",
              "      <th>Net worth [$]</th>\n",
              "      <th>Years with bank</th>\n",
              "    </tr>\n",
              "  </thead>\n",
              "  <tbody>\n",
              "    <tr>\n",
              "      <th>0</th>\n",
              "      <td>111</td>\n",
              "      <td>Chanel</td>\n",
              "      <td>3500</td>\n",
              "      <td>3</td>\n",
              "    </tr>\n",
              "    <tr>\n",
              "      <th>1</th>\n",
              "      <td>222</td>\n",
              "      <td>Steve</td>\n",
              "      <td>29000</td>\n",
              "      <td>4</td>\n",
              "    </tr>\n",
              "    <tr>\n",
              "      <th>2</th>\n",
              "      <td>333</td>\n",
              "      <td>Mitch</td>\n",
              "      <td>10000</td>\n",
              "      <td>9</td>\n",
              "    </tr>\n",
              "    <tr>\n",
              "      <th>3</th>\n",
              "      <td>444</td>\n",
              "      <td>Ryan</td>\n",
              "      <td>2000</td>\n",
              "      <td>5</td>\n",
              "    </tr>\n",
              "  </tbody>\n",
              "</table>\n",
              "</div>"
            ],
            "text/plain": [
              "   Bank client ID Bank Client Name  Net worth [$]  Years with bank\n",
              "0             111           Chanel           3500                3\n",
              "1             222            Steve          29000                4\n",
              "2             333            Mitch          10000                9\n",
              "3             444             Ryan           2000                5"
            ]
          },
          "metadata": {
            "tags": []
          },
          "execution_count": 30
        }
      ]
    },
    {
      "cell_type": "code",
      "metadata": {
        "id": "X8HedZiGux37"
      },
      "source": [
        "# Define a function that increases all clients networth (stocks) by a fixed value of 10% (for simplicity sake) \n",
        "def networth_update(balance):\n",
        "  return balance * 1.1"
      ],
      "execution_count": 31,
      "outputs": []
    },
    {
      "cell_type": "code",
      "metadata": {
        "id": "H15eem3Qu67H",
        "outputId": "ebb10899-fa22-4dfb-c1fb-b97c476079c1",
        "colab": {
          "base_uri": "https://localhost:8080/",
          "height": 102
        }
      },
      "source": [
        "# You can apply a function to the DataFrame \n",
        "bank_client_df[\"Net worth [$]\"].apply(networth_update)"
      ],
      "execution_count": 32,
      "outputs": [
        {
          "output_type": "execute_result",
          "data": {
            "text/plain": [
              "0     3850.0\n",
              "1    31900.0\n",
              "2    11000.0\n",
              "3     2200.0\n",
              "Name: Net worth [$], dtype: float64"
            ]
          },
          "metadata": {
            "tags": []
          },
          "execution_count": 32
        }
      ]
    },
    {
      "cell_type": "code",
      "metadata": {
        "id": "WsObpnkou69Q",
        "outputId": "2fb0141c-1723-4c99-9748-af202cef9f03",
        "colab": {
          "base_uri": "https://localhost:8080/",
          "height": 102
        }
      },
      "source": [
        "bank_client_df[\"Bank Client Name\"].apply(len)"
      ],
      "execution_count": 33,
      "outputs": [
        {
          "output_type": "execute_result",
          "data": {
            "text/plain": [
              "0    6\n",
              "1    5\n",
              "2    5\n",
              "3    4\n",
              "Name: Bank Client Name, dtype: int64"
            ]
          },
          "metadata": {
            "tags": []
          },
          "execution_count": 33
        }
      ]
    },
    {
      "cell_type": "code",
      "metadata": {
        "id": "E52xRMulu6_I",
        "outputId": "010c00b9-43e1-4146-d421-fbecd3016865",
        "colab": {
          "base_uri": "https://localhost:8080/",
          "height": 34
        }
      },
      "source": [
        "bank_client_df[\"Years with bank\"].sum()"
      ],
      "execution_count": 34,
      "outputs": [
        {
          "output_type": "execute_result",
          "data": {
            "text/plain": [
              "21"
            ]
          },
          "metadata": {
            "tags": []
          },
          "execution_count": 34
        }
      ]
    },
    {
      "cell_type": "markdown",
      "metadata": {
        "id": "VaXV-VYg4xG0"
      },
      "source": [
        "**MINI CHALLENGE #4:**\n",
        "- **Define a function that doubles stock prices and adds $100**\n",
        "- **Apply the function to the DataFrame**\n",
        "- **Calculate the updated total networth of all clients combined**"
      ]
    },
    {
      "cell_type": "code",
      "metadata": {
        "id": "xqWCYc0n6V-d"
      },
      "source": [
        "def networth_update_1(balance):\n",
        "  return balance * 2 + 100"
      ],
      "execution_count": 35,
      "outputs": []
    },
    {
      "cell_type": "code",
      "metadata": {
        "id": "dW5exU8voFud",
        "outputId": "a2f5f3f9-e7a2-41b6-b5bf-4a42671aae5c",
        "colab": {
          "base_uri": "https://localhost:8080/",
          "height": 102
        }
      },
      "source": [
        "result = bank_client_df[\"Net worth [$]\"].apply(networth_update_1)\n",
        "result"
      ],
      "execution_count": 36,
      "outputs": [
        {
          "output_type": "execute_result",
          "data": {
            "text/plain": [
              "0     7100\n",
              "1    58100\n",
              "2    20100\n",
              "3     4100\n",
              "Name: Net worth [$], dtype: int64"
            ]
          },
          "metadata": {
            "tags": []
          },
          "execution_count": 36
        }
      ]
    },
    {
      "cell_type": "code",
      "metadata": {
        "id": "F0ctpy1eoFsd",
        "outputId": "b14c9b18-9f1b-4061-e05b-a76df4be8766",
        "colab": {
          "base_uri": "https://localhost:8080/",
          "height": 34
        }
      },
      "source": [
        "result.sum()"
      ],
      "execution_count": 37,
      "outputs": [
        {
          "output_type": "execute_result",
          "data": {
            "text/plain": [
              "89400"
            ]
          },
          "metadata": {
            "tags": []
          },
          "execution_count": 37
        }
      ]
    },
    {
      "cell_type": "markdown",
      "metadata": {
        "id": "LKDuJ94RvB85"
      },
      "source": [
        "# 5. SORTING AND ORDERING"
      ]
    },
    {
      "cell_type": "code",
      "metadata": {
        "id": "f-aRTmn9u7DA",
        "outputId": "942081c2-f4fa-4466-be36-c02eb0d7d362",
        "colab": {
          "base_uri": "https://localhost:8080/",
          "height": 173
        }
      },
      "source": [
        "# Let's define a dataframe as follows:\n",
        "bank_client_df = pd.DataFrame({'Bank client ID': [111, 222, 333, 444],\n",
        "                               \"Bank Client Name\": ['Chanel', 'Steve', 'Mitch', 'Ryan'],\n",
        "                               \"Net worth [$]\": [3500, 29000, 10000, 2000],\n",
        "                               \"Years with bank\": [3, 4, 9, 5]})\n",
        "bank_client_df"
      ],
      "execution_count": 38,
      "outputs": [
        {
          "output_type": "execute_result",
          "data": {
            "text/html": [
              "<div>\n",
              "<style scoped>\n",
              "    .dataframe tbody tr th:only-of-type {\n",
              "        vertical-align: middle;\n",
              "    }\n",
              "\n",
              "    .dataframe tbody tr th {\n",
              "        vertical-align: top;\n",
              "    }\n",
              "\n",
              "    .dataframe thead th {\n",
              "        text-align: right;\n",
              "    }\n",
              "</style>\n",
              "<table border=\"1\" class=\"dataframe\">\n",
              "  <thead>\n",
              "    <tr style=\"text-align: right;\">\n",
              "      <th></th>\n",
              "      <th>Bank client ID</th>\n",
              "      <th>Bank Client Name</th>\n",
              "      <th>Net worth [$]</th>\n",
              "      <th>Years with bank</th>\n",
              "    </tr>\n",
              "  </thead>\n",
              "  <tbody>\n",
              "    <tr>\n",
              "      <th>0</th>\n",
              "      <td>111</td>\n",
              "      <td>Chanel</td>\n",
              "      <td>3500</td>\n",
              "      <td>3</td>\n",
              "    </tr>\n",
              "    <tr>\n",
              "      <th>1</th>\n",
              "      <td>222</td>\n",
              "      <td>Steve</td>\n",
              "      <td>29000</td>\n",
              "      <td>4</td>\n",
              "    </tr>\n",
              "    <tr>\n",
              "      <th>2</th>\n",
              "      <td>333</td>\n",
              "      <td>Mitch</td>\n",
              "      <td>10000</td>\n",
              "      <td>9</td>\n",
              "    </tr>\n",
              "    <tr>\n",
              "      <th>3</th>\n",
              "      <td>444</td>\n",
              "      <td>Ryan</td>\n",
              "      <td>2000</td>\n",
              "      <td>5</td>\n",
              "    </tr>\n",
              "  </tbody>\n",
              "</table>\n",
              "</div>"
            ],
            "text/plain": [
              "   Bank client ID Bank Client Name  Net worth [$]  Years with bank\n",
              "0             111           Chanel           3500                3\n",
              "1             222            Steve          29000                4\n",
              "2             333            Mitch          10000                9\n",
              "3             444             Ryan           2000                5"
            ]
          },
          "metadata": {
            "tags": []
          },
          "execution_count": 38
        }
      ]
    },
    {
      "cell_type": "code",
      "metadata": {
        "id": "DaglhPNevFYC",
        "outputId": "f4ccb1e3-57f9-494b-c407-6935908195af",
        "colab": {
          "base_uri": "https://localhost:8080/",
          "height": 173
        }
      },
      "source": [
        "# You can sort the values in the dataframe according to number of years with bank\n",
        "bank_client_df.sort_values(by=\"Years with bank\")"
      ],
      "execution_count": 39,
      "outputs": [
        {
          "output_type": "execute_result",
          "data": {
            "text/html": [
              "<div>\n",
              "<style scoped>\n",
              "    .dataframe tbody tr th:only-of-type {\n",
              "        vertical-align: middle;\n",
              "    }\n",
              "\n",
              "    .dataframe tbody tr th {\n",
              "        vertical-align: top;\n",
              "    }\n",
              "\n",
              "    .dataframe thead th {\n",
              "        text-align: right;\n",
              "    }\n",
              "</style>\n",
              "<table border=\"1\" class=\"dataframe\">\n",
              "  <thead>\n",
              "    <tr style=\"text-align: right;\">\n",
              "      <th></th>\n",
              "      <th>Bank client ID</th>\n",
              "      <th>Bank Client Name</th>\n",
              "      <th>Net worth [$]</th>\n",
              "      <th>Years with bank</th>\n",
              "    </tr>\n",
              "  </thead>\n",
              "  <tbody>\n",
              "    <tr>\n",
              "      <th>0</th>\n",
              "      <td>111</td>\n",
              "      <td>Chanel</td>\n",
              "      <td>3500</td>\n",
              "      <td>3</td>\n",
              "    </tr>\n",
              "    <tr>\n",
              "      <th>1</th>\n",
              "      <td>222</td>\n",
              "      <td>Steve</td>\n",
              "      <td>29000</td>\n",
              "      <td>4</td>\n",
              "    </tr>\n",
              "    <tr>\n",
              "      <th>3</th>\n",
              "      <td>444</td>\n",
              "      <td>Ryan</td>\n",
              "      <td>2000</td>\n",
              "      <td>5</td>\n",
              "    </tr>\n",
              "    <tr>\n",
              "      <th>2</th>\n",
              "      <td>333</td>\n",
              "      <td>Mitch</td>\n",
              "      <td>10000</td>\n",
              "      <td>9</td>\n",
              "    </tr>\n",
              "  </tbody>\n",
              "</table>\n",
              "</div>"
            ],
            "text/plain": [
              "   Bank client ID Bank Client Name  Net worth [$]  Years with bank\n",
              "0             111           Chanel           3500                3\n",
              "1             222            Steve          29000                4\n",
              "3             444             Ryan           2000                5\n",
              "2             333            Mitch          10000                9"
            ]
          },
          "metadata": {
            "tags": []
          },
          "execution_count": 39
        }
      ]
    },
    {
      "cell_type": "code",
      "metadata": {
        "id": "AjzLtDlevFaW",
        "outputId": "29fe97b3-6070-401c-bca3-0e1e43d202fa",
        "colab": {
          "base_uri": "https://localhost:8080/",
          "height": 173
        }
      },
      "source": [
        "# Note that nothing changed in memory! you have to make sure that inplace is set to True\n",
        "bank_client_df"
      ],
      "execution_count": 40,
      "outputs": [
        {
          "output_type": "execute_result",
          "data": {
            "text/html": [
              "<div>\n",
              "<style scoped>\n",
              "    .dataframe tbody tr th:only-of-type {\n",
              "        vertical-align: middle;\n",
              "    }\n",
              "\n",
              "    .dataframe tbody tr th {\n",
              "        vertical-align: top;\n",
              "    }\n",
              "\n",
              "    .dataframe thead th {\n",
              "        text-align: right;\n",
              "    }\n",
              "</style>\n",
              "<table border=\"1\" class=\"dataframe\">\n",
              "  <thead>\n",
              "    <tr style=\"text-align: right;\">\n",
              "      <th></th>\n",
              "      <th>Bank client ID</th>\n",
              "      <th>Bank Client Name</th>\n",
              "      <th>Net worth [$]</th>\n",
              "      <th>Years with bank</th>\n",
              "    </tr>\n",
              "  </thead>\n",
              "  <tbody>\n",
              "    <tr>\n",
              "      <th>0</th>\n",
              "      <td>111</td>\n",
              "      <td>Chanel</td>\n",
              "      <td>3500</td>\n",
              "      <td>3</td>\n",
              "    </tr>\n",
              "    <tr>\n",
              "      <th>1</th>\n",
              "      <td>222</td>\n",
              "      <td>Steve</td>\n",
              "      <td>29000</td>\n",
              "      <td>4</td>\n",
              "    </tr>\n",
              "    <tr>\n",
              "      <th>2</th>\n",
              "      <td>333</td>\n",
              "      <td>Mitch</td>\n",
              "      <td>10000</td>\n",
              "      <td>9</td>\n",
              "    </tr>\n",
              "    <tr>\n",
              "      <th>3</th>\n",
              "      <td>444</td>\n",
              "      <td>Ryan</td>\n",
              "      <td>2000</td>\n",
              "      <td>5</td>\n",
              "    </tr>\n",
              "  </tbody>\n",
              "</table>\n",
              "</div>"
            ],
            "text/plain": [
              "   Bank client ID Bank Client Name  Net worth [$]  Years with bank\n",
              "0             111           Chanel           3500                3\n",
              "1             222            Steve          29000                4\n",
              "2             333            Mitch          10000                9\n",
              "3             444             Ryan           2000                5"
            ]
          },
          "metadata": {
            "tags": []
          },
          "execution_count": 40
        }
      ]
    },
    {
      "cell_type": "code",
      "metadata": {
        "id": "Pgt25eXmvFce"
      },
      "source": [
        "# Set inplace = True to ensure that change has taken place in memory \n",
        "bank_client_df.sort_values(by=\"Years with bank\", inplace=True)"
      ],
      "execution_count": 41,
      "outputs": []
    },
    {
      "cell_type": "code",
      "metadata": {
        "id": "jEw2Gw_hu7Fo",
        "outputId": "10189f58-ce97-448b-caa1-dc842ae06dd7",
        "colab": {
          "base_uri": "https://localhost:8080/",
          "height": 173
        }
      },
      "source": [
        "# Note that now the change (ordering) took place \n",
        "bank_client_df"
      ],
      "execution_count": 42,
      "outputs": [
        {
          "output_type": "execute_result",
          "data": {
            "text/html": [
              "<div>\n",
              "<style scoped>\n",
              "    .dataframe tbody tr th:only-of-type {\n",
              "        vertical-align: middle;\n",
              "    }\n",
              "\n",
              "    .dataframe tbody tr th {\n",
              "        vertical-align: top;\n",
              "    }\n",
              "\n",
              "    .dataframe thead th {\n",
              "        text-align: right;\n",
              "    }\n",
              "</style>\n",
              "<table border=\"1\" class=\"dataframe\">\n",
              "  <thead>\n",
              "    <tr style=\"text-align: right;\">\n",
              "      <th></th>\n",
              "      <th>Bank client ID</th>\n",
              "      <th>Bank Client Name</th>\n",
              "      <th>Net worth [$]</th>\n",
              "      <th>Years with bank</th>\n",
              "    </tr>\n",
              "  </thead>\n",
              "  <tbody>\n",
              "    <tr>\n",
              "      <th>0</th>\n",
              "      <td>111</td>\n",
              "      <td>Chanel</td>\n",
              "      <td>3500</td>\n",
              "      <td>3</td>\n",
              "    </tr>\n",
              "    <tr>\n",
              "      <th>1</th>\n",
              "      <td>222</td>\n",
              "      <td>Steve</td>\n",
              "      <td>29000</td>\n",
              "      <td>4</td>\n",
              "    </tr>\n",
              "    <tr>\n",
              "      <th>3</th>\n",
              "      <td>444</td>\n",
              "      <td>Ryan</td>\n",
              "      <td>2000</td>\n",
              "      <td>5</td>\n",
              "    </tr>\n",
              "    <tr>\n",
              "      <th>2</th>\n",
              "      <td>333</td>\n",
              "      <td>Mitch</td>\n",
              "      <td>10000</td>\n",
              "      <td>9</td>\n",
              "    </tr>\n",
              "  </tbody>\n",
              "</table>\n",
              "</div>"
            ],
            "text/plain": [
              "   Bank client ID Bank Client Name  Net worth [$]  Years with bank\n",
              "0             111           Chanel           3500                3\n",
              "1             222            Steve          29000                4\n",
              "3             444             Ryan           2000                5\n",
              "2             333            Mitch          10000                9"
            ]
          },
          "metadata": {
            "tags": []
          },
          "execution_count": 42
        }
      ]
    },
    {
      "cell_type": "markdown",
      "metadata": {
        "id": "7bV_Yaq46ZTg"
      },
      "source": [
        "**MINI CHALLENGE #5:**\n",
        "- **Sort customers by networth instead of years with bank. Make sure to update values in-memory.**"
      ]
    },
    {
      "cell_type": "code",
      "metadata": {
        "id": "BYCD1yGi6q2M",
        "outputId": "ea702e55-a0e3-4ce7-f360-d9a917a1be3f",
        "colab": {
          "base_uri": "https://localhost:8080/",
          "height": 173
        }
      },
      "source": [
        "bank_client_df.sort_values(by=\"Net worth [$]\", inplace=True)\n",
        "bank_client_df"
      ],
      "execution_count": 43,
      "outputs": [
        {
          "output_type": "execute_result",
          "data": {
            "text/html": [
              "<div>\n",
              "<style scoped>\n",
              "    .dataframe tbody tr th:only-of-type {\n",
              "        vertical-align: middle;\n",
              "    }\n",
              "\n",
              "    .dataframe tbody tr th {\n",
              "        vertical-align: top;\n",
              "    }\n",
              "\n",
              "    .dataframe thead th {\n",
              "        text-align: right;\n",
              "    }\n",
              "</style>\n",
              "<table border=\"1\" class=\"dataframe\">\n",
              "  <thead>\n",
              "    <tr style=\"text-align: right;\">\n",
              "      <th></th>\n",
              "      <th>Bank client ID</th>\n",
              "      <th>Bank Client Name</th>\n",
              "      <th>Net worth [$]</th>\n",
              "      <th>Years with bank</th>\n",
              "    </tr>\n",
              "  </thead>\n",
              "  <tbody>\n",
              "    <tr>\n",
              "      <th>3</th>\n",
              "      <td>444</td>\n",
              "      <td>Ryan</td>\n",
              "      <td>2000</td>\n",
              "      <td>5</td>\n",
              "    </tr>\n",
              "    <tr>\n",
              "      <th>0</th>\n",
              "      <td>111</td>\n",
              "      <td>Chanel</td>\n",
              "      <td>3500</td>\n",
              "      <td>3</td>\n",
              "    </tr>\n",
              "    <tr>\n",
              "      <th>2</th>\n",
              "      <td>333</td>\n",
              "      <td>Mitch</td>\n",
              "      <td>10000</td>\n",
              "      <td>9</td>\n",
              "    </tr>\n",
              "    <tr>\n",
              "      <th>1</th>\n",
              "      <td>222</td>\n",
              "      <td>Steve</td>\n",
              "      <td>29000</td>\n",
              "      <td>4</td>\n",
              "    </tr>\n",
              "  </tbody>\n",
              "</table>\n",
              "</div>"
            ],
            "text/plain": [
              "   Bank client ID Bank Client Name  Net worth [$]  Years with bank\n",
              "3             444             Ryan           2000                5\n",
              "0             111           Chanel           3500                3\n",
              "2             333            Mitch          10000                9\n",
              "1             222            Steve          29000                4"
            ]
          },
          "metadata": {
            "tags": []
          },
          "execution_count": 43
        }
      ]
    },
    {
      "cell_type": "markdown",
      "metadata": {
        "id": "XAix4DVfvKGe"
      },
      "source": [
        "# 6. CONCATENATING AND MERGING WITH PANDAS"
      ]
    },
    {
      "cell_type": "markdown",
      "metadata": {
        "id": "eMBioTTMvWXI"
      },
      "source": [
        "Check this out: https://pandas.pydata.org/pandas-docs/stable/user_guide/merging.html"
      ]
    },
    {
      "cell_type": "code",
      "metadata": {
        "id": "b1zfk3Euu7Bx"
      },
      "source": [
        "df1 = pd.DataFrame({'A': ['A0', 'A1', 'A2', 'A3'],\n",
        "                    'B': ['B0', 'B1', 'B2', 'B3'],\n",
        "                    'C': ['C0', 'C1', 'C2', 'C3'],\n",
        "                    'D': ['D0', 'D1', 'D2', 'D3']},\n",
        "                      index=[0, 1, 2, 3])"
      ],
      "execution_count": 44,
      "outputs": []
    },
    {
      "cell_type": "code",
      "metadata": {
        "id": "vyWiPNlR1Wo4",
        "outputId": "b77b8783-57b6-47d0-fde6-326adf6fec09",
        "colab": {
          "base_uri": "https://localhost:8080/",
          "height": 173
        }
      },
      "source": [
        "df1"
      ],
      "execution_count": 45,
      "outputs": [
        {
          "output_type": "execute_result",
          "data": {
            "text/html": [
              "<div>\n",
              "<style scoped>\n",
              "    .dataframe tbody tr th:only-of-type {\n",
              "        vertical-align: middle;\n",
              "    }\n",
              "\n",
              "    .dataframe tbody tr th {\n",
              "        vertical-align: top;\n",
              "    }\n",
              "\n",
              "    .dataframe thead th {\n",
              "        text-align: right;\n",
              "    }\n",
              "</style>\n",
              "<table border=\"1\" class=\"dataframe\">\n",
              "  <thead>\n",
              "    <tr style=\"text-align: right;\">\n",
              "      <th></th>\n",
              "      <th>A</th>\n",
              "      <th>B</th>\n",
              "      <th>C</th>\n",
              "      <th>D</th>\n",
              "    </tr>\n",
              "  </thead>\n",
              "  <tbody>\n",
              "    <tr>\n",
              "      <th>0</th>\n",
              "      <td>A0</td>\n",
              "      <td>B0</td>\n",
              "      <td>C0</td>\n",
              "      <td>D0</td>\n",
              "    </tr>\n",
              "    <tr>\n",
              "      <th>1</th>\n",
              "      <td>A1</td>\n",
              "      <td>B1</td>\n",
              "      <td>C1</td>\n",
              "      <td>D1</td>\n",
              "    </tr>\n",
              "    <tr>\n",
              "      <th>2</th>\n",
              "      <td>A2</td>\n",
              "      <td>B2</td>\n",
              "      <td>C2</td>\n",
              "      <td>D2</td>\n",
              "    </tr>\n",
              "    <tr>\n",
              "      <th>3</th>\n",
              "      <td>A3</td>\n",
              "      <td>B3</td>\n",
              "      <td>C3</td>\n",
              "      <td>D3</td>\n",
              "    </tr>\n",
              "  </tbody>\n",
              "</table>\n",
              "</div>"
            ],
            "text/plain": [
              "    A   B   C   D\n",
              "0  A0  B0  C0  D0\n",
              "1  A1  B1  C1  D1\n",
              "2  A2  B2  C2  D2\n",
              "3  A3  B3  C3  D3"
            ]
          },
          "metadata": {
            "tags": []
          },
          "execution_count": 45
        }
      ]
    },
    {
      "cell_type": "code",
      "metadata": {
        "id": "MfimJ_PPvQIA"
      },
      "source": [
        "df2 = pd.DataFrame({'A': ['A4', 'A5', 'A6', 'A7'],\n",
        "                    'B': ['B4', 'B5', 'B6', 'B7'],\n",
        "                    'C': ['C4', 'C5', 'C6', 'C7'],\n",
        "                    'D': ['D4', 'D5', 'D6', 'D7']},\n",
        "                    index=[4, 5, 6, 7])"
      ],
      "execution_count": 46,
      "outputs": []
    },
    {
      "cell_type": "code",
      "metadata": {
        "id": "dKyIG2MjvQKN",
        "outputId": "d735e33b-495a-4fb3-b3f6-139f9b9bc3c0",
        "colab": {
          "base_uri": "https://localhost:8080/",
          "height": 173
        }
      },
      "source": [
        "df2"
      ],
      "execution_count": 47,
      "outputs": [
        {
          "output_type": "execute_result",
          "data": {
            "text/html": [
              "<div>\n",
              "<style scoped>\n",
              "    .dataframe tbody tr th:only-of-type {\n",
              "        vertical-align: middle;\n",
              "    }\n",
              "\n",
              "    .dataframe tbody tr th {\n",
              "        vertical-align: top;\n",
              "    }\n",
              "\n",
              "    .dataframe thead th {\n",
              "        text-align: right;\n",
              "    }\n",
              "</style>\n",
              "<table border=\"1\" class=\"dataframe\">\n",
              "  <thead>\n",
              "    <tr style=\"text-align: right;\">\n",
              "      <th></th>\n",
              "      <th>A</th>\n",
              "      <th>B</th>\n",
              "      <th>C</th>\n",
              "      <th>D</th>\n",
              "    </tr>\n",
              "  </thead>\n",
              "  <tbody>\n",
              "    <tr>\n",
              "      <th>4</th>\n",
              "      <td>A4</td>\n",
              "      <td>B4</td>\n",
              "      <td>C4</td>\n",
              "      <td>D4</td>\n",
              "    </tr>\n",
              "    <tr>\n",
              "      <th>5</th>\n",
              "      <td>A5</td>\n",
              "      <td>B5</td>\n",
              "      <td>C5</td>\n",
              "      <td>D5</td>\n",
              "    </tr>\n",
              "    <tr>\n",
              "      <th>6</th>\n",
              "      <td>A6</td>\n",
              "      <td>B6</td>\n",
              "      <td>C6</td>\n",
              "      <td>D6</td>\n",
              "    </tr>\n",
              "    <tr>\n",
              "      <th>7</th>\n",
              "      <td>A7</td>\n",
              "      <td>B7</td>\n",
              "      <td>C7</td>\n",
              "      <td>D7</td>\n",
              "    </tr>\n",
              "  </tbody>\n",
              "</table>\n",
              "</div>"
            ],
            "text/plain": [
              "    A   B   C   D\n",
              "4  A4  B4  C4  D4\n",
              "5  A5  B5  C5  D5\n",
              "6  A6  B6  C6  D6\n",
              "7  A7  B7  C7  D7"
            ]
          },
          "metadata": {
            "tags": []
          },
          "execution_count": 47
        }
      ]
    },
    {
      "cell_type": "code",
      "metadata": {
        "id": "wNuUFBsqvQMU"
      },
      "source": [
        "df3 = pd.DataFrame({'A': ['A8', 'A9', 'A10', 'A11'],\n",
        "                    'B': ['B8', 'B9', 'B10', 'B11'],\n",
        "                    'C': ['C8', 'C9', 'C10', 'C11'],\n",
        "                    'D': ['D8', 'D9', 'D10', 'D11']},\n",
        "                     index=[8, 9, 10, 11])"
      ],
      "execution_count": 48,
      "outputs": []
    },
    {
      "cell_type": "code",
      "metadata": {
        "id": "BTmgXXvzvcKq",
        "outputId": "885d6ed2-9213-456c-aef7-3eac48256ece",
        "colab": {
          "base_uri": "https://localhost:8080/",
          "height": 173
        }
      },
      "source": [
        "df3"
      ],
      "execution_count": 49,
      "outputs": [
        {
          "output_type": "execute_result",
          "data": {
            "text/html": [
              "<div>\n",
              "<style scoped>\n",
              "    .dataframe tbody tr th:only-of-type {\n",
              "        vertical-align: middle;\n",
              "    }\n",
              "\n",
              "    .dataframe tbody tr th {\n",
              "        vertical-align: top;\n",
              "    }\n",
              "\n",
              "    .dataframe thead th {\n",
              "        text-align: right;\n",
              "    }\n",
              "</style>\n",
              "<table border=\"1\" class=\"dataframe\">\n",
              "  <thead>\n",
              "    <tr style=\"text-align: right;\">\n",
              "      <th></th>\n",
              "      <th>A</th>\n",
              "      <th>B</th>\n",
              "      <th>C</th>\n",
              "      <th>D</th>\n",
              "    </tr>\n",
              "  </thead>\n",
              "  <tbody>\n",
              "    <tr>\n",
              "      <th>8</th>\n",
              "      <td>A8</td>\n",
              "      <td>B8</td>\n",
              "      <td>C8</td>\n",
              "      <td>D8</td>\n",
              "    </tr>\n",
              "    <tr>\n",
              "      <th>9</th>\n",
              "      <td>A9</td>\n",
              "      <td>B9</td>\n",
              "      <td>C9</td>\n",
              "      <td>D9</td>\n",
              "    </tr>\n",
              "    <tr>\n",
              "      <th>10</th>\n",
              "      <td>A10</td>\n",
              "      <td>B10</td>\n",
              "      <td>C10</td>\n",
              "      <td>D10</td>\n",
              "    </tr>\n",
              "    <tr>\n",
              "      <th>11</th>\n",
              "      <td>A11</td>\n",
              "      <td>B11</td>\n",
              "      <td>C11</td>\n",
              "      <td>D11</td>\n",
              "    </tr>\n",
              "  </tbody>\n",
              "</table>\n",
              "</div>"
            ],
            "text/plain": [
              "      A    B    C    D\n",
              "8    A8   B8   C8   D8\n",
              "9    A9   B9   C9   D9\n",
              "10  A10  B10  C10  D10\n",
              "11  A11  B11  C11  D11"
            ]
          },
          "metadata": {
            "tags": []
          },
          "execution_count": 49
        }
      ]
    },
    {
      "cell_type": "code",
      "metadata": {
        "id": "wI10aNahvcM1",
        "outputId": "19cbae6b-5e62-43fa-da5b-8946063d9788",
        "colab": {
          "base_uri": "https://localhost:8080/",
          "height": 421
        }
      },
      "source": [
        "pd.concat([df1, df2, df3])"
      ],
      "execution_count": 50,
      "outputs": [
        {
          "output_type": "execute_result",
          "data": {
            "text/html": [
              "<div>\n",
              "<style scoped>\n",
              "    .dataframe tbody tr th:only-of-type {\n",
              "        vertical-align: middle;\n",
              "    }\n",
              "\n",
              "    .dataframe tbody tr th {\n",
              "        vertical-align: top;\n",
              "    }\n",
              "\n",
              "    .dataframe thead th {\n",
              "        text-align: right;\n",
              "    }\n",
              "</style>\n",
              "<table border=\"1\" class=\"dataframe\">\n",
              "  <thead>\n",
              "    <tr style=\"text-align: right;\">\n",
              "      <th></th>\n",
              "      <th>A</th>\n",
              "      <th>B</th>\n",
              "      <th>C</th>\n",
              "      <th>D</th>\n",
              "    </tr>\n",
              "  </thead>\n",
              "  <tbody>\n",
              "    <tr>\n",
              "      <th>0</th>\n",
              "      <td>A0</td>\n",
              "      <td>B0</td>\n",
              "      <td>C0</td>\n",
              "      <td>D0</td>\n",
              "    </tr>\n",
              "    <tr>\n",
              "      <th>1</th>\n",
              "      <td>A1</td>\n",
              "      <td>B1</td>\n",
              "      <td>C1</td>\n",
              "      <td>D1</td>\n",
              "    </tr>\n",
              "    <tr>\n",
              "      <th>2</th>\n",
              "      <td>A2</td>\n",
              "      <td>B2</td>\n",
              "      <td>C2</td>\n",
              "      <td>D2</td>\n",
              "    </tr>\n",
              "    <tr>\n",
              "      <th>3</th>\n",
              "      <td>A3</td>\n",
              "      <td>B3</td>\n",
              "      <td>C3</td>\n",
              "      <td>D3</td>\n",
              "    </tr>\n",
              "    <tr>\n",
              "      <th>4</th>\n",
              "      <td>A4</td>\n",
              "      <td>B4</td>\n",
              "      <td>C4</td>\n",
              "      <td>D4</td>\n",
              "    </tr>\n",
              "    <tr>\n",
              "      <th>5</th>\n",
              "      <td>A5</td>\n",
              "      <td>B5</td>\n",
              "      <td>C5</td>\n",
              "      <td>D5</td>\n",
              "    </tr>\n",
              "    <tr>\n",
              "      <th>6</th>\n",
              "      <td>A6</td>\n",
              "      <td>B6</td>\n",
              "      <td>C6</td>\n",
              "      <td>D6</td>\n",
              "    </tr>\n",
              "    <tr>\n",
              "      <th>7</th>\n",
              "      <td>A7</td>\n",
              "      <td>B7</td>\n",
              "      <td>C7</td>\n",
              "      <td>D7</td>\n",
              "    </tr>\n",
              "    <tr>\n",
              "      <th>8</th>\n",
              "      <td>A8</td>\n",
              "      <td>B8</td>\n",
              "      <td>C8</td>\n",
              "      <td>D8</td>\n",
              "    </tr>\n",
              "    <tr>\n",
              "      <th>9</th>\n",
              "      <td>A9</td>\n",
              "      <td>B9</td>\n",
              "      <td>C9</td>\n",
              "      <td>D9</td>\n",
              "    </tr>\n",
              "    <tr>\n",
              "      <th>10</th>\n",
              "      <td>A10</td>\n",
              "      <td>B10</td>\n",
              "      <td>C10</td>\n",
              "      <td>D10</td>\n",
              "    </tr>\n",
              "    <tr>\n",
              "      <th>11</th>\n",
              "      <td>A11</td>\n",
              "      <td>B11</td>\n",
              "      <td>C11</td>\n",
              "      <td>D11</td>\n",
              "    </tr>\n",
              "  </tbody>\n",
              "</table>\n",
              "</div>"
            ],
            "text/plain": [
              "      A    B    C    D\n",
              "0    A0   B0   C0   D0\n",
              "1    A1   B1   C1   D1\n",
              "2    A2   B2   C2   D2\n",
              "3    A3   B3   C3   D3\n",
              "4    A4   B4   C4   D4\n",
              "5    A5   B5   C5   D5\n",
              "6    A6   B6   C6   D6\n",
              "7    A7   B7   C7   D7\n",
              "8    A8   B8   C8   D8\n",
              "9    A9   B9   C9   D9\n",
              "10  A10  B10  C10  D10\n",
              "11  A11  B11  C11  D11"
            ]
          },
          "metadata": {
            "tags": []
          },
          "execution_count": 50
        }
      ]
    },
    {
      "cell_type": "code",
      "metadata": {
        "id": "4_KBD8YGvcRV",
        "outputId": "474013d5-736b-4ead-9640-1d47dbe72f34",
        "colab": {
          "base_uri": "https://localhost:8080/",
          "height": 68
        }
      },
      "source": [
        "# Creating a dataframe from a dictionary\n",
        "# Let's define a dataframe with a list of bank clients with IDs = 1, 2, 3, 4, 5 \n",
        "\n",
        "raw_data = {\"Bank Client ID\": ['1', '2', '3', '4', '5'],\n",
        "            \"First Name\": ['Nancy', 'Alex', 'Shep', 'Max', 'Allen'],\n",
        "            \"Last Name\": ['Rob', 'Ali', 'George', 'Mitch', 'Steve']}\n",
        "raw_data"
      ],
      "execution_count": 51,
      "outputs": [
        {
          "output_type": "execute_result",
          "data": {
            "text/plain": [
              "{'Bank Client ID': ['1', '2', '3', '4', '5'],\n",
              " 'First Name': ['Nancy', 'Alex', 'Shep', 'Max', 'Allen'],\n",
              " 'Last Name': ['Rob', 'Ali', 'George', 'Mitch', 'Steve']}"
            ]
          },
          "metadata": {
            "tags": []
          },
          "execution_count": 51
        }
      ]
    },
    {
      "cell_type": "code",
      "metadata": {
        "id": "bVVjCOCAwubr",
        "outputId": "0d3973c4-0eeb-4164-dcd6-4e92e95e9f27",
        "colab": {
          "base_uri": "https://localhost:8080/",
          "height": 204
        }
      },
      "source": [
        "bank_df_1 = pd.DataFrame(raw_data, columns = ['Bank Client ID', 'First Name', 'Last Name'])\n",
        "bank_df_1"
      ],
      "execution_count": 52,
      "outputs": [
        {
          "output_type": "execute_result",
          "data": {
            "text/html": [
              "<div>\n",
              "<style scoped>\n",
              "    .dataframe tbody tr th:only-of-type {\n",
              "        vertical-align: middle;\n",
              "    }\n",
              "\n",
              "    .dataframe tbody tr th {\n",
              "        vertical-align: top;\n",
              "    }\n",
              "\n",
              "    .dataframe thead th {\n",
              "        text-align: right;\n",
              "    }\n",
              "</style>\n",
              "<table border=\"1\" class=\"dataframe\">\n",
              "  <thead>\n",
              "    <tr style=\"text-align: right;\">\n",
              "      <th></th>\n",
              "      <th>Bank Client ID</th>\n",
              "      <th>First Name</th>\n",
              "      <th>Last Name</th>\n",
              "    </tr>\n",
              "  </thead>\n",
              "  <tbody>\n",
              "    <tr>\n",
              "      <th>0</th>\n",
              "      <td>1</td>\n",
              "      <td>Nancy</td>\n",
              "      <td>Rob</td>\n",
              "    </tr>\n",
              "    <tr>\n",
              "      <th>1</th>\n",
              "      <td>2</td>\n",
              "      <td>Alex</td>\n",
              "      <td>Ali</td>\n",
              "    </tr>\n",
              "    <tr>\n",
              "      <th>2</th>\n",
              "      <td>3</td>\n",
              "      <td>Shep</td>\n",
              "      <td>George</td>\n",
              "    </tr>\n",
              "    <tr>\n",
              "      <th>3</th>\n",
              "      <td>4</td>\n",
              "      <td>Max</td>\n",
              "      <td>Mitch</td>\n",
              "    </tr>\n",
              "    <tr>\n",
              "      <th>4</th>\n",
              "      <td>5</td>\n",
              "      <td>Allen</td>\n",
              "      <td>Steve</td>\n",
              "    </tr>\n",
              "  </tbody>\n",
              "</table>\n",
              "</div>"
            ],
            "text/plain": [
              "  Bank Client ID First Name Last Name\n",
              "0              1      Nancy       Rob\n",
              "1              2       Alex       Ali\n",
              "2              3       Shep    George\n",
              "3              4        Max     Mitch\n",
              "4              5      Allen     Steve"
            ]
          },
          "metadata": {
            "tags": []
          },
          "execution_count": 52
        }
      ]
    },
    {
      "cell_type": "code",
      "metadata": {
        "id": "wq_TBWkvvgNE",
        "outputId": "606a738f-3dfd-4c1b-b479-2c2cf01cff7d",
        "colab": {
          "base_uri": "https://localhost:8080/",
          "height": 204
        }
      },
      "source": [
        "# Let's define another dataframe for a separate list of clients (IDs = 6, 7, 8, 9, 10)\n",
        "raw_data = {\"Bank Client ID\": ['6', '7', '8', '9', '10'],\n",
        "            \"First Name\": ['Bill', 'Dina', 'Sarah', 'Heather', 'Holly'],\n",
        "            \"Last Name\": ['Christian', 'Mo', 'Steve', 'Bob', 'Michelle']}\n",
        "bank_df_2 = pd.DataFrame(raw_data, columns = ['Bank Client ID', 'First Name', 'Last Name'])\n",
        "bank_df_2"
      ],
      "execution_count": 53,
      "outputs": [
        {
          "output_type": "execute_result",
          "data": {
            "text/html": [
              "<div>\n",
              "<style scoped>\n",
              "    .dataframe tbody tr th:only-of-type {\n",
              "        vertical-align: middle;\n",
              "    }\n",
              "\n",
              "    .dataframe tbody tr th {\n",
              "        vertical-align: top;\n",
              "    }\n",
              "\n",
              "    .dataframe thead th {\n",
              "        text-align: right;\n",
              "    }\n",
              "</style>\n",
              "<table border=\"1\" class=\"dataframe\">\n",
              "  <thead>\n",
              "    <tr style=\"text-align: right;\">\n",
              "      <th></th>\n",
              "      <th>Bank Client ID</th>\n",
              "      <th>First Name</th>\n",
              "      <th>Last Name</th>\n",
              "    </tr>\n",
              "  </thead>\n",
              "  <tbody>\n",
              "    <tr>\n",
              "      <th>0</th>\n",
              "      <td>6</td>\n",
              "      <td>Bill</td>\n",
              "      <td>Christian</td>\n",
              "    </tr>\n",
              "    <tr>\n",
              "      <th>1</th>\n",
              "      <td>7</td>\n",
              "      <td>Dina</td>\n",
              "      <td>Mo</td>\n",
              "    </tr>\n",
              "    <tr>\n",
              "      <th>2</th>\n",
              "      <td>8</td>\n",
              "      <td>Sarah</td>\n",
              "      <td>Steve</td>\n",
              "    </tr>\n",
              "    <tr>\n",
              "      <th>3</th>\n",
              "      <td>9</td>\n",
              "      <td>Heather</td>\n",
              "      <td>Bob</td>\n",
              "    </tr>\n",
              "    <tr>\n",
              "      <th>4</th>\n",
              "      <td>10</td>\n",
              "      <td>Holly</td>\n",
              "      <td>Michelle</td>\n",
              "    </tr>\n",
              "  </tbody>\n",
              "</table>\n",
              "</div>"
            ],
            "text/plain": [
              "  Bank Client ID First Name  Last Name\n",
              "0              6       Bill  Christian\n",
              "1              7       Dina         Mo\n",
              "2              8      Sarah      Steve\n",
              "3              9    Heather        Bob\n",
              "4             10      Holly   Michelle"
            ]
          },
          "metadata": {
            "tags": []
          },
          "execution_count": 53
        }
      ]
    },
    {
      "cell_type": "code",
      "metadata": {
        "id": "zRgyJPjivgPZ",
        "outputId": "a59e851a-59f2-489e-836a-e604a69384cf",
        "colab": {
          "base_uri": "https://localhost:8080/",
          "height": 359
        }
      },
      "source": [
        "# Let's assume we obtained additional information (Annual Salary) about our bank customers \n",
        "# Note that data obtained is for all clients with IDs 1 to 10\n",
        "raw_data = {'Bank Client ID': ['1', '2', '3', '4', '5', '6', '7', '8', '9', '10'],\n",
        "             \"Annual Salary [$/year]\": [25000, 35000, 45000, 48000, 49000, 32000, 33000, 34000, 23000, 22000]}\n",
        "bank_df_salary = pd.DataFrame(raw_data, columns = ['Bank Client ID', 'Annual Salary [$/year]'])\n",
        "bank_df_salary"
      ],
      "execution_count": 54,
      "outputs": [
        {
          "output_type": "execute_result",
          "data": {
            "text/html": [
              "<div>\n",
              "<style scoped>\n",
              "    .dataframe tbody tr th:only-of-type {\n",
              "        vertical-align: middle;\n",
              "    }\n",
              "\n",
              "    .dataframe tbody tr th {\n",
              "        vertical-align: top;\n",
              "    }\n",
              "\n",
              "    .dataframe thead th {\n",
              "        text-align: right;\n",
              "    }\n",
              "</style>\n",
              "<table border=\"1\" class=\"dataframe\">\n",
              "  <thead>\n",
              "    <tr style=\"text-align: right;\">\n",
              "      <th></th>\n",
              "      <th>Bank Client ID</th>\n",
              "      <th>Annual Salary [$/year]</th>\n",
              "    </tr>\n",
              "  </thead>\n",
              "  <tbody>\n",
              "    <tr>\n",
              "      <th>0</th>\n",
              "      <td>1</td>\n",
              "      <td>25000</td>\n",
              "    </tr>\n",
              "    <tr>\n",
              "      <th>1</th>\n",
              "      <td>2</td>\n",
              "      <td>35000</td>\n",
              "    </tr>\n",
              "    <tr>\n",
              "      <th>2</th>\n",
              "      <td>3</td>\n",
              "      <td>45000</td>\n",
              "    </tr>\n",
              "    <tr>\n",
              "      <th>3</th>\n",
              "      <td>4</td>\n",
              "      <td>48000</td>\n",
              "    </tr>\n",
              "    <tr>\n",
              "      <th>4</th>\n",
              "      <td>5</td>\n",
              "      <td>49000</td>\n",
              "    </tr>\n",
              "    <tr>\n",
              "      <th>5</th>\n",
              "      <td>6</td>\n",
              "      <td>32000</td>\n",
              "    </tr>\n",
              "    <tr>\n",
              "      <th>6</th>\n",
              "      <td>7</td>\n",
              "      <td>33000</td>\n",
              "    </tr>\n",
              "    <tr>\n",
              "      <th>7</th>\n",
              "      <td>8</td>\n",
              "      <td>34000</td>\n",
              "    </tr>\n",
              "    <tr>\n",
              "      <th>8</th>\n",
              "      <td>9</td>\n",
              "      <td>23000</td>\n",
              "    </tr>\n",
              "    <tr>\n",
              "      <th>9</th>\n",
              "      <td>10</td>\n",
              "      <td>22000</td>\n",
              "    </tr>\n",
              "  </tbody>\n",
              "</table>\n",
              "</div>"
            ],
            "text/plain": [
              "  Bank Client ID  Annual Salary [$/year]\n",
              "0              1                   25000\n",
              "1              2                   35000\n",
              "2              3                   45000\n",
              "3              4                   48000\n",
              "4              5                   49000\n",
              "5              6                   32000\n",
              "6              7                   33000\n",
              "7              8                   34000\n",
              "8              9                   23000\n",
              "9             10                   22000"
            ]
          },
          "metadata": {
            "tags": []
          },
          "execution_count": 54
        }
      ]
    },
    {
      "cell_type": "code",
      "metadata": {
        "id": "i2X65wc0vidf",
        "outputId": "bcf4845c-c845-4786-e42f-3f33b337172d",
        "colab": {
          "base_uri": "https://localhost:8080/",
          "height": 359
        }
      },
      "source": [
        "# Let's concatenate both dataframes #1 and #2\n",
        "# Note that we now have client IDs from 1 to 10\n",
        "bank_df_all = pd.concat([bank_df_1, bank_df_2])\n",
        "bank_df_all"
      ],
      "execution_count": 55,
      "outputs": [
        {
          "output_type": "execute_result",
          "data": {
            "text/html": [
              "<div>\n",
              "<style scoped>\n",
              "    .dataframe tbody tr th:only-of-type {\n",
              "        vertical-align: middle;\n",
              "    }\n",
              "\n",
              "    .dataframe tbody tr th {\n",
              "        vertical-align: top;\n",
              "    }\n",
              "\n",
              "    .dataframe thead th {\n",
              "        text-align: right;\n",
              "    }\n",
              "</style>\n",
              "<table border=\"1\" class=\"dataframe\">\n",
              "  <thead>\n",
              "    <tr style=\"text-align: right;\">\n",
              "      <th></th>\n",
              "      <th>Bank Client ID</th>\n",
              "      <th>First Name</th>\n",
              "      <th>Last Name</th>\n",
              "    </tr>\n",
              "  </thead>\n",
              "  <tbody>\n",
              "    <tr>\n",
              "      <th>0</th>\n",
              "      <td>1</td>\n",
              "      <td>Nancy</td>\n",
              "      <td>Rob</td>\n",
              "    </tr>\n",
              "    <tr>\n",
              "      <th>1</th>\n",
              "      <td>2</td>\n",
              "      <td>Alex</td>\n",
              "      <td>Ali</td>\n",
              "    </tr>\n",
              "    <tr>\n",
              "      <th>2</th>\n",
              "      <td>3</td>\n",
              "      <td>Shep</td>\n",
              "      <td>George</td>\n",
              "    </tr>\n",
              "    <tr>\n",
              "      <th>3</th>\n",
              "      <td>4</td>\n",
              "      <td>Max</td>\n",
              "      <td>Mitch</td>\n",
              "    </tr>\n",
              "    <tr>\n",
              "      <th>4</th>\n",
              "      <td>5</td>\n",
              "      <td>Allen</td>\n",
              "      <td>Steve</td>\n",
              "    </tr>\n",
              "    <tr>\n",
              "      <th>0</th>\n",
              "      <td>6</td>\n",
              "      <td>Bill</td>\n",
              "      <td>Christian</td>\n",
              "    </tr>\n",
              "    <tr>\n",
              "      <th>1</th>\n",
              "      <td>7</td>\n",
              "      <td>Dina</td>\n",
              "      <td>Mo</td>\n",
              "    </tr>\n",
              "    <tr>\n",
              "      <th>2</th>\n",
              "      <td>8</td>\n",
              "      <td>Sarah</td>\n",
              "      <td>Steve</td>\n",
              "    </tr>\n",
              "    <tr>\n",
              "      <th>3</th>\n",
              "      <td>9</td>\n",
              "      <td>Heather</td>\n",
              "      <td>Bob</td>\n",
              "    </tr>\n",
              "    <tr>\n",
              "      <th>4</th>\n",
              "      <td>10</td>\n",
              "      <td>Holly</td>\n",
              "      <td>Michelle</td>\n",
              "    </tr>\n",
              "  </tbody>\n",
              "</table>\n",
              "</div>"
            ],
            "text/plain": [
              "  Bank Client ID First Name  Last Name\n",
              "0              1      Nancy        Rob\n",
              "1              2       Alex        Ali\n",
              "2              3       Shep     George\n",
              "3              4        Max      Mitch\n",
              "4              5      Allen      Steve\n",
              "0              6       Bill  Christian\n",
              "1              7       Dina         Mo\n",
              "2              8      Sarah      Steve\n",
              "3              9    Heather        Bob\n",
              "4             10      Holly   Michelle"
            ]
          },
          "metadata": {
            "tags": []
          },
          "execution_count": 55
        }
      ]
    },
    {
      "cell_type": "code",
      "metadata": {
        "id": "9bgjH8mkvQOY",
        "outputId": "e47a43de-48d8-4fe4-9cdb-cf9814a6d12d",
        "colab": {
          "base_uri": "https://localhost:8080/",
          "height": 359
        }
      },
      "source": [
        "# Let's merge all data on 'Bank Client ID'\n",
        "pd.merge(bank_df_all, bank_df_salary, how='inner')"
      ],
      "execution_count": 56,
      "outputs": [
        {
          "output_type": "execute_result",
          "data": {
            "text/html": [
              "<div>\n",
              "<style scoped>\n",
              "    .dataframe tbody tr th:only-of-type {\n",
              "        vertical-align: middle;\n",
              "    }\n",
              "\n",
              "    .dataframe tbody tr th {\n",
              "        vertical-align: top;\n",
              "    }\n",
              "\n",
              "    .dataframe thead th {\n",
              "        text-align: right;\n",
              "    }\n",
              "</style>\n",
              "<table border=\"1\" class=\"dataframe\">\n",
              "  <thead>\n",
              "    <tr style=\"text-align: right;\">\n",
              "      <th></th>\n",
              "      <th>Bank Client ID</th>\n",
              "      <th>First Name</th>\n",
              "      <th>Last Name</th>\n",
              "      <th>Annual Salary [$/year]</th>\n",
              "    </tr>\n",
              "  </thead>\n",
              "  <tbody>\n",
              "    <tr>\n",
              "      <th>0</th>\n",
              "      <td>1</td>\n",
              "      <td>Nancy</td>\n",
              "      <td>Rob</td>\n",
              "      <td>25000</td>\n",
              "    </tr>\n",
              "    <tr>\n",
              "      <th>1</th>\n",
              "      <td>2</td>\n",
              "      <td>Alex</td>\n",
              "      <td>Ali</td>\n",
              "      <td>35000</td>\n",
              "    </tr>\n",
              "    <tr>\n",
              "      <th>2</th>\n",
              "      <td>3</td>\n",
              "      <td>Shep</td>\n",
              "      <td>George</td>\n",
              "      <td>45000</td>\n",
              "    </tr>\n",
              "    <tr>\n",
              "      <th>3</th>\n",
              "      <td>4</td>\n",
              "      <td>Max</td>\n",
              "      <td>Mitch</td>\n",
              "      <td>48000</td>\n",
              "    </tr>\n",
              "    <tr>\n",
              "      <th>4</th>\n",
              "      <td>5</td>\n",
              "      <td>Allen</td>\n",
              "      <td>Steve</td>\n",
              "      <td>49000</td>\n",
              "    </tr>\n",
              "    <tr>\n",
              "      <th>5</th>\n",
              "      <td>6</td>\n",
              "      <td>Bill</td>\n",
              "      <td>Christian</td>\n",
              "      <td>32000</td>\n",
              "    </tr>\n",
              "    <tr>\n",
              "      <th>6</th>\n",
              "      <td>7</td>\n",
              "      <td>Dina</td>\n",
              "      <td>Mo</td>\n",
              "      <td>33000</td>\n",
              "    </tr>\n",
              "    <tr>\n",
              "      <th>7</th>\n",
              "      <td>8</td>\n",
              "      <td>Sarah</td>\n",
              "      <td>Steve</td>\n",
              "      <td>34000</td>\n",
              "    </tr>\n",
              "    <tr>\n",
              "      <th>8</th>\n",
              "      <td>9</td>\n",
              "      <td>Heather</td>\n",
              "      <td>Bob</td>\n",
              "      <td>23000</td>\n",
              "    </tr>\n",
              "    <tr>\n",
              "      <th>9</th>\n",
              "      <td>10</td>\n",
              "      <td>Holly</td>\n",
              "      <td>Michelle</td>\n",
              "      <td>22000</td>\n",
              "    </tr>\n",
              "  </tbody>\n",
              "</table>\n",
              "</div>"
            ],
            "text/plain": [
              "  Bank Client ID First Name  Last Name  Annual Salary [$/year]\n",
              "0              1      Nancy        Rob                   25000\n",
              "1              2       Alex        Ali                   35000\n",
              "2              3       Shep     George                   45000\n",
              "3              4        Max      Mitch                   48000\n",
              "4              5      Allen      Steve                   49000\n",
              "5              6       Bill  Christian                   32000\n",
              "6              7       Dina         Mo                   33000\n",
              "7              8      Sarah      Steve                   34000\n",
              "8              9    Heather        Bob                   23000\n",
              "9             10      Holly   Michelle                   22000"
            ]
          },
          "metadata": {
            "tags": []
          },
          "execution_count": 56
        }
      ]
    },
    {
      "cell_type": "markdown",
      "metadata": {
        "id": "Wm5PRpCM-2pK"
      },
      "source": [
        "**MINI CHALLENGE #6:**\n",
        "- **Let's assume that you became a new client to the bank**\n",
        "- **Define a new DataFrame that contains your information such as client ID (choose 11), first name, last name, and annual salary.**\n",
        "- **Add this new dataframe to the original dataframe \"bank_df_all\".** "
      ]
    },
    {
      "cell_type": "code",
      "metadata": {
        "id": "WpoFZeCt_g0c"
      },
      "source": [
        "new_client = {'Bank Client ID': ['11'], 'First Name': [\"Ryan\"], 'Last Name': [\"Aly\"], \"Annual Salary [$/year]\": [8000]}"
      ],
      "execution_count": 57,
      "outputs": []
    },
    {
      "cell_type": "code",
      "metadata": {
        "id": "WcmoZpFt0-fW",
        "outputId": "fc62e886-56dc-4d07-d721-dfe2c285e506",
        "colab": {
          "base_uri": "https://localhost:8080/",
          "height": 80
        }
      },
      "source": [
        "new_client_df = pd.DataFrame(new_client, columns = [\"Bank Client ID\", \"First Name\", \"Last Name\", \"Annual Salary [$/year]\"])\n",
        "new_client_df"
      ],
      "execution_count": 58,
      "outputs": [
        {
          "output_type": "execute_result",
          "data": {
            "text/html": [
              "<div>\n",
              "<style scoped>\n",
              "    .dataframe tbody tr th:only-of-type {\n",
              "        vertical-align: middle;\n",
              "    }\n",
              "\n",
              "    .dataframe tbody tr th {\n",
              "        vertical-align: top;\n",
              "    }\n",
              "\n",
              "    .dataframe thead th {\n",
              "        text-align: right;\n",
              "    }\n",
              "</style>\n",
              "<table border=\"1\" class=\"dataframe\">\n",
              "  <thead>\n",
              "    <tr style=\"text-align: right;\">\n",
              "      <th></th>\n",
              "      <th>Bank Client ID</th>\n",
              "      <th>First Name</th>\n",
              "      <th>Last Name</th>\n",
              "      <th>Annual Salary [$/year]</th>\n",
              "    </tr>\n",
              "  </thead>\n",
              "  <tbody>\n",
              "    <tr>\n",
              "      <th>0</th>\n",
              "      <td>11</td>\n",
              "      <td>Ryan</td>\n",
              "      <td>Aly</td>\n",
              "      <td>8000</td>\n",
              "    </tr>\n",
              "  </tbody>\n",
              "</table>\n",
              "</div>"
            ],
            "text/plain": [
              "  Bank Client ID First Name Last Name  Annual Salary [$/year]\n",
              "0             11       Ryan       Aly                    8000"
            ]
          },
          "metadata": {
            "tags": []
          },
          "execution_count": 58
        }
      ]
    },
    {
      "cell_type": "code",
      "metadata": {
        "id": "XQiP3NFy1Jbi",
        "outputId": "7a2e2800-6c05-494b-f492-cc73658dbd18",
        "colab": {
          "base_uri": "https://localhost:8080/",
          "height": 390
        }
      },
      "source": [
        "new_df = pd.concat([bank_df_all, new_client_df], axis=0)\n",
        "new_df.reset_index(drop=True)"
      ],
      "execution_count": 59,
      "outputs": [
        {
          "output_type": "execute_result",
          "data": {
            "text/html": [
              "<div>\n",
              "<style scoped>\n",
              "    .dataframe tbody tr th:only-of-type {\n",
              "        vertical-align: middle;\n",
              "    }\n",
              "\n",
              "    .dataframe tbody tr th {\n",
              "        vertical-align: top;\n",
              "    }\n",
              "\n",
              "    .dataframe thead th {\n",
              "        text-align: right;\n",
              "    }\n",
              "</style>\n",
              "<table border=\"1\" class=\"dataframe\">\n",
              "  <thead>\n",
              "    <tr style=\"text-align: right;\">\n",
              "      <th></th>\n",
              "      <th>Bank Client ID</th>\n",
              "      <th>First Name</th>\n",
              "      <th>Last Name</th>\n",
              "      <th>Annual Salary [$/year]</th>\n",
              "    </tr>\n",
              "  </thead>\n",
              "  <tbody>\n",
              "    <tr>\n",
              "      <th>0</th>\n",
              "      <td>1</td>\n",
              "      <td>Nancy</td>\n",
              "      <td>Rob</td>\n",
              "      <td>NaN</td>\n",
              "    </tr>\n",
              "    <tr>\n",
              "      <th>1</th>\n",
              "      <td>2</td>\n",
              "      <td>Alex</td>\n",
              "      <td>Ali</td>\n",
              "      <td>NaN</td>\n",
              "    </tr>\n",
              "    <tr>\n",
              "      <th>2</th>\n",
              "      <td>3</td>\n",
              "      <td>Shep</td>\n",
              "      <td>George</td>\n",
              "      <td>NaN</td>\n",
              "    </tr>\n",
              "    <tr>\n",
              "      <th>3</th>\n",
              "      <td>4</td>\n",
              "      <td>Max</td>\n",
              "      <td>Mitch</td>\n",
              "      <td>NaN</td>\n",
              "    </tr>\n",
              "    <tr>\n",
              "      <th>4</th>\n",
              "      <td>5</td>\n",
              "      <td>Allen</td>\n",
              "      <td>Steve</td>\n",
              "      <td>NaN</td>\n",
              "    </tr>\n",
              "    <tr>\n",
              "      <th>5</th>\n",
              "      <td>6</td>\n",
              "      <td>Bill</td>\n",
              "      <td>Christian</td>\n",
              "      <td>NaN</td>\n",
              "    </tr>\n",
              "    <tr>\n",
              "      <th>6</th>\n",
              "      <td>7</td>\n",
              "      <td>Dina</td>\n",
              "      <td>Mo</td>\n",
              "      <td>NaN</td>\n",
              "    </tr>\n",
              "    <tr>\n",
              "      <th>7</th>\n",
              "      <td>8</td>\n",
              "      <td>Sarah</td>\n",
              "      <td>Steve</td>\n",
              "      <td>NaN</td>\n",
              "    </tr>\n",
              "    <tr>\n",
              "      <th>8</th>\n",
              "      <td>9</td>\n",
              "      <td>Heather</td>\n",
              "      <td>Bob</td>\n",
              "      <td>NaN</td>\n",
              "    </tr>\n",
              "    <tr>\n",
              "      <th>9</th>\n",
              "      <td>10</td>\n",
              "      <td>Holly</td>\n",
              "      <td>Michelle</td>\n",
              "      <td>NaN</td>\n",
              "    </tr>\n",
              "    <tr>\n",
              "      <th>10</th>\n",
              "      <td>11</td>\n",
              "      <td>Ryan</td>\n",
              "      <td>Aly</td>\n",
              "      <td>8000.0</td>\n",
              "    </tr>\n",
              "  </tbody>\n",
              "</table>\n",
              "</div>"
            ],
            "text/plain": [
              "   Bank Client ID First Name  Last Name  Annual Salary [$/year]\n",
              "0               1      Nancy        Rob                     NaN\n",
              "1               2       Alex        Ali                     NaN\n",
              "2               3       Shep     George                     NaN\n",
              "3               4        Max      Mitch                     NaN\n",
              "4               5      Allen      Steve                     NaN\n",
              "5               6       Bill  Christian                     NaN\n",
              "6               7       Dina         Mo                     NaN\n",
              "7               8      Sarah      Steve                     NaN\n",
              "8               9    Heather        Bob                     NaN\n",
              "9              10      Holly   Michelle                     NaN\n",
              "10             11       Ryan        Aly                  8000.0"
            ]
          },
          "metadata": {
            "tags": []
          },
          "execution_count": 59
        }
      ]
    },
    {
      "cell_type": "markdown",
      "metadata": {
        "id": "i1gJS3K7vlxd"
      },
      "source": [
        "# EXCELLENT JOB!"
      ]
    },
    {
      "cell_type": "markdown",
      "metadata": {
        "id": "MF2SdJZ_vn4z"
      },
      "source": [
        "# MINI CHALLENGE SOLUTIONS"
      ]
    },
    {
      "cell_type": "markdown",
      "metadata": {
        "id": "Y6fUsXPv1Wom"
      },
      "source": [
        "**MINI CHALLENGE #1 SOLUTION:**\n",
        "- **A porfolio contains a collection of securities such as stocks, bonds and ETFs. Define a dataframe named 'portfolio_df' that holds 3 different stock ticker symbols, number of shares, and price per share (feel free to choose any stocks)**\n",
        "- **Calculate the total value of the porfolio including all stocks**"
      ]
    },
    {
      "cell_type": "code",
      "metadata": {
        "id": "8pftwyY81Wos",
        "outputId": "5959e19e-919b-4401-d523-c9039d162e67",
        "colab": {
          "base_uri": "https://localhost:8080/",
          "height": 142
        }
      },
      "source": [
        "portfolio_df = pd.DataFrame({'stock ticker symbols':['AAPL', 'AMZN', 'T'],\n",
        "                             'price per share [$]':[3500, 200, 40], \n",
        "                             'Number of stocks':[3, 4, 9]})\n",
        "portfolio_df"
      ],
      "execution_count": 60,
      "outputs": [
        {
          "output_type": "execute_result",
          "data": {
            "text/html": [
              "<div>\n",
              "<style scoped>\n",
              "    .dataframe tbody tr th:only-of-type {\n",
              "        vertical-align: middle;\n",
              "    }\n",
              "\n",
              "    .dataframe tbody tr th {\n",
              "        vertical-align: top;\n",
              "    }\n",
              "\n",
              "    .dataframe thead th {\n",
              "        text-align: right;\n",
              "    }\n",
              "</style>\n",
              "<table border=\"1\" class=\"dataframe\">\n",
              "  <thead>\n",
              "    <tr style=\"text-align: right;\">\n",
              "      <th></th>\n",
              "      <th>stock ticker symbols</th>\n",
              "      <th>price per share [$]</th>\n",
              "      <th>Number of stocks</th>\n",
              "    </tr>\n",
              "  </thead>\n",
              "  <tbody>\n",
              "    <tr>\n",
              "      <th>0</th>\n",
              "      <td>AAPL</td>\n",
              "      <td>3500</td>\n",
              "      <td>3</td>\n",
              "    </tr>\n",
              "    <tr>\n",
              "      <th>1</th>\n",
              "      <td>AMZN</td>\n",
              "      <td>200</td>\n",
              "      <td>4</td>\n",
              "    </tr>\n",
              "    <tr>\n",
              "      <th>2</th>\n",
              "      <td>T</td>\n",
              "      <td>40</td>\n",
              "      <td>9</td>\n",
              "    </tr>\n",
              "  </tbody>\n",
              "</table>\n",
              "</div>"
            ],
            "text/plain": [
              "  stock ticker symbols  price per share [$]  Number of stocks\n",
              "0                 AAPL                 3500                 3\n",
              "1                 AMZN                  200                 4\n",
              "2                    T                   40                 9"
            ]
          },
          "metadata": {
            "tags": []
          },
          "execution_count": 60
        }
      ]
    },
    {
      "cell_type": "code",
      "metadata": {
        "id": "zTgj_BoE1Woy",
        "outputId": "262dd6c3-e85f-40fe-d017-fa6d35be372c",
        "colab": {
          "base_uri": "https://localhost:8080/",
          "height": 102
        }
      },
      "source": [
        "stocks_dollar_value = portfolio_df['price per share [$]'] * portfolio_df['Number of stocks']\n",
        "print(stocks_dollar_value)\n",
        "print('Total portfolio value = {}'.format(stocks_dollar_value.sum()))"
      ],
      "execution_count": 61,
      "outputs": [
        {
          "output_type": "stream",
          "text": [
            "0    10500\n",
            "1      800\n",
            "2      360\n",
            "dtype: int64\n",
            "Total portfolio value = 11660\n"
          ],
          "name": "stdout"
        }
      ]
    },
    {
      "cell_type": "markdown",
      "metadata": {
        "id": "5YQ1rFW723fN"
      },
      "source": [
        "**MINI CHALLENGE #2 SOLUTION:**\n",
        "- **Write a code that uses Pandas to read tabular US retirement data**\n",
        "- **You can use data from here: https://www.ssa.gov/oact/progdata/nra.html** "
      ]
    },
    {
      "cell_type": "code",
      "metadata": {
        "id": "mmWTN7yD23fQ",
        "outputId": "63f23478-a56b-4994-b7b0-e0e1b7d587de",
        "colab": {
          "base_uri": "https://localhost:8080/",
          "height": 272
        }
      },
      "source": [
        "# Read tabular data using read_html\n",
        "retirement_age_df = pd.read_html('https://www.ssa.gov/oact/progdata/nra.html')\n",
        "retirement_age_df"
      ],
      "execution_count": 62,
      "outputs": [
        {
          "output_type": "execute_result",
          "data": {
            "text/plain": [
              "[                                        Year of birth                                                Age\n",
              " 0                                      1937 and prior                                                 65\n",
              " 1                                                1938                                    65 and 2 months\n",
              " 2                                                1939                                    65 and 4 months\n",
              " 3                                                1940                                    65 and 6 months\n",
              " 4                                                1941                                    65 and 8 months\n",
              " 5                                                1942                                   65 and 10 months\n",
              " 6                                             1943-54                                                 66\n",
              " 7                                                1955                                    66 and 2 months\n",
              " 8                                                1956                                    66 and 4 months\n",
              " 9                                                1957                                    66 and 6 months\n",
              " 10                                               1958                                    66 and 8 months\n",
              " 11                                               1959                                   66 and 10 months\n",
              " 12                                     1960 and later                                                 67\n",
              " 13  Notes: 1. Persons born on January 1 of any yea...  Notes: 1. Persons born on January 1 of any yea...]"
            ]
          },
          "metadata": {
            "tags": []
          },
          "execution_count": 62
        }
      ]
    },
    {
      "cell_type": "markdown",
      "metadata": {
        "id": "qN1gAggk4QvE"
      },
      "source": [
        "**MINI CHALLENGE #3 SOLUTION:**\n",
        "- **Using \"bank_client_df\" DataFrame, leverage pandas operations to only select high networth individuals with minimum $5000** \n",
        "- **What is the combined networth for all customers with 5000+ networth?**"
      ]
    },
    {
      "cell_type": "code",
      "metadata": {
        "id": "CSN32b-o4QvG",
        "outputId": "cb1bef58-1d37-44bf-f65e-f6f861c165d3",
        "colab": {
          "base_uri": "https://localhost:8080/",
          "height": 111
        }
      },
      "source": [
        "df_high_networth = bank_client_df[ (bank_client_df['Net worth [$]'] >= 5000) ]\n",
        "df_high_networth"
      ],
      "execution_count": 63,
      "outputs": [
        {
          "output_type": "execute_result",
          "data": {
            "text/html": [
              "<div>\n",
              "<style scoped>\n",
              "    .dataframe tbody tr th:only-of-type {\n",
              "        vertical-align: middle;\n",
              "    }\n",
              "\n",
              "    .dataframe tbody tr th {\n",
              "        vertical-align: top;\n",
              "    }\n",
              "\n",
              "    .dataframe thead th {\n",
              "        text-align: right;\n",
              "    }\n",
              "</style>\n",
              "<table border=\"1\" class=\"dataframe\">\n",
              "  <thead>\n",
              "    <tr style=\"text-align: right;\">\n",
              "      <th></th>\n",
              "      <th>Bank client ID</th>\n",
              "      <th>Bank Client Name</th>\n",
              "      <th>Net worth [$]</th>\n",
              "      <th>Years with bank</th>\n",
              "    </tr>\n",
              "  </thead>\n",
              "  <tbody>\n",
              "    <tr>\n",
              "      <th>2</th>\n",
              "      <td>333</td>\n",
              "      <td>Mitch</td>\n",
              "      <td>10000</td>\n",
              "      <td>9</td>\n",
              "    </tr>\n",
              "    <tr>\n",
              "      <th>1</th>\n",
              "      <td>222</td>\n",
              "      <td>Steve</td>\n",
              "      <td>29000</td>\n",
              "      <td>4</td>\n",
              "    </tr>\n",
              "  </tbody>\n",
              "</table>\n",
              "</div>"
            ],
            "text/plain": [
              "   Bank client ID Bank Client Name  Net worth [$]  Years with bank\n",
              "2             333            Mitch          10000                9\n",
              "1             222            Steve          29000                4"
            ]
          },
          "metadata": {
            "tags": []
          },
          "execution_count": 63
        }
      ]
    },
    {
      "cell_type": "code",
      "metadata": {
        "id": "8x2FQdmp4QvN",
        "outputId": "249e71fc-70fe-4340-c681-da0649b2adb7",
        "colab": {
          "base_uri": "https://localhost:8080/",
          "height": 34
        }
      },
      "source": [
        "df_high_networth['Net worth [$]'].sum()"
      ],
      "execution_count": 64,
      "outputs": [
        {
          "output_type": "execute_result",
          "data": {
            "text/plain": [
              "39000"
            ]
          },
          "metadata": {
            "tags": []
          },
          "execution_count": 64
        }
      ]
    },
    {
      "cell_type": "code",
      "metadata": {
        "id": "zubS-MOi6O-y"
      },
      "source": [
        ""
      ],
      "execution_count": 64,
      "outputs": []
    },
    {
      "cell_type": "markdown",
      "metadata": {
        "id": "T3xpj-hW6PYi"
      },
      "source": [
        "**MINI CHALLENGE #4 SOLUTION:**\n",
        "- **Define a function that doubles stock prices and adds $100**\n",
        "- **Apply the function to the DataFrame**\n",
        "- **Calculate the updated total networth of all clients combined**"
      ]
    },
    {
      "cell_type": "code",
      "metadata": {
        "id": "S8O56b_W6PYk"
      },
      "source": [
        "def networth_update(balance):\n",
        "    return balance * 2 + 100 # assume that stock prices increased by 10%"
      ],
      "execution_count": 65,
      "outputs": []
    },
    {
      "cell_type": "code",
      "metadata": {
        "id": "r2crG2yx6PYt",
        "outputId": "ccfe46d9-27bd-434a-8ab7-83d5b50b4b32",
        "colab": {
          "base_uri": "https://localhost:8080/",
          "height": 102
        }
      },
      "source": [
        "# You can apply a function to the DataFrame \n",
        "results = bank_client_df['Net worth [$]'].apply(networth_update)\n",
        "results"
      ],
      "execution_count": 66,
      "outputs": [
        {
          "output_type": "execute_result",
          "data": {
            "text/plain": [
              "3     4100\n",
              "0     7100\n",
              "2    20100\n",
              "1    58100\n",
              "Name: Net worth [$], dtype: int64"
            ]
          },
          "metadata": {
            "tags": []
          },
          "execution_count": 66
        }
      ]
    },
    {
      "cell_type": "code",
      "metadata": {
        "id": "SAzpFD5Y6PY1",
        "outputId": "3ecf7ed1-89ec-4e5f-f2ec-d65fdaa46ea1",
        "colab": {
          "base_uri": "https://localhost:8080/",
          "height": 34
        }
      },
      "source": [
        "results.sum()"
      ],
      "execution_count": 67,
      "outputs": [
        {
          "output_type": "execute_result",
          "data": {
            "text/plain": [
              "89400"
            ]
          },
          "metadata": {
            "tags": []
          },
          "execution_count": 67
        }
      ]
    },
    {
      "cell_type": "markdown",
      "metadata": {
        "id": "Trx36mNb62JX"
      },
      "source": [
        "**MINI CHALLENGE #5 SOLUTION:**\n",
        "- **Sort customers by networth instead of years with bank. Make sure to update values in-memory.**"
      ]
    },
    {
      "cell_type": "code",
      "metadata": {
        "id": "b4nvA-VQ62Ja",
        "outputId": "68af3e25-5241-435e-f3b1-9921fdbfc914",
        "colab": {
          "base_uri": "https://localhost:8080/",
          "height": 173
        }
      },
      "source": [
        "# You can sort the values in the dataframe according to number of years with bank\n",
        "bank_client_df.sort_values(by = 'Net worth [$]', inplace = True) \n",
        "bank_client_df"
      ],
      "execution_count": 68,
      "outputs": [
        {
          "output_type": "execute_result",
          "data": {
            "text/html": [
              "<div>\n",
              "<style scoped>\n",
              "    .dataframe tbody tr th:only-of-type {\n",
              "        vertical-align: middle;\n",
              "    }\n",
              "\n",
              "    .dataframe tbody tr th {\n",
              "        vertical-align: top;\n",
              "    }\n",
              "\n",
              "    .dataframe thead th {\n",
              "        text-align: right;\n",
              "    }\n",
              "</style>\n",
              "<table border=\"1\" class=\"dataframe\">\n",
              "  <thead>\n",
              "    <tr style=\"text-align: right;\">\n",
              "      <th></th>\n",
              "      <th>Bank client ID</th>\n",
              "      <th>Bank Client Name</th>\n",
              "      <th>Net worth [$]</th>\n",
              "      <th>Years with bank</th>\n",
              "    </tr>\n",
              "  </thead>\n",
              "  <tbody>\n",
              "    <tr>\n",
              "      <th>3</th>\n",
              "      <td>444</td>\n",
              "      <td>Ryan</td>\n",
              "      <td>2000</td>\n",
              "      <td>5</td>\n",
              "    </tr>\n",
              "    <tr>\n",
              "      <th>0</th>\n",
              "      <td>111</td>\n",
              "      <td>Chanel</td>\n",
              "      <td>3500</td>\n",
              "      <td>3</td>\n",
              "    </tr>\n",
              "    <tr>\n",
              "      <th>2</th>\n",
              "      <td>333</td>\n",
              "      <td>Mitch</td>\n",
              "      <td>10000</td>\n",
              "      <td>9</td>\n",
              "    </tr>\n",
              "    <tr>\n",
              "      <th>1</th>\n",
              "      <td>222</td>\n",
              "      <td>Steve</td>\n",
              "      <td>29000</td>\n",
              "      <td>4</td>\n",
              "    </tr>\n",
              "  </tbody>\n",
              "</table>\n",
              "</div>"
            ],
            "text/plain": [
              "   Bank client ID Bank Client Name  Net worth [$]  Years with bank\n",
              "3             444             Ryan           2000                5\n",
              "0             111           Chanel           3500                3\n",
              "2             333            Mitch          10000                9\n",
              "1             222            Steve          29000                4"
            ]
          },
          "metadata": {
            "tags": []
          },
          "execution_count": 68
        }
      ]
    },
    {
      "cell_type": "markdown",
      "metadata": {
        "id": "i83R6Kvb_cGZ"
      },
      "source": [
        "**MINI CHALLENGE #6 SOLUTION:**\n",
        "- **Let's assume that you became a new client to the bank**\n",
        "- **Define a new DataFrame that contains your information such as client ID (choose 11), first name, last name, and annual salary.**\n",
        "- **Add this new dataframe to the original dataframe \"bank_df_all\".** "
      ]
    },
    {
      "cell_type": "code",
      "metadata": {
        "id": "YmxlF6op_cGc",
        "outputId": "623a9c43-fac8-45aa-a14f-d991ce573c9c",
        "colab": {
          "base_uri": "https://localhost:8080/",
          "height": 80
        }
      },
      "source": [
        "new_client = {\n",
        "        'Bank Client ID': ['11'],\n",
        "        'First Name': ['Ry'], \n",
        "        'Last Name': ['Aly'],\n",
        "        'Annual Salary [$/year]' : [1000]}\n",
        "new_client_df = pd.DataFrame(new_client, columns = ['Bank Client ID', 'First Name', 'Last Name', 'Annual Salary [$/year]'])\n",
        "new_client_df"
      ],
      "execution_count": 69,
      "outputs": [
        {
          "output_type": "execute_result",
          "data": {
            "text/html": [
              "<div>\n",
              "<style scoped>\n",
              "    .dataframe tbody tr th:only-of-type {\n",
              "        vertical-align: middle;\n",
              "    }\n",
              "\n",
              "    .dataframe tbody tr th {\n",
              "        vertical-align: top;\n",
              "    }\n",
              "\n",
              "    .dataframe thead th {\n",
              "        text-align: right;\n",
              "    }\n",
              "</style>\n",
              "<table border=\"1\" class=\"dataframe\">\n",
              "  <thead>\n",
              "    <tr style=\"text-align: right;\">\n",
              "      <th></th>\n",
              "      <th>Bank Client ID</th>\n",
              "      <th>First Name</th>\n",
              "      <th>Last Name</th>\n",
              "      <th>Annual Salary [$/year]</th>\n",
              "    </tr>\n",
              "  </thead>\n",
              "  <tbody>\n",
              "    <tr>\n",
              "      <th>0</th>\n",
              "      <td>11</td>\n",
              "      <td>Ry</td>\n",
              "      <td>Aly</td>\n",
              "      <td>1000</td>\n",
              "    </tr>\n",
              "  </tbody>\n",
              "</table>\n",
              "</div>"
            ],
            "text/plain": [
              "  Bank Client ID First Name Last Name  Annual Salary [$/year]\n",
              "0             11         Ry       Aly                    1000"
            ]
          },
          "metadata": {
            "tags": []
          },
          "execution_count": 69
        }
      ]
    },
    {
      "cell_type": "code",
      "metadata": {
        "id": "dhOKOcVR_cGl",
        "outputId": "5d10e6da-e1a3-463e-f3b9-4a595f3dcc9e",
        "colab": {
          "base_uri": "https://localhost:8080/",
          "height": 390
        }
      },
      "source": [
        "new_df = pd.concat([bank_df_all, new_client_df], axis = 0)\n",
        "new_df"
      ],
      "execution_count": 70,
      "outputs": [
        {
          "output_type": "execute_result",
          "data": {
            "text/html": [
              "<div>\n",
              "<style scoped>\n",
              "    .dataframe tbody tr th:only-of-type {\n",
              "        vertical-align: middle;\n",
              "    }\n",
              "\n",
              "    .dataframe tbody tr th {\n",
              "        vertical-align: top;\n",
              "    }\n",
              "\n",
              "    .dataframe thead th {\n",
              "        text-align: right;\n",
              "    }\n",
              "</style>\n",
              "<table border=\"1\" class=\"dataframe\">\n",
              "  <thead>\n",
              "    <tr style=\"text-align: right;\">\n",
              "      <th></th>\n",
              "      <th>Bank Client ID</th>\n",
              "      <th>First Name</th>\n",
              "      <th>Last Name</th>\n",
              "      <th>Annual Salary [$/year]</th>\n",
              "    </tr>\n",
              "  </thead>\n",
              "  <tbody>\n",
              "    <tr>\n",
              "      <th>0</th>\n",
              "      <td>1</td>\n",
              "      <td>Nancy</td>\n",
              "      <td>Rob</td>\n",
              "      <td>NaN</td>\n",
              "    </tr>\n",
              "    <tr>\n",
              "      <th>1</th>\n",
              "      <td>2</td>\n",
              "      <td>Alex</td>\n",
              "      <td>Ali</td>\n",
              "      <td>NaN</td>\n",
              "    </tr>\n",
              "    <tr>\n",
              "      <th>2</th>\n",
              "      <td>3</td>\n",
              "      <td>Shep</td>\n",
              "      <td>George</td>\n",
              "      <td>NaN</td>\n",
              "    </tr>\n",
              "    <tr>\n",
              "      <th>3</th>\n",
              "      <td>4</td>\n",
              "      <td>Max</td>\n",
              "      <td>Mitch</td>\n",
              "      <td>NaN</td>\n",
              "    </tr>\n",
              "    <tr>\n",
              "      <th>4</th>\n",
              "      <td>5</td>\n",
              "      <td>Allen</td>\n",
              "      <td>Steve</td>\n",
              "      <td>NaN</td>\n",
              "    </tr>\n",
              "    <tr>\n",
              "      <th>0</th>\n",
              "      <td>6</td>\n",
              "      <td>Bill</td>\n",
              "      <td>Christian</td>\n",
              "      <td>NaN</td>\n",
              "    </tr>\n",
              "    <tr>\n",
              "      <th>1</th>\n",
              "      <td>7</td>\n",
              "      <td>Dina</td>\n",
              "      <td>Mo</td>\n",
              "      <td>NaN</td>\n",
              "    </tr>\n",
              "    <tr>\n",
              "      <th>2</th>\n",
              "      <td>8</td>\n",
              "      <td>Sarah</td>\n",
              "      <td>Steve</td>\n",
              "      <td>NaN</td>\n",
              "    </tr>\n",
              "    <tr>\n",
              "      <th>3</th>\n",
              "      <td>9</td>\n",
              "      <td>Heather</td>\n",
              "      <td>Bob</td>\n",
              "      <td>NaN</td>\n",
              "    </tr>\n",
              "    <tr>\n",
              "      <th>4</th>\n",
              "      <td>10</td>\n",
              "      <td>Holly</td>\n",
              "      <td>Michelle</td>\n",
              "      <td>NaN</td>\n",
              "    </tr>\n",
              "    <tr>\n",
              "      <th>0</th>\n",
              "      <td>11</td>\n",
              "      <td>Ry</td>\n",
              "      <td>Aly</td>\n",
              "      <td>1000.0</td>\n",
              "    </tr>\n",
              "  </tbody>\n",
              "</table>\n",
              "</div>"
            ],
            "text/plain": [
              "  Bank Client ID First Name  Last Name  Annual Salary [$/year]\n",
              "0              1      Nancy        Rob                     NaN\n",
              "1              2       Alex        Ali                     NaN\n",
              "2              3       Shep     George                     NaN\n",
              "3              4        Max      Mitch                     NaN\n",
              "4              5      Allen      Steve                     NaN\n",
              "0              6       Bill  Christian                     NaN\n",
              "1              7       Dina         Mo                     NaN\n",
              "2              8      Sarah      Steve                     NaN\n",
              "3              9    Heather        Bob                     NaN\n",
              "4             10      Holly   Michelle                     NaN\n",
              "0             11         Ry        Aly                  1000.0"
            ]
          },
          "metadata": {
            "tags": []
          },
          "execution_count": 70
        }
      ]
    }
  ]
}